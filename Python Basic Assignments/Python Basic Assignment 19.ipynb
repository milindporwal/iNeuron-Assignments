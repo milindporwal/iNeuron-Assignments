{
 "cells": [
  {
   "cell_type": "markdown",
   "id": "56b2cccf",
   "metadata": {},
   "source": [
    "1. Make a class called Thing with no contents and print it.\n",
    "Then, create an object called example from this class and also print it.\n",
    "Are the printed values the same or different?"
   ]
  },
  {
   "cell_type": "code",
   "execution_count": 1,
   "id": "5dcff6bf",
   "metadata": {},
   "outputs": [
    {
     "name": "stdout",
     "output_type": "stream",
     "text": [
      "<class '__main__.Thing'>\n",
      "<__main__.Thing object at 0x000002765A5C53A0>\n"
     ]
    }
   ],
   "source": [
    "#Ans.\n",
    "class Thing:\n",
    "    pass\n",
    "print(Thing)\n",
    "\n",
    "example = Thing()\n",
    "print(example)"
   ]
  },
  {
   "cell_type": "markdown",
   "id": "7d139ec6",
   "metadata": {},
   "source": [
    "The printed values are different. 'Thing' is a class and 'example' is an object created using it."
   ]
  },
  {
   "cell_type": "markdown",
   "id": "78392962",
   "metadata": {},
   "source": [
    "2. Create a new class called Thing2 and add the value 'abc' to the letters class attribute. Letters should be printed."
   ]
  },
  {
   "cell_type": "code",
   "execution_count": 2,
   "id": "bf2a7e4b",
   "metadata": {},
   "outputs": [
    {
     "data": {
      "text/plain": [
       "'abc'"
      ]
     },
     "execution_count": 2,
     "metadata": {},
     "output_type": "execute_result"
    }
   ],
   "source": [
    "#Ans.\n",
    "class Thing2:\n",
    "    def __init__(self):\n",
    "        self.letters = 'abc'\n",
    "\n",
    "thing_obj2 = Thing2()\n",
    "thing_obj2.letters "
   ]
  },
  {
   "cell_type": "markdown",
   "id": "8a44913c",
   "metadata": {},
   "source": [
    "3. Make yet another class called, of course, Thing3. This time, assign the value 'xyz' to an instance (object) attribute called letters. Print letters. Do you need to make an object from the class to do this?"
   ]
  },
  {
   "cell_type": "code",
   "execution_count": 3,
   "id": "5b7d3da0",
   "metadata": {},
   "outputs": [
    {
     "name": "stdout",
     "output_type": "stream",
     "text": [
      "xyz\n"
     ]
    }
   ],
   "source": [
    "#Ans.\n",
    "class Thing3:\n",
    "    def __init__(self, letter):\n",
    "        self.letter = letter\n",
    "\n",
    "thing_obj3 = Thing3('xyz')\n",
    "print(thing_obj3.letter)"
   ]
  },
  {
   "cell_type": "markdown",
   "id": "34a4c39c",
   "metadata": {},
   "source": [
    "Yes, we need to make an object from the class to access the instance attribute"
   ]
  },
  {
   "cell_type": "markdown",
   "id": "f67b6434",
   "metadata": {},
   "source": [
    "4. Create an Element class with the instance attributes name, symbol, and number. Create a class object with the values 'Hydrogen,' 'H,' and 1."
   ]
  },
  {
   "cell_type": "code",
   "execution_count": 4,
   "id": "4acfb8a0",
   "metadata": {},
   "outputs": [
    {
     "name": "stdout",
     "output_type": "stream",
     "text": [
      "Hydrogen\n",
      "H\n",
      "1\n"
     ]
    }
   ],
   "source": [
    "#Ans.\n",
    "class Element:\n",
    "    def __init__(self, name, symbol, number):\n",
    "        # Assigns values to elements\n",
    "        self.name = name\n",
    "        self.symbol = symbol\n",
    "        self.number = number\n",
    "\n",
    "obj = Element(\"Hydrogen\", \"H\", 1)\n",
    "print(obj.name)\n",
    "print(obj.symbol)\n",
    "print(obj.number)"
   ]
  },
  {
   "cell_type": "markdown",
   "id": "f2fc3907",
   "metadata": {},
   "source": [
    "5. Make a dictionary with these keys and values: 'name': 'Hydrogen', 'symbol': 'H', 'number': 1. Then, create an object called hydrogen from class Element using this dictionary."
   ]
  },
  {
   "cell_type": "code",
   "execution_count": 5,
   "id": "d9dbc12e",
   "metadata": {},
   "outputs": [
    {
     "name": "stdout",
     "output_type": "stream",
     "text": [
      "Hydrogen\n",
      "H\n",
      "1\n"
     ]
    }
   ],
   "source": [
    "#Ans.\n",
    "d = {'name': 'Hydrogen', 'symbol': 'H', 'number': 1}\n",
    "\n",
    "class Element:\n",
    "    def __init__(self, name, symbol, number):\n",
    "        \"\"\"assigns values to elements\"\"\"\n",
    "        self.name = name\n",
    "        self.symbol = symbol\n",
    "        self.number = number\n",
    "\n",
    "obj = Element(d['name'], d['symbol'], d['number'])\n",
    "print(obj.name)\n",
    "print(obj.symbol)\n",
    "print(obj.number)"
   ]
  },
  {
   "cell_type": "markdown",
   "id": "9b228c37",
   "metadata": {},
   "source": [
    "6. For the Element class, define a method called dump() that prints the values of the object’s attributes (name, symbol, and number). Create the hydrogen object from this new definition and use dump() to print its attributes."
   ]
  },
  {
   "cell_type": "code",
   "execution_count": 6,
   "id": "d476e7ca",
   "metadata": {},
   "outputs": [
    {
     "name": "stdout",
     "output_type": "stream",
     "text": [
      "name : Hydrogen, symbol : H, number : 1\n"
     ]
    }
   ],
   "source": [
    "#Ans.\n",
    "class Element:\n",
    "    def __init__(self, name, symbol, number):\n",
    "        # Assigning values to elements\n",
    "        self.name = name\n",
    "        self.symbol = symbol\n",
    "        self.number = number\n",
    "    def dump(self):\n",
    "        # Printing attributes of elements\n",
    "        print(f\"name : {self.name}, symbol : {self.symbol}, number : {self.number}\")\n",
    "\n",
    "hydrogen = Element(\"Hydrogen\", \"H\", 1)\n",
    "hydrogen.dump()"
   ]
  },
  {
   "cell_type": "markdown",
   "id": "4691d8ac",
   "metadata": {},
   "source": [
    "7. Call print(hydrogen). In the definition of Element, change the name of method dump to __str__, create a new hydrogen object, and call print(hydrogen) again."
   ]
  },
  {
   "cell_type": "code",
   "execution_count": 7,
   "id": "de1ee307",
   "metadata": {},
   "outputs": [],
   "source": [
    "#Ans.\n",
    "class Element:\n",
    "    def __init__(self, name, symbol, number):\n",
    "        # Assigning value to elements\n",
    "        self.name = name\n",
    "        self.symbol = symbol\n",
    "        self.number = number\n",
    "    def dump(self):\n",
    "        # Printing attributes of elements\n",
    "        print(f\"name : {self.name}, symbol : {self.symbol}, number : {self.number}\")\n",
    "\n",
    "hydrogen = Element(\"Hydrogen\", \"H\", 1)"
   ]
  },
  {
   "cell_type": "code",
   "execution_count": 8,
   "id": "d5d700e1",
   "metadata": {},
   "outputs": [
    {
     "name": "stdout",
     "output_type": "stream",
     "text": [
      "<__main__.Element object at 0x000002765A6219A0>\n"
     ]
    }
   ],
   "source": [
    "print(hydrogen)"
   ]
  },
  {
   "cell_type": "code",
   "execution_count": 9,
   "id": "47f83bdd",
   "metadata": {},
   "outputs": [],
   "source": [
    "class Element:\n",
    "    def __init__(self, name, symbol, number):\n",
    "        # Assigning values to elements\n",
    "        self.name = name\n",
    "        self.symbol = symbol\n",
    "        self.number = number\n",
    "        \n",
    "    def __str__(self): # returns a string representation of object\n",
    "        # Printing attributes of elements\n",
    "        return f\"name : {self.name}, symbol : {self.symbol}, number : {self.number}\"\n",
    "\n",
    "hydrogen = Element(\"Hydrogen\", \"H\", 1)"
   ]
  },
  {
   "cell_type": "code",
   "execution_count": 10,
   "id": "324dc55e",
   "metadata": {},
   "outputs": [
    {
     "name": "stdout",
     "output_type": "stream",
     "text": [
      "name : Hydrogen, symbol : H, number : 1\n"
     ]
    }
   ],
   "source": [
    "print(hydrogen)"
   ]
  },
  {
   "cell_type": "markdown",
   "id": "9021179b",
   "metadata": {},
   "source": [
    "This is helpful when we want to provide a customized string representation of our objects.\n",
    "This is mostly used when we are developing a class that is meant to be used by other developers."
   ]
  },
  {
   "cell_type": "markdown",
   "id": "90c9a70b",
   "metadata": {},
   "source": [
    "8. Modify Element to make the attributes name, symbol, and number private. Define a getter property for each to return its value."
   ]
  },
  {
   "cell_type": "code",
   "execution_count": 11,
   "id": "8d343e92",
   "metadata": {},
   "outputs": [
    {
     "name": "stdout",
     "output_type": "stream",
     "text": [
      "Hydrogen\n",
      "H\n",
      "1\n"
     ]
    }
   ],
   "source": [
    "#Ans.\n",
    "class Element:\n",
    "    def __init__(self, name, symbol, number):\n",
    "        # Assigning values to elements\n",
    "        self.__name = name\n",
    "        self.__symbol = symbol\n",
    "        self.__number = number\n",
    "    \n",
    "    @property # Decorator \n",
    "    def name(self):\n",
    "        # getter method for name attribute\n",
    "        return self.__name\n",
    "    \n",
    "    @property\n",
    "    def symbol(self):\n",
    "        # getter method for symbol attribute\n",
    "        return self.__symbol\n",
    "    \n",
    "    @property\n",
    "    def number(self):\n",
    "        # getter method for number attribute\n",
    "        return self.__number\n",
    "    \n",
    "    def dump(self):\n",
    "        # Printing properties of element\n",
    "        print(f\"name : {self.name}, symbol : {self.symbol}, number : {self.number}\")\n",
    "\n",
    "\n",
    "hydrogen = Element(\"Hydrogen\", \"H\", 1)\n",
    "\n",
    "# Accessing private attributes using getter methods\n",
    "print(hydrogen.name)    \n",
    "print(hydrogen.symbol)  \n",
    "print(hydrogen.number)  "
   ]
  },
  {
   "cell_type": "markdown",
   "id": "307a44a1",
   "metadata": {},
   "source": [
    "9. Define three classes: Bear, Rabbit, and Octothorpe. For each, define only one method: eats(). This should return 'berries' (Bear), 'clover' (Rabbit), or 'campers' (Octothorpe). Create one object from each and print what it eats."
   ]
  },
  {
   "cell_type": "code",
   "execution_count": 12,
   "id": "7943282e",
   "metadata": {},
   "outputs": [
    {
     "name": "stdout",
     "output_type": "stream",
     "text": [
      "Bear eats berries\n",
      "Rabbit eats clover\n",
      "Octothorpe eats campers\n"
     ]
    }
   ],
   "source": [
    "#Ans.\n",
    "class Bear:\n",
    "    def eats(self):\n",
    "        return 'berries'\n",
    "\n",
    "class Rabbit:\n",
    "    def eats(self):\n",
    "        return 'clover'\n",
    "\n",
    "class Octothorpe:\n",
    "    def eats(self):\n",
    "        return 'campers'\n",
    "\n",
    "# Creating instances of each class\n",
    "bear = Bear()\n",
    "rabbit = Rabbit()\n",
    "octothorpe = Octothorpe()\n",
    "\n",
    "# Printing what each animal eats\n",
    "print(\"Bear eats\", bear.eats())\n",
    "print(\"Rabbit eats\", rabbit.eats())\n",
    "print(\"Octothorpe eats\", octothorpe.eats())"
   ]
  },
  {
   "cell_type": "markdown",
   "id": "66f8fc9a",
   "metadata": {},
   "source": [
    "10. Define these classes: Laser, Claw, and SmartPhone. Each has only one method: does(). This returns 'disintegrate' (Laser), 'crush' (Claw), or 'ring' (SmartPhone). Then, define the class Robot that has one instance (object) of each of these. Define a does() method for the Robot that prints what its component objects do."
   ]
  },
  {
   "cell_type": "code",
   "execution_count": 13,
   "id": "1cfa1b90",
   "metadata": {},
   "outputs": [
    {
     "name": "stdout",
     "output_type": "stream",
     "text": [
      "disintegrate\n",
      "crush\n",
      "ring\n"
     ]
    }
   ],
   "source": [
    "class Laser:\n",
    "    def does(self):\n",
    "        return \"disintegrate\"\n",
    "class Claw:\n",
    "    def does(self):\n",
    "        return \"crush\"\n",
    "class SmartPhone:\n",
    "    def does(self):\n",
    "        return \"ring\"\n",
    "# Create a Robot class:\n",
    "class Robot:\n",
    "    def does(self):\n",
    "        laser = Laser()\n",
    "        claw  = Claw()\n",
    "        smartphone = SmartPhone()\n",
    "        print(laser.does())\n",
    "        print(claw.does())\n",
    "        print(smartphone.does())\n",
    "robo = Robot()\n",
    "robo.does()"
   ]
  },
  {
   "cell_type": "code",
   "execution_count": null,
   "id": "3f025539",
   "metadata": {},
   "outputs": [],
   "source": []
  }
 ],
 "metadata": {
  "kernelspec": {
   "display_name": "Python 3",
   "language": "python",
   "name": "python3"
  },
  "language_info": {
   "codemirror_mode": {
    "name": "ipython",
    "version": 3
   },
   "file_extension": ".py",
   "mimetype": "text/x-python",
   "name": "python",
   "nbconvert_exporter": "python",
   "pygments_lexer": "ipython3",
   "version": "3.8.8"
  }
 },
 "nbformat": 4,
 "nbformat_minor": 5
}
