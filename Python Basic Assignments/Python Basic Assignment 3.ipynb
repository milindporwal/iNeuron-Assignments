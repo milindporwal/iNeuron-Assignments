{
 "cells": [
  {
   "cell_type": "markdown",
   "id": "dda25c5d",
   "metadata": {},
   "source": [
    "1. Why are functions advantageous to have in your programs?"
   ]
  },
  {
   "cell_type": "markdown",
   "id": "797a1888",
   "metadata": {},
   "source": [
    "Ans. Functions are advantageous because of following reasons:\n",
    "    1. Functions allows us to reuse code and make it more modular.\n",
    "    2. Functions help in code organization and readability.\n",
    "    3. They enable you to break down complex tasks into smaller, manageable pieces.\n",
    "    4. Functions can be tested and debugged separately, which enhances code maintainability."
   ]
  },
  {
   "cell_type": "markdown",
   "id": "bca0afc6",
   "metadata": {},
   "source": [
    "2. When does the code in a function run: when it's specified or when it's called?"
   ]
  },
  {
   "cell_type": "markdown",
   "id": "bb2dd293",
   "metadata": {},
   "source": [
    "Ans. Code in a funtion runs when it is called, not when the function is specified."
   ]
  },
  {
   "cell_type": "markdown",
   "id": "f5ff38d9",
   "metadata": {},
   "source": [
    "3. What statement creates a function?"
   ]
  },
  {
   "cell_type": "markdown",
   "id": "85e70fb3",
   "metadata": {},
   "source": [
    "Ans. The def statement creates a new function in python."
   ]
  },
  {
   "cell_type": "markdown",
   "id": "b106b224",
   "metadata": {},
   "source": [
    "4. What is the difference between a function and a function call?"
   ]
  },
  {
   "cell_type": "markdown",
   "id": "10ef0517",
   "metadata": {},
   "source": [
    "Ans. Function: Function is a block of code that we write inside a def statement.\n",
    "     Function call: The function call is a method that we use to run the code within the function."
   ]
  },
  {
   "cell_type": "markdown",
   "id": "ed046f6a",
   "metadata": {},
   "source": [
    "5. How many global scopes are there in a Python program? How many local scopes?"
   ]
  },
  {
   "cell_type": "markdown",
   "id": "ae95fce2",
   "metadata": {},
   "source": [
    "Ans. There is only one global scope in a Python program.\n",
    "    Local scopes are created whenever a function is called, so the number of local scopes depends on the number of function calls.\n",
    "Global Scope: A global scope refers to the main body of a program and is defined outside of all functions. Variables defined in the global scope are called global variables and are accessible from anywhere in the program, including inside functions. To declare a global variable in Python, you use the global keyword in front of the variable name.\n",
    "\n",
    "Local Scope: A local scope refers to the variables defined inside a function. Variables defined in the local scope are called local variables, and they are only accessible within the function in which they are defined. When a function is called, a new local scope is created, and when the function returns, the local scope is destroyed."
   ]
  },
  {
   "cell_type": "markdown",
   "id": "a5de7454",
   "metadata": {},
   "source": [
    "6. What happens to variables in a local scope when the function call returns?"
   ]
  },
  {
   "cell_type": "markdown",
   "id": "255ba361",
   "metadata": {},
   "source": [
    "Ans. When a function returns, the local scope is destroyed, and all the variables in it are forgotten."
   ]
  },
  {
   "cell_type": "markdown",
   "id": "7eea0354",
   "metadata": {},
   "source": [
    "7. What is the concept of a return value? Is it possible to have a return value in an expression?"
   ]
  },
  {
   "cell_type": "markdown",
   "id": "bb3e614c",
   "metadata": {},
   "source": [
    "Ans. Return value is the value that we get after executing the function.\n",
    "We use return keyword to get the value.\n",
    "We can assign this value to a variable or we can use it as parameter for another function, Hence we can definiyely use return value in expression also."
   ]
  },
  {
   "cell_type": "code",
   "execution_count": 2,
   "id": "e17048be",
   "metadata": {},
   "outputs": [
    {
     "name": "stdout",
     "output_type": "stream",
     "text": [
      "125\n"
     ]
    }
   ],
   "source": [
    "# Example:\n",
    "def sqr(n):\n",
    "    return n * n\n",
    "\n",
    "area = sqr(5) + sqr(10)  #we can see that we are using return value in this expression.\n",
    "\n",
    "print(area)"
   ]
  },
  {
   "cell_type": "markdown",
   "id": "f641aa2c",
   "metadata": {},
   "source": [
    "8. If a function does not have a return statement, what is the return value of a call to that function?"
   ]
  },
  {
   "cell_type": "markdown",
   "id": "03f3eeda",
   "metadata": {},
   "source": [
    "Ans. If a function does not have a return statement, the function will return None."
   ]
  },
  {
   "cell_type": "markdown",
   "id": "6b56dfae",
   "metadata": {},
   "source": [
    "9. How do you make a function variable refer to the global variable?"
   ]
  },
  {
   "cell_type": "markdown",
   "id": "b4f5fa8a",
   "metadata": {},
   "source": [
    "Ans. A global statement will force a variable in a function to refer to the global variable.\n",
    "If we want to refer to a global variable in a function, then we can use the global keyword to declare which variables are global.\n",
    "This allows the function to access and modify the global variable instead of creating a new local variable with the same name."
   ]
  },
  {
   "cell_type": "markdown",
   "id": "8eb6d6f0",
   "metadata": {},
   "source": [
    "10. What is the data type of None?"
   ]
  },
  {
   "cell_type": "markdown",
   "id": "3ac4e2f7",
   "metadata": {},
   "source": [
    "Ans. The data type of None is NoneType."
   ]
  },
  {
   "cell_type": "markdown",
   "id": "9d931487",
   "metadata": {},
   "source": [
    "11. What does the sentence import areallyourpetsnamederic do?"
   ]
  },
  {
   "cell_type": "code",
   "execution_count": 3,
   "id": "7c6f713b",
   "metadata": {},
   "outputs": [
    {
     "ename": "ModuleNotFoundError",
     "evalue": "No module named 'areallyourpetsnamederic'",
     "output_type": "error",
     "traceback": [
      "\u001b[1;31m---------------------------------------------------------------------------\u001b[0m",
      "\u001b[1;31mModuleNotFoundError\u001b[0m                       Traceback (most recent call last)",
      "\u001b[1;32m<ipython-input-3-b1ea9cb2228f>\u001b[0m in \u001b[0;36m<module>\u001b[1;34m\u001b[0m\n\u001b[1;32m----> 1\u001b[1;33m \u001b[1;32mimport\u001b[0m \u001b[0mareallyourpetsnamederic\u001b[0m\u001b[1;33m\u001b[0m\u001b[1;33m\u001b[0m\u001b[0m\n\u001b[0m",
      "\u001b[1;31mModuleNotFoundError\u001b[0m: No module named 'areallyourpetsnamederic'"
     ]
    }
   ],
   "source": [
    "#Ans.\n",
    "import areallyourpetsnamederic"
   ]
  },
  {
   "cell_type": "markdown",
   "id": "f560b236",
   "metadata": {},
   "source": [
    "We do not have such module in python so it is raising an exception.\n",
    "By using import keyword we can access different modules in python."
   ]
  },
  {
   "cell_type": "markdown",
   "id": "3190e578",
   "metadata": {},
   "source": [
    "12. If you had a bacon() feature in a spam module, what would you call it after importing spam?"
   ]
  },
  {
   "cell_type": "markdown",
   "id": "ea47c213",
   "metadata": {},
   "source": [
    "Ans. This function can be called with spam.bacon()"
   ]
  },
  {
   "cell_type": "markdown",
   "id": "3e9401ad",
   "metadata": {},
   "source": [
    "13. What can you do to save a programme from crashing if it encounters an error?"
   ]
  },
  {
   "cell_type": "markdown",
   "id": "2e8ff3ef",
   "metadata": {},
   "source": [
    "Ans.\n",
    "1. We can try Debugging our code. As python shows which line is giving error so we can trace that error and resolve it.\n",
    "2. We can use try using exception handling. By writing our code in try and except, we can prevent our code from crashing."
   ]
  },
  {
   "cell_type": "markdown",
   "id": "7d06f996",
   "metadata": {},
   "source": [
    "14. What is the purpose of the try clause? What is the purpose of the except clause?"
   ]
  },
  {
   "cell_type": "markdown",
   "id": "092015b5",
   "metadata": {},
   "source": [
    "Ans.\n",
    "The code that could potentially cause an error goes in the try clause.\n",
    "The code that executes if an error happens goes in the except clause."
   ]
  }
 ],
 "metadata": {
  "kernelspec": {
   "display_name": "Python 3",
   "language": "python",
   "name": "python3"
  },
  "language_info": {
   "codemirror_mode": {
    "name": "ipython",
    "version": 3
   },
   "file_extension": ".py",
   "mimetype": "text/x-python",
   "name": "python",
   "nbconvert_exporter": "python",
   "pygments_lexer": "ipython3",
   "version": "3.8.8"
  }
 },
 "nbformat": 4,
 "nbformat_minor": 5
}
