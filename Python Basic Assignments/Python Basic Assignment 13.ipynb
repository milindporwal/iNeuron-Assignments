{
 "cells": [
  {
   "cell_type": "markdown",
   "id": "f092fb56",
   "metadata": {},
   "source": [
    "1. What advantages do Excel spreadsheets have over CSV spreadsheets?"
   ]
  },
  {
   "cell_type": "markdown",
   "id": "8d3d7f4d",
   "metadata": {},
   "source": [
    "Ans.\n",
    "The Advantages of Excel over CSV are as follows:\n",
    "-Excel (XLS and XLSX) file formats are better for storing and analysing complex data.\n",
    "-An Excel not only stores data but can also do operations on the data using macros, formulas etc.\n",
    "-CSV files are simple text files, that do not contain formatting, formulas, macros, etc."
   ]
  },
  {
   "cell_type": "markdown",
   "id": "43193886",
   "metadata": {},
   "source": [
    "2.What do you pass to csv.reader() and csv.writer() to create reader and writer objects?"
   ]
  },
  {
   "cell_type": "markdown",
   "id": "bb33a6fe",
   "metadata": {},
   "source": [
    "Ans.\n",
    "To create a writer object in the csv module, you need to pass a file object and a list of fieldnames (optional) to the csv.writer() function.\n",
    "The file object can be created using the built-in open() function with the \"w\" mode to open the file for writing."
   ]
  },
  {
   "cell_type": "code",
   "execution_count": 1,
   "id": "4315d0ea",
   "metadata": {},
   "outputs": [],
   "source": [
    "import csv\n",
    "with open('test.csv', 'w', newline='') as file:\n",
    "    writer = csv.writer(file)\n",
    "    writer.writerow(['Name', 'Weight', 'City'])\n",
    "    writer.writerow(['Vikas', 68, 'Mumbai'])\n",
    "    writer.writerow(['Rohit', 76, 'Delhi'])"
   ]
  },
  {
   "cell_type": "markdown",
   "id": "a9a6e606",
   "metadata": {},
   "source": [
    "To create a reader object in the csv module in Python, you need to pass a file object containing the CSV data to the csv.reader() function."
   ]
  },
  {
   "cell_type": "code",
   "execution_count": 3,
   "id": "7619850b",
   "metadata": {},
   "outputs": [
    {
     "name": "stdout",
     "output_type": "stream",
     "text": [
      "['Name', 'Weight', 'City']\n",
      "['Vikas', '68', 'Mumbai']\n",
      "['Rohit', '76', 'Delhi']\n"
     ]
    }
   ],
   "source": [
    "import csv\n",
    "with open('test.csv', 'r') as file:\n",
    "    reader = csv.reader(file)\n",
    "    for i in reader:\n",
    "        print(i)"
   ]
  },
  {
   "cell_type": "markdown",
   "id": "5a5fa476",
   "metadata": {},
   "source": [
    "3. What modes do File objects for reader and writer objects need to be opened in?"
   ]
  },
  {
   "cell_type": "markdown",
   "id": "4feadc7b",
   "metadata": {},
   "source": [
    "Ans.\n",
    "The file object used to create a csv.reader() should be opened in 'r' mode (read mode).\n",
    "The file object used to create a csv.writer() should be opened in 'w' mode (write mode)."
   ]
  },
  {
   "cell_type": "markdown",
   "id": "601eda25",
   "metadata": {},
   "source": [
    "4. What method takes a list argument and writes it to a CSV file?"
   ]
  },
  {
   "cell_type": "code",
   "execution_count": 4,
   "id": "c3aa4293",
   "metadata": {},
   "outputs": [],
   "source": [
    "#Ans.\n",
    "import csv\n",
    "data = [['Name', 'Weight', 'City'], ['Vikas', '68', 'Mumbai'], ['Rohit', '76', 'Delhi']]\n",
    "with open('test2.csv', 'w', newline='') as file:\n",
    "    writer = csv.writer(file)\n",
    "    for i in range(len(data)):\n",
    "        writer.writerow(data[i])"
   ]
  },
  {
   "cell_type": "markdown",
   "id": "49aadf59",
   "metadata": {},
   "source": [
    "5. What do the keyword arguments delimiter and line terminator do?"
   ]
  },
  {
   "cell_type": "markdown",
   "id": "7456ac5a",
   "metadata": {},
   "source": [
    "Ans.\n",
    "Suppose there is a csv file which contains following data:\n",
    "\n",
    "Name, Weight, City\n",
    "\n",
    "Vikas, 68, Mumbai\n",
    "\n",
    "Rohit, 76, Delhi\n",
    "\n",
    "Here ',' is Delimiter.\n",
    "We can use any Character as per our needs if required.\n",
    "Similarly line Terminator comes at end of line by default it is newline and can be changed accourding to Requirement."
   ]
  },
  {
   "cell_type": "markdown",
   "id": "e487f531",
   "metadata": {},
   "source": [
    "6. What function takes a string of JSON data and returns a Python data structure?"
   ]
  },
  {
   "cell_type": "markdown",
   "id": "8bb1d9e5",
   "metadata": {},
   "source": [
    "Ans.\n",
    "The json.loads() function in Python takes a string of JSON data and converts it into a corresponding Python data structure."
   ]
  },
  {
   "cell_type": "code",
   "execution_count": 7,
   "id": "222c06c7",
   "metadata": {},
   "outputs": [
    {
     "name": "stdout",
     "output_type": "stream",
     "text": [
      "[1, 2, 3, 4, 5, 6, 7, 8]\n"
     ]
    },
    {
     "data": {
      "text/plain": [
       "list"
      ]
     },
     "execution_count": 7,
     "metadata": {},
     "output_type": "execute_result"
    }
   ],
   "source": [
    "import json\n",
    "\n",
    "json_data = '[1,2,3,4,5,6,7,8]'\n",
    "python_data = json.loads(json_data)\n",
    "\n",
    "print(python_data)\n",
    "type(python_data)"
   ]
  },
  {
   "cell_type": "markdown",
   "id": "b25d6d25",
   "metadata": {},
   "source": [
    "7. What function takes a Python data structure and returns a string of JSON data?"
   ]
  },
  {
   "cell_type": "markdown",
   "id": "455b8e8e",
   "metadata": {},
   "source": [
    "Ans.\n",
    "The json.dumps() function in Python takes a Python data structure and converts it into a corresponding string of JSON data."
   ]
  },
  {
   "cell_type": "code",
   "execution_count": 8,
   "id": "f5772210",
   "metadata": {},
   "outputs": [
    {
     "name": "stdout",
     "output_type": "stream",
     "text": [
      "{\"name\": \"Vikas\", \"Weight\": 68, \"City\": \"Mumbai\"}\n",
      "<class 'str'>\n"
     ]
    }
   ],
   "source": [
    "import json\n",
    "\n",
    "python_data = {'name': 'Vikas', 'Weight': 68, 'City': 'Mumbai'}\n",
    "\n",
    "json_data = json.dumps(python_data)\n",
    "\n",
    "print(json_data)\n",
    "print(type(json_data))"
   ]
  },
  {
   "cell_type": "code",
   "execution_count": null,
   "id": "063a9b35",
   "metadata": {},
   "outputs": [],
   "source": []
  }
 ],
 "metadata": {
  "kernelspec": {
   "display_name": "Python 3",
   "language": "python",
   "name": "python3"
  },
  "language_info": {
   "codemirror_mode": {
    "name": "ipython",
    "version": 3
   },
   "file_extension": ".py",
   "mimetype": "text/x-python",
   "name": "python",
   "nbconvert_exporter": "python",
   "pygments_lexer": "ipython3",
   "version": "3.8.8"
  }
 },
 "nbformat": 4,
 "nbformat_minor": 5
}
