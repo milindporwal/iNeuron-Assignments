{
 "cells": [
  {
   "cell_type": "markdown",
   "id": "d37f0ce0",
   "metadata": {},
   "source": [
    "1. What is the relationship between def statements and lambda expressions ?"
   ]
  },
  {
   "cell_type": "markdown",
   "id": "9fdd98e2",
   "metadata": {},
   "source": [
    "Ans.\n",
    "1. def statements are used to create named functions in Python, while lambda expressions are used to create anonymous functions.\n",
    "\n",
    "2. A def statement defines a function with a block of code and a name, following Python's identifier naming rules.\n",
    "\n",
    "3. Lambda expressions, on the other hand, create anonymous functions without a name, using a single expression.\n",
    "\n",
    "4. Lambda functions have a more limited scope compared to def statements, as they can only contain a single expression and cannot include statements.\n",
    "\n",
    "5. Both def and lambda can be used to define functions in Python, but they serve different purposes and have different capabilities."
   ]
  },
  {
   "cell_type": "markdown",
   "id": "f297f942",
   "metadata": {},
   "source": [
    "2. What is the benefit of lambda?"
   ]
  },
  {
   "cell_type": "markdown",
   "id": "ab4900ce",
   "metadata": {},
   "source": [
    "Ans.\n",
    "Lambda expressions offer several advantages, including:\n",
    "1. Creation of nameless/anonymous functions, especially within complex functions when they are only needed once.\n",
    "2. Concise and compact syntax for defining moderate to small functions in a single line.\n",
    "3. The ability to assign lambda-created functions to variables, making it easy to use them by invoking the variable.\n",
    "4. Improved code readability and support for functional programming.\n",
    "5. Faster execution, particularly for small functions, enhancing code efficiency in Python."
   ]
  },
  {
   "cell_type": "markdown",
   "id": "0f2e47df",
   "metadata": {},
   "source": [
    "3. Compare and contrast map, filter, and reduce."
   ]
  },
  {
   "cell_type": "markdown",
   "id": "45f8be24",
   "metadata": {},
   "source": [
    "Ans.\n",
    "\n",
    "Map:\n",
    "\n",
    "-Applies a transformation to each element in an iterable.\n",
    "\n",
    "-Iterates through all items in the given iterable and executes the provided function on each element.\n",
    "\n",
    "-Syntax: map(function, iterable(s)).\n",
    "\n",
    "Filter:\n",
    "-Accumulates only elements that match a specified condition.\n",
    "\n",
    "-Forms a new list containing elements for which the provided function returns True.\n",
    "\n",
    "-Syntax: filter(function, iterable(s)).\n",
    "\n",
    "Reduce:\n",
    "\n",
    "-Accumulates all elements in an iterable into a single value using a given function.\n",
    "\n",
    "-Works by calling the function on the first two items in the sequence, then uses the result in another call to the function with the next element.\n",
    "\n",
    "-Syntax: reduce(function, sequence[, initial]).\n",
    "\n",
    "Key differences:\n",
    "\n",
    "-Map transforms each element individually.\n",
    "\n",
    "-Filter accumulates elements based on a condition.\n",
    "\n",
    "-Reduce accumulates all elements into a single value.\n",
    "\n",
    "-Map and filter produce new iterables, while reduce returns a single value.\n",
    "\n",
    "-Map and filter take a function and one or more iterables as arguments, while reduce can optionally take an initial value."
   ]
  },
  {
   "cell_type": "code",
   "execution_count": 1,
   "id": "30cc58a5",
   "metadata": {},
   "outputs": [
    {
     "name": "stdout",
     "output_type": "stream",
     "text": [
      "Map -> [2, 4, 6, 8, 10, 12, 14, 16]\n",
      "Filter -> [1, 3, 5, 7]\n",
      "Reduce -> 36\n"
     ]
    }
   ],
   "source": [
    "from functools import reduce\n",
    "# map function\n",
    "print('Map ->',list(map(lambda x:x+x, [1,2,3,4,5,6,7,8])))\n",
    "# fitler function\n",
    "print('Filter ->',list(filter(lambda x:x%2 !=0, [1,2,3,4,5,6,7,8])))\n",
    "# reduce function\n",
    "print('Reduce ->',reduce(lambda x,y:x+y, [1,2,3,4,5,6,7,8]))"
   ]
  },
  {
   "cell_type": "markdown",
   "id": "46272a73",
   "metadata": {},
   "source": [
    "4. What are function annotations, and how are they used?"
   ]
  },
  {
   "cell_type": "markdown",
   "id": "3dc8be51",
   "metadata": {},
   "source": [
    "Ans.\n",
    "- Function annotations in Python are a way to add metadata to function parameters and return values, which can be used for documentation, static analysis, and type checking purposes.\n",
    "\n",
    "- Function annotations are optional Python expressions that are associated with different parts of a function and are evaluated only during compile-time, not during runtime.\n",
    "\n",
    "- They serve to type-check functions by declaring the types of parameters and return values, improving help messages.\n",
    "\n",
    "- Simple parameter annotations: def func(x: 'int', y: 'expression')\n",
    "\n",
    "- Default values can also be assigned using = symbol: def func(x: 'float' = 10.8, y: 'argument2')\n",
    "\n",
    "- Return value annotations are indicated using -> symbol: def func(a: 'expression') -> 'int'\n",
    "\n",
    "- Annotations for excess parameters are also supported: def func(**args: 'expression', **kwargs: 'expression')"
   ]
  },
  {
   "cell_type": "markdown",
   "id": "88cd0f75",
   "metadata": {},
   "source": [
    "5. What are recursive functions, and how are they used?"
   ]
  },
  {
   "cell_type": "markdown",
   "id": "a0828dc5",
   "metadata": {},
   "source": [
    "Ans.\n",
    "- Recursive functions are functions that call themselves within their own definition.\n",
    "\n",
    "- Recursive functions are used to solve problems that can be broken down into smaller, similar subproblems.\n",
    "\n",
    "- They repeat their behavior until a specific condition is met, at which point they return a result.\n",
    "\n",
    "- Recursive functions are valuable for solving complex problems by dividing them into smaller, more manageable instances, often leading to more elegant and concise code."
   ]
  },
  {
   "cell_type": "code",
   "execution_count": 6,
   "id": "18738dfc",
   "metadata": {},
   "outputs": [
    {
     "data": {
      "text/plain": [
       "720"
      ]
     },
     "execution_count": 6,
     "metadata": {},
     "output_type": "execute_result"
    }
   ],
   "source": [
    "def factorial(n):\n",
    "    if n == 0:\n",
    "        return 1\n",
    "    else:\n",
    "        return n * factorial(n-1)\n",
    "\n",
    "factorial(6)"
   ]
  },
  {
   "cell_type": "markdown",
   "id": "6217d449",
   "metadata": {},
   "source": [
    "6. What are some general design guidelines for coding functions?"
   ]
  },
  {
   "cell_type": "markdown",
   "id": "5da19e1b",
   "metadata": {},
   "source": [
    "Ans.\n",
    "- Choose a descriptive name for the function.\n",
    "- Write a docstring to explain the function's purpose and usage.\n",
    "- Validate input parameters to ensure they meet expected requirements.\n",
    "- Organize the function in a clear and logical manner, using comments when necessary.\n",
    "- Divide complex functions into smaller, more manageable functions (keep functions focused).\n",
    "- Include error handling to prevent program crashes (use try-except blocks where appropriate).\n",
    "- Write efficient code to optimize performance.\n",
    "- Thoroughly test the function under different conditions.\n",
    "- Use version control to track changes to the function over time.\n",
    "\n",
    "Additional guidelines:\n",
    "- Use consistent naming conventions (e.g., PascalCase for global variables, camelCase for local variables).\n",
    "- Avoid using global variables or limit their use.\n",
    "- Maintain proper indentation (4 spaces) for code readability.\n",
    "- Keep lines under 79 characters and use trailing commas in tuples.\n",
    "- Use regular and updated comments to aid both developers and users.\n",
    "- Use Python's default UTF-8 or ASCII encodings.\n",
    "- Avoid non-ASCII characters in identifiers.\n",
    "- Name classes and functions consistently.\n",
    "- When naming methods, always use \"self\" for the first argument (for instance methods)."
   ]
  },
  {
   "cell_type": "markdown",
   "id": "4225516d",
   "metadata": {},
   "source": [
    "7. Name three or more ways that functions can communicate results to a caller."
   ]
  },
  {
   "cell_type": "markdown",
   "id": "9124d5a8",
   "metadata": {},
   "source": [
    "Ans.\n",
    "- Return statements: Functions can use return statements to send one or more values back to the caller.\n",
    "\n",
    "- Print statements: Functions can use print statements to display output directly to the console or terminal.\n",
    "\n",
    "- Global variables: Functions can modify or read global variables to communicate results to the caller.\n",
    "\n",
    "- Exceptions: Functions can raise exceptions to indicate that an error or exceptional condition has occurred.\n",
    "\n",
    "- Callbacks: Functions can accept callback functions as arguments, allowing the caller to process the results.\n",
    "\n",
    "- Yield statements: Functions can use yield statements to return a generator object, which allows for iterating over a sequence of values.\n",
    "\n",
    "- Update output variables: Functions can update variables passed as arguments to store results.\n",
    "\n",
    "- Update global variables: Functions can modify global variables to communicate data to the caller.\n",
    "\n",
    "- Create or update files: Functions can write data to files or update existing files to communicate information."
   ]
  },
  {
   "cell_type": "code",
   "execution_count": null,
   "id": "29a2b7d4",
   "metadata": {},
   "outputs": [],
   "source": []
  }
 ],
 "metadata": {
  "kernelspec": {
   "display_name": "Python 3",
   "language": "python",
   "name": "python3"
  },
  "language_info": {
   "codemirror_mode": {
    "name": "ipython",
    "version": 3
   },
   "file_extension": ".py",
   "mimetype": "text/x-python",
   "name": "python",
   "nbconvert_exporter": "python",
   "pygments_lexer": "ipython3",
   "version": "3.8.8"
  }
 },
 "nbformat": 4,
 "nbformat_minor": 5
}
