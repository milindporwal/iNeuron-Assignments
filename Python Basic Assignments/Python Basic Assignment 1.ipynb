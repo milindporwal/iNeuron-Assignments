{
 "cells": [
  {
   "cell_type": "raw",
   "id": "45c15994",
   "metadata": {},
   "source": [
    "# 1. In the below elements which of them are values or an expression?"
   ]
  },
  {
   "cell_type": "raw",
   "id": "a1fdef33",
   "metadata": {},
   "source": [
    "eg:- values can be integer or string and expressions will be mathematical operators.\n",
    "* \n",
    "'hello'\n",
    "-87.8\n",
    "- \n",
    "/ \n",
    "+\t\n",
    "6 "
   ]
  },
  {
   "cell_type": "markdown",
   "id": "c245fdc1",
   "metadata": {},
   "source": [
    "Ans: Values are 'hello' , -87.8 , 6 Expressions are * , - , / , +"
   ]
  },
  {
   "cell_type": "raw",
   "id": "244b3024",
   "metadata": {},
   "source": [
    "# 2. What is the difference between string and variable?"
   ]
  },
  {
   "cell_type": "markdown",
   "id": "124efbd6",
   "metadata": {},
   "source": [
    "Ans. String is a data type and anything which is enclosed within single/ double quotes is treated as a string.\n",
    "Eg. 'Hello'\n",
    "Variable is a container which holds any value or data in itself. To assign a value to a variable '=' sign is used.\n",
    "Eg. a=5"
   ]
  },
  {
   "cell_type": "raw",
   "id": "2b1b1040",
   "metadata": {},
   "source": [
    "# 3. Describe three different data types."
   ]
  },
  {
   "cell_type": "markdown",
   "id": "43afb8d6",
   "metadata": {},
   "source": [
    "Ans. Int : Int datatype is used to repersent the integer values irrespective of whether negative or postive (eg. a = 376, b = -751)\n",
    "    \n",
    "Boolean: These are data types which contain either of the two values that is true or false. 1 is True and 0 is false.\n",
    "\n",
    "Strings: It can contain combination of text, numbers or special characters but it should be enclosed in single/double quotes depending upon the syntax of programming language.\n",
    "\n",
    "Eg. - 'How are you now 132,&*^'\n"
   ]
  },
  {
   "cell_type": "raw",
   "id": "3d8f86a2",
   "metadata": {},
   "source": [
    "4. What is an expression made up of? What do all expressions do?"
   ]
  },
  {
   "cell_type": "markdown",
   "id": "321ba80f",
   "metadata": {},
   "source": [
    "Ans. Any combination of operators and operands is called an expression. Expressions are used to calculate or evaluate values."
   ]
  },
  {
   "cell_type": "code",
   "execution_count": 7,
   "id": "285fdd44",
   "metadata": {},
   "outputs": [
    {
     "name": "stdout",
     "output_type": "stream",
     "text": [
      "4\n"
     ]
    }
   ],
   "source": [
    "a = 1\n",
    "b = 3\n",
    "c = a + b # This is an expression\n",
    "# a,b are operands, + is an operator\n",
    "print(c)"
   ]
  },
  {
   "cell_type": "raw",
   "id": "9b48c161",
   "metadata": {},
   "source": [
    "5. This assignment statements, like spam = 10. What is the difference between an expression and a statement?"
   ]
  },
  {
   "cell_type": "markdown",
   "id": "a6f0e035",
   "metadata": {},
   "source": [
    "Ans. In python,\n",
    "A statement is used for creating variables or for displaying values.\n",
    "A statement is not evaluated for some results.\n",
    "\n",
    "An expression produces some value or result after being interpreted by the Python interpreter.\n",
    "An expression is evaluated for some results."
   ]
  },
  {
   "cell_type": "raw",
   "id": "9964001a",
   "metadata": {},
   "source": [
    "6. After running the following code, what does the variable bacon contain?\n",
    "bacon = 22\n",
    "bacon + 1"
   ]
  },
  {
   "cell_type": "code",
   "execution_count": 10,
   "id": "ec15be41",
   "metadata": {},
   "outputs": [],
   "source": [
    "#Ans.\n",
    "bacon = 22"
   ]
  },
  {
   "cell_type": "code",
   "execution_count": 11,
   "id": "fa228ebe",
   "metadata": {},
   "outputs": [
    {
     "data": {
      "text/plain": [
       "23"
      ]
     },
     "execution_count": 11,
     "metadata": {},
     "output_type": "execute_result"
    }
   ],
   "source": [
    "bacon+1"
   ]
  },
  {
   "cell_type": "code",
   "execution_count": 12,
   "id": "fb6965a7",
   "metadata": {},
   "outputs": [
    {
     "name": "stdout",
     "output_type": "stream",
     "text": [
      "22\n"
     ]
    }
   ],
   "source": [
    "print(bacon)"
   ]
  },
  {
   "cell_type": "markdown",
   "id": "65f69cab",
   "metadata": {},
   "source": [
    "So the variable bacon contains 22"
   ]
  },
  {
   "cell_type": "raw",
   "id": "e63e7ae6",
   "metadata": {},
   "source": [
    "7. What should the values of the following two terms be?\n",
    "'spam' + 'spamspam'\n",
    "'spam' * 3"
   ]
  },
  {
   "cell_type": "code",
   "execution_count": 16,
   "id": "e97f0bef",
   "metadata": {},
   "outputs": [
    {
     "data": {
      "text/plain": [
       "'spamspamspam'"
      ]
     },
     "execution_count": 16,
     "metadata": {},
     "output_type": "execute_result"
    }
   ],
   "source": [
    "#Ans.\n",
    "'spam' + 'spamspam'"
   ]
  },
  {
   "cell_type": "code",
   "execution_count": 17,
   "id": "bbeeb725",
   "metadata": {},
   "outputs": [
    {
     "data": {
      "text/plain": [
       "'spamspamspam'"
      ]
     },
     "execution_count": 17,
     "metadata": {},
     "output_type": "execute_result"
    }
   ],
   "source": [
    "'spam' * 3"
   ]
  },
  {
   "cell_type": "markdown",
   "id": "20dbd531",
   "metadata": {},
   "source": [
    "The way of concatenation is different but the output is same."
   ]
  },
  {
   "cell_type": "raw",
   "id": "fc831139",
   "metadata": {},
   "source": [
    "8. Why is eggs a valid variable name while 100 is invalid?"
   ]
  },
  {
   "cell_type": "markdown",
   "id": "ad2a9195",
   "metadata": {},
   "source": [
    "Ans. Because in python, variable name cannot start with a number.  \n",
    "In python for creating a new variable name, following rules are to be followed:\n",
    "\n",
    "Variable name cannot start with numerical characters\n",
    "\n",
    "variable can have alphanumeric characters and underscores."
   ]
  },
  {
   "cell_type": "raw",
   "id": "c070883c",
   "metadata": {},
   "source": [
    "9. What three functions can be used to get the integer, floating-point number, or string version of a value?"
   ]
  },
  {
   "cell_type": "markdown",
   "id": "b84a6f45",
   "metadata": {},
   "source": [
    "Ans. The three functions are int(), float(), str()"
   ]
  },
  {
   "cell_type": "code",
   "execution_count": 18,
   "id": "8ab703e3",
   "metadata": {},
   "outputs": [
    {
     "data": {
      "text/plain": [
       "64"
      ]
     },
     "execution_count": 18,
     "metadata": {},
     "output_type": "execute_result"
    }
   ],
   "source": [
    "int(64.273)"
   ]
  },
  {
   "cell_type": "code",
   "execution_count": 20,
   "id": "88e10008",
   "metadata": {},
   "outputs": [
    {
     "data": {
      "text/plain": [
       "3476"
      ]
     },
     "execution_count": 20,
     "metadata": {},
     "output_type": "execute_result"
    }
   ],
   "source": [
    "int(\"3476\")"
   ]
  },
  {
   "cell_type": "code",
   "execution_count": 21,
   "id": "65c2a244",
   "metadata": {},
   "outputs": [
    {
     "data": {
      "text/plain": [
       "34.0"
      ]
     },
     "execution_count": 21,
     "metadata": {},
     "output_type": "execute_result"
    }
   ],
   "source": [
    "float(34)"
   ]
  },
  {
   "cell_type": "code",
   "execution_count": 22,
   "id": "fe9dacbf",
   "metadata": {},
   "outputs": [
    {
     "data": {
      "text/plain": [
       "'624'"
      ]
     },
     "execution_count": 22,
     "metadata": {},
     "output_type": "execute_result"
    }
   ],
   "source": [
    "str(624)"
   ]
  },
  {
   "cell_type": "code",
   "execution_count": 26,
   "id": "39936240",
   "metadata": {},
   "outputs": [
    {
     "data": {
      "text/plain": [
       "'(343+5j)'"
      ]
     },
     "execution_count": 26,
     "metadata": {},
     "output_type": "execute_result"
    }
   ],
   "source": [
    "str(343 + 5j)"
   ]
  },
  {
   "cell_type": "raw",
   "id": "04af4975",
   "metadata": {},
   "source": [
    "10. Why does this expression cause an error? How can you fix it?\n",
    "'I have eaten ' + 99 + ' burritos.'"
   ]
  },
  {
   "cell_type": "code",
   "execution_count": 28,
   "id": "4db58f88",
   "metadata": {},
   "outputs": [
    {
     "ename": "TypeError",
     "evalue": "can only concatenate str (not \"int\") to str",
     "output_type": "error",
     "traceback": [
      "\u001b[1;31m---------------------------------------------------------------------------\u001b[0m",
      "\u001b[1;31mTypeError\u001b[0m                                 Traceback (most recent call last)",
      "\u001b[1;32m<ipython-input-28-563ab523ca6c>\u001b[0m in \u001b[0;36m<module>\u001b[1;34m\u001b[0m\n\u001b[0;32m      1\u001b[0m \u001b[1;31m#Ans.\u001b[0m\u001b[1;33m\u001b[0m\u001b[1;33m\u001b[0m\u001b[1;33m\u001b[0m\u001b[0m\n\u001b[1;32m----> 2\u001b[1;33m \u001b[1;34m'I have eaten '\u001b[0m \u001b[1;33m+\u001b[0m \u001b[1;36m99\u001b[0m \u001b[1;33m+\u001b[0m \u001b[1;34m' burritos.'\u001b[0m\u001b[1;33m\u001b[0m\u001b[1;33m\u001b[0m\u001b[0m\n\u001b[0m",
      "\u001b[1;31mTypeError\u001b[0m: can only concatenate str (not \"int\") to str"
     ]
    }
   ],
   "source": [
    "#Ans.\n",
    "'I have eaten ' + 99 + ' burritos.'"
   ]
  },
  {
   "cell_type": "markdown",
   "id": "95b4236e",
   "metadata": {},
   "source": [
    "Ans. We cannot concatenate integer with string. So we have to convert int to string"
   ]
  },
  {
   "cell_type": "code",
   "execution_count": 29,
   "id": "ab5f7b3a",
   "metadata": {},
   "outputs": [
    {
     "data": {
      "text/plain": [
       "'I have eaten 99 burritos.'"
      ]
     },
     "execution_count": 29,
     "metadata": {},
     "output_type": "execute_result"
    }
   ],
   "source": [
    "'I have eaten ' + '99' + ' burritos.'"
   ]
  },
  {
   "cell_type": "raw",
   "id": "bf01748d",
   "metadata": {},
   "source": [
    "or"
   ]
  },
  {
   "cell_type": "code",
   "execution_count": 30,
   "id": "0ecaed8f",
   "metadata": {},
   "outputs": [
    {
     "data": {
      "text/plain": [
       "'I have eaten 99 burritos.'"
      ]
     },
     "execution_count": 30,
     "metadata": {},
     "output_type": "execute_result"
    }
   ],
   "source": [
    "'I have eaten ' + str(99) + ' burritos.'"
   ]
  },
  {
   "cell_type": "code",
   "execution_count": null,
   "id": "2124ec32",
   "metadata": {},
   "outputs": [],
   "source": []
  }
 ],
 "metadata": {
  "kernelspec": {
   "display_name": "Python 3",
   "language": "python",
   "name": "python3"
  },
  "language_info": {
   "codemirror_mode": {
    "name": "ipython",
    "version": 3
   },
   "file_extension": ".py",
   "mimetype": "text/x-python",
   "name": "python",
   "nbconvert_exporter": "python",
   "pygments_lexer": "ipython3",
   "version": "3.8.8"
  }
 },
 "nbformat": 4,
 "nbformat_minor": 5
}
