{
 "cells": [
  {
   "cell_type": "markdown",
   "id": "65fc3f49",
   "metadata": {},
   "source": [
    "1. What does an empty dictionary's code look like?"
   ]
  },
  {
   "cell_type": "markdown",
   "id": "fab0f25c",
   "metadata": {},
   "source": [
    "Ans. \n",
    "A Dictionary is created using {} signs and inside brackets we have our key: value pairs."
   ]
  },
  {
   "cell_type": "code",
   "execution_count": 1,
   "id": "c23777d1",
   "metadata": {},
   "outputs": [
    {
     "name": "stdout",
     "output_type": "stream",
     "text": [
      "<class 'dict'>\n"
     ]
    }
   ],
   "source": [
    "dict1 = {}\n",
    "print(type(dict1))"
   ]
  },
  {
   "cell_type": "markdown",
   "id": "2de79d54",
   "metadata": {},
   "source": [
    "2. What is the value of a dictionary value with the key 'foo' and the value 42?"
   ]
  },
  {
   "cell_type": "code",
   "execution_count": 2,
   "id": "662b44eb",
   "metadata": {},
   "outputs": [
    {
     "name": "stdout",
     "output_type": "stream",
     "text": [
      "42\n"
     ]
    }
   ],
   "source": [
    "#Ans.\n",
    "dict2 = {'foo': 42}\n",
    "x = dict2['foo']\n",
    "print(x) # With each key a value is associated in the dictionary"
   ]
  },
  {
   "cell_type": "markdown",
   "id": "cd3a1d53",
   "metadata": {},
   "source": [
    "3. What is the most significant distinction between a dictionary and a list?"
   ]
  },
  {
   "cell_type": "markdown",
   "id": "320d920a",
   "metadata": {},
   "source": [
    "Ans.\n",
    "\n",
    "List\n",
    "-Lists are represented by []\n",
    "-We can access elements using indexing.\n",
    "-The elements entered in list are ordered.\n",
    "\n",
    "Dictionary\n",
    "-Dictionaries are represented by {}\n",
    "-We can access elements using key.\n",
    "-There is no guarantee for maintaining order."
   ]
  },
  {
   "cell_type": "markdown",
   "id": "b6501243",
   "metadata": {},
   "source": [
    "4. What happens if you try to access spam['foo'] if spam is {'bar': 100}?"
   ]
  },
  {
   "cell_type": "code",
   "execution_count": 3,
   "id": "3d119b95",
   "metadata": {},
   "outputs": [
    {
     "ename": "KeyError",
     "evalue": "'foo'",
     "output_type": "error",
     "traceback": [
      "\u001b[1;31m---------------------------------------------------------------------------\u001b[0m",
      "\u001b[1;31mKeyError\u001b[0m                                  Traceback (most recent call last)",
      "\u001b[1;32m<ipython-input-3-62ae9ddf493e>\u001b[0m in \u001b[0;36m<module>\u001b[1;34m\u001b[0m\n\u001b[0;32m      1\u001b[0m \u001b[0mspam\u001b[0m \u001b[1;33m=\u001b[0m \u001b[1;33m{\u001b[0m\u001b[1;34m'bar'\u001b[0m\u001b[1;33m:\u001b[0m\u001b[1;36m100\u001b[0m\u001b[1;33m}\u001b[0m\u001b[1;33m\u001b[0m\u001b[1;33m\u001b[0m\u001b[0m\n\u001b[1;32m----> 2\u001b[1;33m \u001b[0mprint\u001b[0m\u001b[1;33m(\u001b[0m\u001b[0mspam\u001b[0m\u001b[1;33m[\u001b[0m\u001b[1;34m'foo'\u001b[0m\u001b[1;33m]\u001b[0m\u001b[1;33m)\u001b[0m \u001b[1;31m# Generates error\u001b[0m\u001b[1;33m\u001b[0m\u001b[1;33m\u001b[0m\u001b[0m\n\u001b[0m",
      "\u001b[1;31mKeyError\u001b[0m: 'foo'"
     ]
    }
   ],
   "source": [
    "spam = {'bar':100}\n",
    "print(spam['foo']) # Generates error"
   ]
  },
  {
   "cell_type": "markdown",
   "id": "329014dd",
   "metadata": {},
   "source": [
    "5. If a dictionary is stored in spam, what is the difference between the expressions 'cat' in spam and 'cat' in spam.keys()?"
   ]
  },
  {
   "cell_type": "markdown",
   "id": "0ba0ead3",
   "metadata": {},
   "source": [
    "Ans.\n",
    "The expression 'cat' in spam checks if the string 'cat' exists as a key in the dictionary spam.\n",
    "If 'cat' is a key in spam, it will evaluate to True; otherwise, it will evaluate to False.\n",
    "\n",
    "The expression 'cat' in spam.keys() also checks if 'cat' exists as a key in the dictionary spam.\n",
    "It specifically checks the keys of the dictionary.\n",
    "The result will be the same as 'cat' in spam since accessing spam.keys() returns a view object of the dictionary keys."
   ]
  },
  {
   "cell_type": "code",
   "execution_count": 4,
   "id": "2e411c77",
   "metadata": {},
   "outputs": [],
   "source": [
    "spam = {'cat': 'meow', 'dog': 'bark'}"
   ]
  },
  {
   "cell_type": "code",
   "execution_count": 5,
   "id": "f008bc19",
   "metadata": {},
   "outputs": [
    {
     "data": {
      "text/plain": [
       "True"
      ]
     },
     "execution_count": 5,
     "metadata": {},
     "output_type": "execute_result"
    }
   ],
   "source": [
    "'cat' in spam"
   ]
  },
  {
   "cell_type": "code",
   "execution_count": 6,
   "id": "fed77afa",
   "metadata": {},
   "outputs": [
    {
     "data": {
      "text/plain": [
       "True"
      ]
     },
     "execution_count": 6,
     "metadata": {},
     "output_type": "execute_result"
    }
   ],
   "source": [
    "'cat' in spam.keys()"
   ]
  },
  {
   "cell_type": "markdown",
   "id": "dbc13f92",
   "metadata": {},
   "source": [
    "6. If a dictionary is stored in spam, what is the difference between the expressions 'cat' in spam and 'cat' in spam.values()?"
   ]
  },
  {
   "cell_type": "markdown",
   "id": "7d3acd7c",
   "metadata": {},
   "source": [
    "Ans.\n",
    "The expression 'cat' in spam checks if the string 'cat' exists as a key in the dictionary spam.\n",
    "If 'cat' is a key in spam, it will evaluate to True; otherwise, it will evaluate to False.\n",
    "\n",
    "The expression 'cat' in spam.values() checks if 'cat' exists as a value in the dictionary spam.\n",
    "It specifically checks the values of the dictionary.\n",
    "If 'cat' is one of the values in spam, it will evaluate to True; otherwise, it will evaluate to False."
   ]
  },
  {
   "cell_type": "code",
   "execution_count": 7,
   "id": "c22b7dd6",
   "metadata": {},
   "outputs": [],
   "source": [
    "spam = {'cat': 'meow', 'dog': 'bark'}"
   ]
  },
  {
   "cell_type": "code",
   "execution_count": 8,
   "id": "a872c54b",
   "metadata": {},
   "outputs": [
    {
     "data": {
      "text/plain": [
       "True"
      ]
     },
     "execution_count": 8,
     "metadata": {},
     "output_type": "execute_result"
    }
   ],
   "source": [
    "'cat' in spam"
   ]
  },
  {
   "cell_type": "code",
   "execution_count": 9,
   "id": "cf067526",
   "metadata": {},
   "outputs": [
    {
     "data": {
      "text/plain": [
       "False"
      ]
     },
     "execution_count": 9,
     "metadata": {},
     "output_type": "execute_result"
    }
   ],
   "source": [
    "'cat' in spam.values()"
   ]
  },
  {
   "cell_type": "markdown",
   "id": "102f37a0",
   "metadata": {},
   "source": [
    "7. What is a shortcut for the following code?\n",
    "if 'color' not in spam:\n",
    "spam['color'] = 'black'"
   ]
  },
  {
   "cell_type": "markdown",
   "id": "b33bce36",
   "metadata": {},
   "source": [
    "Ans.\n",
    "The setdefault() method takes two arguments:\n",
    "the first argument is the key that you want to check for existence, and the second argument is the default value that you want to set for the key if it doesn't exist.\n",
    "If the key already exists in the dictionary, setdefault() returns its corresponding value.\n",
    "If the key is not in the dictionary, setdefault() adds the key to the dictionary with the default value and returns that value."
   ]
  },
  {
   "cell_type": "code",
   "execution_count": 10,
   "id": "07aaa13e",
   "metadata": {},
   "outputs": [
    {
     "data": {
      "text/plain": [
       "'black'"
      ]
     },
     "execution_count": 10,
     "metadata": {},
     "output_type": "execute_result"
    }
   ],
   "source": [
    "spam.setdefault('color','black')"
   ]
  },
  {
   "cell_type": "code",
   "execution_count": 11,
   "id": "8805978c",
   "metadata": {},
   "outputs": [
    {
     "name": "stdout",
     "output_type": "stream",
     "text": [
      "{'Tata': 'Nexon', 'price': 10000000, 'color': 'black'}\n"
     ]
    }
   ],
   "source": [
    "#Another Example:\n",
    "car = {'Tata': 'Nexon', 'price': 10000000}\n",
    "car.setdefault('color', 'black') # Checks if key is available, if not then adds to the dictionary\n",
    "print(car)"
   ]
  },
  {
   "cell_type": "markdown",
   "id": "0124e343",
   "metadata": {},
   "source": [
    "8. How do you \"pretty print\" dictionary values using which module and function?"
   ]
  },
  {
   "cell_type": "markdown",
   "id": "ce8677df",
   "metadata": {},
   "source": [
    "Ans.\n",
    "By using pprint module from python we can print our dictionaries in well formatted and more readable manner."
   ]
  },
  {
   "cell_type": "code",
   "execution_count": 12,
   "id": "b2d83a5c",
   "metadata": {},
   "outputs": [
    {
     "name": "stdout",
     "output_type": "stream",
     "text": [
      "{'age': 30, 'city': 'New York', 'name': 'John'}\n"
     ]
    }
   ],
   "source": [
    "import pprint\n",
    "dict2 = {'name': 'John',        \n",
    "           'age': 30,              \n",
    "           'city': 'New York'}\n",
    "pprint.pprint(dict2)"
   ]
  },
  {
   "cell_type": "code",
   "execution_count": null,
   "id": "9da2e2c6",
   "metadata": {},
   "outputs": [],
   "source": []
  }
 ],
 "metadata": {
  "kernelspec": {
   "display_name": "Python 3",
   "language": "python",
   "name": "python3"
  },
  "language_info": {
   "codemirror_mode": {
    "name": "ipython",
    "version": 3
   },
   "file_extension": ".py",
   "mimetype": "text/x-python",
   "name": "python",
   "nbconvert_exporter": "python",
   "pygments_lexer": "ipython3",
   "version": "3.8.8"
  }
 },
 "nbformat": 4,
 "nbformat_minor": 5
}
