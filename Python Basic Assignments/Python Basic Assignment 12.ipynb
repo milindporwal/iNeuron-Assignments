{
 "cells": [
  {
   "cell_type": "markdown",
   "id": "6e196f23",
   "metadata": {},
   "source": [
    "1. In what modes should the PdfFileReader() and PdfFileWriter() File objects will be opened?"
   ]
  },
  {
   "cell_type": "markdown",
   "id": "9b8dfccd",
   "metadata": {},
   "source": [
    "Ans.\n",
    "PdfFileReader() file objects should be opened in rb -> read binary mode\n",
    "PdfFileWriter() file objects should be opened in wb -> write binary mode."
   ]
  },
  {
   "cell_type": "markdown",
   "id": "8c452408",
   "metadata": {},
   "source": [
    "2. From a PdfFileReader object, how do you get a Page object for page 5?"
   ]
  },
  {
   "cell_type": "markdown",
   "id": "246f47eb",
   "metadata": {},
   "source": [
    "Ans.\n",
    "PdfFileReader class provides a method called getPage(page_no) to get a page object.\n",
    "getPage() - Method is used to get page\n",
    "syntax- Pdfreader.getPage()\n",
    "Pdfreader.getPage(4)  -for getting page 5 due to PyPDF2 uses 0-index from starting of page"
   ]
  },
  {
   "cell_type": "markdown",
   "id": "d40be0c0",
   "metadata": {},
   "source": [
    "3. What PdfFileReader variable stores the number of pages in the PDF document?"
   ]
  },
  {
   "cell_type": "markdown",
   "id": "0f7e0797",
   "metadata": {},
   "source": [
    "Ans.\n",
    "getNumPages() method of PdfFileReader stores the no pages in a PDF document."
   ]
  },
  {
   "cell_type": "markdown",
   "id": "1b7870f7",
   "metadata": {},
   "source": [
    "4. If a PdfFileReader object’s PDF is encrypted with the password swordfish,\n",
    "what must you do before you can obtain Page objects from it?"
   ]
  },
  {
   "cell_type": "markdown",
   "id": "ae87b60d",
   "metadata": {},
   "source": [
    "Ans.\n",
    "If a PdfFileReader object’s PDF is encrypted with the password swordfish and you're not aware of it then,\n",
    "first Read the Pdf using the PdfFileReader Class.\n",
    "PdfFileReader class provides a attribute called isEncrypted to check whether a pdf is encrypted or not.\n",
    "The method returns true if a pdf is encrypted and vice versa.\n",
    "If pdf is encrypted, then use the decrypt() method provided by PdfFileReader class first\n",
    "then try to read the contents/pages of the pdf,\n",
    "else PyPDF2 will raise the following error PyPDF2.utils.PdfReadError: file has not been decrypted"
   ]
  },
  {
   "cell_type": "markdown",
   "id": "d1c63475",
   "metadata": {},
   "source": [
    "5. What methods do you use to rotate a page?"
   ]
  },
  {
   "cell_type": "markdown",
   "id": "fbd57088",
   "metadata": {},
   "source": [
    "Ans.\n",
    "PyPDF2 Package provides 2 methods to rotate a page:\n",
    "\n",
    "rotateClockWise() -> For Clockwise rotation\n",
    "rotateCounterClockWise() -> For Counter Clockwise rotation\n",
    "\n",
    "The PyPDF2 package only allows you to rotate a page in increments of 90 degrees.\n",
    "You will receive an AssertionError otherwise."
   ]
  },
  {
   "cell_type": "markdown",
   "id": "f52ace7f",
   "metadata": {},
   "source": [
    "6. What is the difference between a Run object and a Paragraph object?"
   ]
  },
  {
   "cell_type": "markdown",
   "id": "c7bf4260",
   "metadata": {},
   "source": [
    "Ans.\n",
    "A Run object is a contiguous sequence of characters that all have the same set of formatting properties.\n",
    "For example, a run can contain a word or a group of words that have the same font, size, color, and other formatting properties.\n",
    "\n",
    "Runs can be accessed within a paragraph object, and a paragraph can contain one or more runs.\n",
    "\n",
    "A Paragraph object, on the other hand, represents a single paragraph in a document.\n",
    "It consists of one or more runs, and it contains information about the paragraph's formatting properties, such as indentation, alignment, and line spacing.\n",
    "\n",
    "The main difference between a Run and a Paragraph object is that a Run represents a continuous sequence of characters with the same formatting, while a Paragraph represents a block of text with its own set of formatting properties."
   ]
  },
  {
   "cell_type": "markdown",
   "id": "e5da8430",
   "metadata": {},
   "source": [
    "7. How do you obtain a list of Paragraph objects for a Document object that’s stored in a variable named doc?"
   ]
  },
  {
   "cell_type": "code",
   "execution_count": null,
   "id": "5654e29d",
   "metadata": {},
   "outputs": [],
   "source": [
    "Ans.\n",
    "# Example\n",
    "from docx import Document\n",
    "doc = Document(\"test_file.docx\") # Path of the Docx file\n",
    "print(doc.paragraphs) # Prints the list of Paragraph objects for a Document\n",
    "for paragraph in doc.paragraphs:\n",
    "    print(paragraph.text) # Prints the text in the paragraph"
   ]
  },
  {
   "cell_type": "markdown",
   "id": "41e81111",
   "metadata": {},
   "source": [
    "8. What type of object has bold, underline, italic, strike, and outline variables?"
   ]
  },
  {
   "cell_type": "markdown",
   "id": "77b6c5d9",
   "metadata": {},
   "source": [
    "Ans.\n",
    "Run object has bold, underline, italic, strike, and outline variables.\n",
    "The text in a Word document is more than just a string.\n",
    "It has font, size, color, and other styling information associated with it.\n",
    "\n",
    "A style in Word is a collection of these attributes.\n",
    "A Run object is a contiguous run of text with the same style.\n",
    "A new Run object is needed whenever the text style changes."
   ]
  },
  {
   "cell_type": "markdown",
   "id": "2c20167a",
   "metadata": {},
   "source": [
    "9. What is the difference between False, True, and None for the bold variable?"
   ]
  },
  {
   "cell_type": "code",
   "execution_count": null,
   "id": "4e20849d",
   "metadata": {},
   "outputs": [],
   "source": [
    "Ans. \n",
    "bold = True   # Enabled\n",
    "bold = False  # Disable\n",
    "bold = None   # Defalut "
   ]
  },
  {
   "cell_type": "markdown",
   "id": "44c3fe86",
   "metadata": {},
   "source": [
    "10. How do you create a Document object for a new Word document?"
   ]
  },
  {
   "cell_type": "code",
   "execution_count": null,
   "id": "365ad803",
   "metadata": {},
   "outputs": [],
   "source": [
    "#Ans.\n",
    "doc = docx.Document()\n",
    "doc.add_paragraph('Hello World')\n",
    "doc.save('test.docx')"
   ]
  },
  {
   "cell_type": "markdown",
   "id": "8f04e203",
   "metadata": {},
   "source": [
    "11. How do you add a paragraph with the text 'Hello, there!' to a Document object stored in a variable named doc?"
   ]
  },
  {
   "cell_type": "code",
   "execution_count": null,
   "id": "a909c222",
   "metadata": {},
   "outputs": [],
   "source": [
    "#Ans.\n",
    "doc = docx.Document()     # document stored in a variable\n",
    "doc.add_paragraph('Hello World!')  # add paragraph\n",
    "doc.save('helloworld.docx')  "
   ]
  },
  {
   "cell_type": "markdown",
   "id": "16a12b4c",
   "metadata": {},
   "source": [
    "12. What integers represent the levels of headings available in Word documents?"
   ]
  },
  {
   "cell_type": "markdown",
   "id": "6a9e0bfc",
   "metadata": {},
   "source": [
    "Ans.\n",
    "The levels for a heading in a word document can be specified by using the level attribute inside the add_heading method.\n",
    "There are a total of 5 levels statring for 0 t0 4,\n",
    "where level 0 makes a headline with the horizontal line below the text, whereas the heading level 1 is the main heading. Similarly, the other headings are sub-heading with their's font-sizes in decreasing order."
   ]
  }
 ],
 "metadata": {
  "kernelspec": {
   "display_name": "Python 3",
   "language": "python",
   "name": "python3"
  },
  "language_info": {
   "codemirror_mode": {
    "name": "ipython",
    "version": 3
   },
   "file_extension": ".py",
   "mimetype": "text/x-python",
   "name": "python",
   "nbconvert_exporter": "python",
   "pygments_lexer": "ipython3",
   "version": "3.8.8"
  }
 },
 "nbformat": 4,
 "nbformat_minor": 5
}
