{
 "cells": [
  {
   "cell_type": "markdown",
   "id": "8a51ae47",
   "metadata": {},
   "source": [
    "1. Is the Python Standard Library included with PyInputPlus?"
   ]
  },
  {
   "cell_type": "markdown",
   "id": "2f96ef63",
   "metadata": {},
   "source": [
    "Ans.\n",
    "No, PyInputPlus is not a part of Python Standard Library.\n",
    "We have to pip install PyInputPlus first. Then we can use it.\n",
    "PyInputPlus is useful for taking our desired input from user.\n",
    "It gives us the ability to specify in which format we want our input."
   ]
  },
  {
   "cell_type": "markdown",
   "id": "4ac6567c",
   "metadata": {},
   "source": [
    "2. Why is PyInputPlus commonly imported with import pyinputplus as pypi?"
   ]
  },
  {
   "cell_type": "markdown",
   "id": "3d977ebb",
   "metadata": {},
   "source": [
    "Ans.\n",
    "PyInputPlus is commonly imported with the alias pypi (short for PyPI, the Python Package Index) to make it easier and more concise to use in code.\n",
    "By using the aliaspypi, developers can refer to PyInputPlus functions and classes with shorter and more readable names, which can make the code easier to understand and maintain.\n",
    "The alias pypi is not mandatory and developers can use any valid Python identifier to alias the PyInputPlus module.\n",
    "However, pypi is a common choice and has become a convention in the Python community, making it more recognizable and easier to understand for other developers."
   ]
  },
  {
   "cell_type": "markdown",
   "id": "a17c7813",
   "metadata": {},
   "source": [
    "3. How do you distinguish between inputInt() and inputFloat()?"
   ]
  },
  {
   "cell_type": "markdown",
   "id": "3f3227a3",
   "metadata": {},
   "source": [
    "Ans:\n",
    "inputInt() function accepts an integer value.\n",
    "It also takes additional parameters min, max, greaterThan and less than for bounds and it always returns an int.\n",
    "\n",
    "whereas\n",
    "\n",
    "inputFloat() function accepts a floating-point numeric value.\n",
    "It also takes additional min, max, greaterThan and lessThan parameters. and always returns a float."
   ]
  },
  {
   "cell_type": "markdown",
   "id": "a694adcc",
   "metadata": {},
   "source": [
    "4. Using PyInputPlus, how do you ensure that the user enters a whole number between 0 and 99?"
   ]
  },
  {
   "cell_type": "markdown",
   "id": "e5680b9c",
   "metadata": {},
   "source": [
    "Ans.\n",
    "PyInputPlus module provides a function called as inputInt() which only returns only integer values. inorder to restrict the input between 0 and 99, i'ii use parameters like min & max to ensure that user enters the values between the defined range only.\n",
    "\n",
    "import pyinputplus as pyip\n",
    "wholenumber = pyip.inputInt(prompt='Enter a number: ', min=0, max=100)\n",
    "print(wholenumber)"
   ]
  },
  {
   "cell_type": "markdown",
   "id": "229d8311",
   "metadata": {},
   "source": [
    "5. What is transferred to the keyword arguments allowRegexes and blockRegexes?"
   ]
  },
  {
   "cell_type": "markdown",
   "id": "ace0b25f",
   "metadata": {},
   "source": [
    "Ans.\n",
    "We can use allowRegexes and blockRegexes keyword arguments to take list of regular expression strings to determine what the pyinputplus function will reject or accept valid input."
   ]
  },
  {
   "cell_type": "markdown",
   "id": "f3836783",
   "metadata": {},
   "source": [
    "6. If a blank input is entered three times, what does inputStr(limit=3) do?"
   ]
  },
  {
   "cell_type": "markdown",
   "id": "d925ebba",
   "metadata": {},
   "source": [
    "Ans.\n",
    "The statement inputStr(limit=3) will throw two exceptions ValidationException and RetryLimitException.\n",
    "The first exception is thrown because blank values are not allowed by inputStr() function by default.\n",
    "If we want to consider blank values as valid input, we have to set blank=True.\n",
    "\n",
    "The second exception is occured because we have reached the max limit we have specified by using limit parameter.\n",
    "In order to avoid this exception we can use default parameter to return a default value when max limit is reached."
   ]
  },
  {
   "cell_type": "markdown",
   "id": "47345af5",
   "metadata": {},
   "source": [
    "7. If blank input is entered three times, what does inputStr(limit=3, default='hello') do?"
   ]
  },
  {
   "cell_type": "markdown",
   "id": "afa75524",
   "metadata": {},
   "source": [
    "Ans.\n",
    "Since the default parameter is set to hello,\n",
    "after blank input is entered three times instead of raising RetryLimitException exception,\n",
    "the function will return hello as response to the calling function."
   ]
  }
 ],
 "metadata": {
  "kernelspec": {
   "display_name": "Python 3",
   "language": "python",
   "name": "python3"
  },
  "language_info": {
   "codemirror_mode": {
    "name": "ipython",
    "version": 3
   },
   "file_extension": ".py",
   "mimetype": "text/x-python",
   "name": "python",
   "nbconvert_exporter": "python",
   "pygments_lexer": "ipython3",
   "version": "3.8.8"
  }
 },
 "nbformat": 4,
 "nbformat_minor": 5
}
