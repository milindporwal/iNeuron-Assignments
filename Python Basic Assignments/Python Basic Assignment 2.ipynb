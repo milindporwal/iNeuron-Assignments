{
 "cells": [
  {
   "cell_type": "markdown",
   "id": "a60a22f4",
   "metadata": {},
   "source": [
    "1. What are the two values of the Boolean data type? How do you write them?"
   ]
  },
  {
   "cell_type": "markdown",
   "id": "54cfb8c3",
   "metadata": {},
   "source": [
    "Ans.\n",
    "The two values of the Boolean data type are True and False.\n",
    "They are written as True and False, that is, with the first letter capitalized."
   ]
  },
  {
   "cell_type": "markdown",
   "id": "74506302",
   "metadata": {},
   "source": [
    "2. What are the three different types of Boolean operators?"
   ]
  },
  {
   "cell_type": "markdown",
   "id": "0ccf79ee",
   "metadata": {},
   "source": [
    "Ans.\n",
    "The three different types of Boolean operators in python are: \n",
    "and\n",
    "or\n",
    "not"
   ]
  },
  {
   "cell_type": "markdown",
   "id": "0bb187a6",
   "metadata": {},
   "source": [
    "3. Make a list of each Boolean operator's truth tables (i.e. every possible combination of Boolean values for the operator and what it evaluate )."
   ]
  },
  {
   "cell_type": "markdown",
   "id": "bfbf68f1",
   "metadata": {},
   "source": [
    "Ans.\n",
    "The Truth tables for the boolean operators is as follows:\n",
    "\n",
    "    Truth Table for and operator :\n",
    "    True and True is True\n",
    "    True and False is False\n",
    "    False and True is False\n",
    "    False and False is False\n",
    "\n",
    "    Truth Table for or operator :\n",
    "    True and True is True\n",
    "    True and False is True\n",
    "    False and True is True\n",
    "    False and False is False\n",
    "\n",
    "    Truth Table for not operator :\n",
    "    not True is False\n",
    "    not False is True\n"
   ]
  },
  {
   "cell_type": "markdown",
   "id": "93f89419",
   "metadata": {},
   "source": [
    "4. What are the values of the following expressions?\n",
    "(5 > 4) and (3 == 5)\n",
    "not (5 > 4)\n",
    "(5 > 4) or (3 == 5)\n",
    "not ((5 > 4) or (3 == 5))\n",
    "(True and True) and (True == False)\n",
    "(not False) or (not True)"
   ]
  },
  {
   "cell_type": "markdown",
   "id": "d6074643",
   "metadata": {},
   "source": [
    "Ans.\n",
    "(5 > 4) and (3 == 5) gives False\n",
    "not (5 > 4) gives False\n",
    "(5 > 4) or (3 == 5) gives True\n",
    "not ((5 > 4) or (3 == 5)) gives False\n",
    "(True and True) and (True == False) gives False\n",
    "(not False) or (not True) gives True"
   ]
  },
  {
   "cell_type": "markdown",
   "id": "3809e3e4",
   "metadata": {},
   "source": [
    "5. What are the six comparison operators?"
   ]
  },
  {
   "cell_type": "markdown",
   "id": "47901827",
   "metadata": {},
   "source": [
    "Ans.\n",
    "       > , < , >= , <= , != , =="
   ]
  },
  {
   "cell_type": "markdown",
   "id": "296abed3",
   "metadata": {},
   "source": [
    "6. How do you tell the difference between the equal to and assignment operators?\n",
    "Describe a condition and when you would use one."
   ]
  },
  {
   "cell_type": "markdown",
   "id": "35b6116a",
   "metadata": {},
   "source": [
    "Ans.\n",
    "== is the equal to operator that compares two values are equal or not and evaluates it to a Boolean\n",
    "= is the assignment operator that assigns the value on right to the variable on left."
   ]
  },
  {
   "cell_type": "code",
   "execution_count": 1,
   "id": "bf744a64",
   "metadata": {},
   "outputs": [
    {
     "name": "stdout",
     "output_type": "stream",
     "text": [
      "False\n"
     ]
    }
   ],
   "source": [
    "a = 45 # Assignment\n",
    "if a == 67: #Comparison\n",
    "    print(\"True\")\n",
    "else:\n",
    "    print(\"False\")"
   ]
  },
  {
   "cell_type": "code",
   "execution_count": 2,
   "id": "de032269",
   "metadata": {},
   "outputs": [
    {
     "data": {
      "text/plain": [
       "45"
      ]
     },
     "execution_count": 2,
     "metadata": {},
     "output_type": "execute_result"
    }
   ],
   "source": [
    "a"
   ]
  },
  {
   "cell_type": "markdown",
   "id": "4fbb3e9a",
   "metadata": {},
   "source": [
    "7. Identify the three blocks in this code:\n",
    "spam = 0\n",
    "if spam == 10:\n",
    "print('eggs')\n",
    "if spam > 5:\n",
    "print('bacon')\n",
    "else:\n",
    "print('ham')\n",
    "print('spam')\n",
    "print('spam')"
   ]
  },
  {
   "cell_type": "code",
   "execution_count": 4,
   "id": "88924ef3",
   "metadata": {},
   "outputs": [
    {
     "name": "stdout",
     "output_type": "stream",
     "text": [
      "ham\n",
      "spam\n",
      "spam\n"
     ]
    }
   ],
   "source": [
    "#Ans.\n",
    "spam = 0\n",
    "    \n",
    "if spam == 10:\n",
    "    print('eggs')  # block 1\n",
    "\n",
    "if spam > 5:\n",
    "    print('bacon') # block 2\n",
    "else:         \n",
    "    print('ham')   # block 3\n",
    "print('spam')\n",
    "print('spam')"
   ]
  },
  {
   "cell_type": "markdown",
   "id": "131531d3",
   "metadata": {},
   "source": [
    "8. Write code that prints Hello if 1 is stored in spam, prints Howdy if 2 is stored in spam, and prints Greetings! if anything else is stored in spam."
   ]
  },
  {
   "cell_type": "code",
   "execution_count": 6,
   "id": "212cd997",
   "metadata": {},
   "outputs": [
    {
     "name": "stdout",
     "output_type": "stream",
     "text": [
      " Enter a numeric value:  1\n",
      "Input 1\n",
      "Hello\n"
     ]
    }
   ],
   "source": [
    "spam = int(input(\" Enter a numeric value:  \"))\n",
    "print(\"Input\", spam)\n",
    "\n",
    "if spam == 1: \n",
    "    print(\"Hello\")\n",
    "elif spam == 2:\n",
    "    print(\"Howdy\")\n",
    "else:\n",
    "    print(\"Greetings\")"
   ]
  },
  {
   "cell_type": "code",
   "execution_count": 7,
   "id": "df93dded",
   "metadata": {},
   "outputs": [
    {
     "name": "stdout",
     "output_type": "stream",
     "text": [
      " Enter a numeric value:  2\n",
      "Input 2\n",
      "Howdy\n"
     ]
    }
   ],
   "source": [
    "spam = int(input(\" Enter a numeric value:  \"))\n",
    "print(\"Input\", spam)\n",
    "\n",
    "if spam == 1: \n",
    "    print(\"Hello\")\n",
    "elif spam == 2:\n",
    "    print(\"Howdy\")\n",
    "else:\n",
    "    print(\"Greetings\")"
   ]
  },
  {
   "cell_type": "code",
   "execution_count": 8,
   "id": "b6a7214a",
   "metadata": {},
   "outputs": [
    {
     "name": "stdout",
     "output_type": "stream",
     "text": [
      " Enter a numeric value:  67\n",
      "Input 67\n",
      "Greetings\n"
     ]
    }
   ],
   "source": [
    "#Ans\n",
    "spam = int(input(\" Enter a numeric value:  \"))\n",
    "print(\"Input\", spam)\n",
    "\n",
    "if spam == 1: \n",
    "    print(\"Hello\")\n",
    "elif spam == 2:\n",
    "    print(\"Howdy\")\n",
    "else:\n",
    "    print(\"Greetings\")"
   ]
  },
  {
   "cell_type": "markdown",
   "id": "dfe684fc",
   "metadata": {},
   "source": [
    "9.If your programme is stuck in an endless loop, what keys you’ll press?"
   ]
  },
  {
   "cell_type": "markdown",
   "id": "102c4fce",
   "metadata": {},
   "source": [
    "Ans. \n",
    "Press Ctrl+C to stop a program stuck in an endless loop or you can click Kernel--->Restart"
   ]
  },
  {
   "cell_type": "markdown",
   "id": "ad91db8c",
   "metadata": {},
   "source": [
    "10. How can you tell the difference between break and continue?"
   ]
  },
  {
   "cell_type": "markdown",
   "id": "db3e26f5",
   "metadata": {},
   "source": [
    "Ans.\n",
    "break, continue, pass are control flow statements.\n",
    "\n",
    "When the interpreter encounters a break statement inside a loop, it immediately exits the loop and continues with the next statement after the loop.\n",
    "\n",
    "The continue statement, on the other hand, is used to skip the current iteration of the loop and continue with the next iteration. When the interpreter encounters a continue statement inside a loop, it skips the remaining statements in the current iteration and moves on to the next iteration.\n"
   ]
  },
  {
   "cell_type": "code",
   "execution_count": 10,
   "id": "e29750f6",
   "metadata": {},
   "outputs": [
    {
     "name": "stdout",
     "output_type": "stream",
     "text": [
      "0\n",
      "1\n",
      "2\n",
      "3\n"
     ]
    }
   ],
   "source": [
    "for i in range(6):\n",
    "    if i == 4:\n",
    "        break # breaks the entire loop , that is, i = 4\n",
    "    print(i)"
   ]
  },
  {
   "cell_type": "code",
   "execution_count": 11,
   "id": "26da4f0a",
   "metadata": {},
   "outputs": [
    {
     "name": "stdout",
     "output_type": "stream",
     "text": [
      "0\n",
      "1\n",
      "2\n",
      "3\n",
      "5\n"
     ]
    }
   ],
   "source": [
    "for i in range(6):\n",
    "    if i == 4:\n",
    "        continue # skips the current iteration , that is, i = 4\n",
    "    print(i)"
   ]
  },
  {
   "cell_type": "code",
   "execution_count": 12,
   "id": "f7655cf8",
   "metadata": {},
   "outputs": [
    {
     "name": "stdout",
     "output_type": "stream",
     "text": [
      "0\n",
      "1\n",
      "2\n",
      "3\n",
      "4\n",
      "5\n"
     ]
    }
   ],
   "source": [
    "# pass is used to just fill up the indentation and do nothing.\n",
    "for i in range(6):\n",
    "    if i == 4:\n",
    "        pass # Does nothing\n",
    "    print(i)"
   ]
  },
  {
   "cell_type": "markdown",
   "id": "2aef7c95",
   "metadata": {},
   "source": [
    "11. In a for loop, what is the difference between range(10), range(0, 10), and range(0, 10, 1)?"
   ]
  },
  {
   "cell_type": "code",
   "execution_count": 13,
   "id": "1cd8e3b4",
   "metadata": {},
   "outputs": [
    {
     "name": "stdout",
     "output_type": "stream",
     "text": [
      "0\n",
      "1\n",
      "2\n",
      "3\n",
      "4\n"
     ]
    }
   ],
   "source": [
    "for i in range(5):\n",
    "    print(i)"
   ]
  },
  {
   "cell_type": "code",
   "execution_count": 14,
   "id": "6be35acc",
   "metadata": {},
   "outputs": [
    {
     "name": "stdout",
     "output_type": "stream",
     "text": [
      "0\n",
      "1\n",
      "2\n",
      "3\n",
      "4\n"
     ]
    }
   ],
   "source": [
    "for i in range(0, 5):\n",
    "    print(i)"
   ]
  },
  {
   "cell_type": "code",
   "execution_count": 16,
   "id": "6ff12a43",
   "metadata": {},
   "outputs": [
    {
     "name": "stdout",
     "output_type": "stream",
     "text": [
      "0\n",
      "1\n",
      "2\n",
      "3\n",
      "4\n"
     ]
    }
   ],
   "source": [
    "for i in range(0, 5, 1):\n",
    "    print(i)"
   ]
  },
  {
   "cell_type": "code",
   "execution_count": 17,
   "id": "1e67d4f4",
   "metadata": {},
   "outputs": [
    {
     "name": "stdout",
     "output_type": "stream",
     "text": [
      "[0, 1, 2, 3, 4]\n",
      "[0, 1, 2, 3, 4]\n",
      "[0, 1, 2, 3, 4]\n"
     ]
    }
   ],
   "source": [
    "# As we can see that there is no difference between the output of three different ways of\n",
    "# writing range function\n",
    "# range(start, end, step) \n",
    "r1 = range(5) # only value for end is given, by default start is 0 and step is 1.\n",
    "print(list(r1))\n",
    "r2 = range(0, 5) # only value for end and start is given, by default step is 1.\n",
    "print(list(r2))\n",
    "r3 = range(0, 5, 1)\n",
    "print(list(r3))"
   ]
  },
  {
   "cell_type": "code",
   "execution_count": 18,
   "id": "c2803572",
   "metadata": {},
   "outputs": [
    {
     "name": "stdout",
     "output_type": "stream",
     "text": [
      "[0, 1, 2, 3, 4]\n",
      "[3, 4, 5, 6, 7]\n",
      "[3, 5, 7, 9, 11, 13, 15]\n"
     ]
    }
   ],
   "source": [
    "r4 = range(5) # only value for end is given, by default start is 0 and step is 1.\n",
    "print(list(r4))\n",
    "r5 = range(3, 8) # we have start value as 3 and end value as 8 (which is excluded)\n",
    "print(list(r5))\n",
    "r6 = range(3, 17, 2) # we have given step value as 2 which will make it jump by 2 points.\n",
    "print(list(r6))"
   ]
  },
  {
   "cell_type": "markdown",
   "id": "338fc416",
   "metadata": {},
   "source": [
    "12. Write a short program that prints the numbers 1 to 10 using a for loop. Then write an equivalent program that prints the numbers 1 to 10 using a while loop."
   ]
  },
  {
   "cell_type": "code",
   "execution_count": 19,
   "id": "c4c0a8e7",
   "metadata": {},
   "outputs": [
    {
     "name": "stdout",
     "output_type": "stream",
     "text": [
      "1\n",
      "2\n",
      "3\n",
      "4\n",
      "5\n",
      "6\n",
      "7\n",
      "8\n",
      "9\n",
      "10\n"
     ]
    }
   ],
   "source": [
    "for i in range(1, 11):\n",
    "    print(i)"
   ]
  },
  {
   "cell_type": "code",
   "execution_count": 20,
   "id": "f03e29f5",
   "metadata": {},
   "outputs": [
    {
     "name": "stdout",
     "output_type": "stream",
     "text": [
      "1\n",
      "2\n",
      "3\n",
      "4\n",
      "5\n",
      "6\n",
      "7\n",
      "8\n",
      "9\n",
      "10\n"
     ]
    }
   ],
   "source": [
    "flag = True\n",
    "i = 1\n",
    "while flag:\n",
    "    if i <= 10:\n",
    "        print(i)\n",
    "        i = i + 1\n",
    "    else:\n",
    "        flag = False"
   ]
  },
  {
   "cell_type": "markdown",
   "id": "9244a7b3",
   "metadata": {},
   "source": [
    "13. If you had a function named bacon() inside a module named spam, how would you call it after importing spam?"
   ]
  },
  {
   "cell_type": "markdown",
   "id": "d62300f3",
   "metadata": {},
   "source": [
    "Ans.\n",
    "This function can be called by spam.bacon()\n",
    "\n",
    "spam is the name of the module and bacon is the name of the function. To call the function, we have to use the syntax\n",
    "module_name.function_name()."
   ]
  },
  {
   "cell_type": "code",
   "execution_count": null,
   "id": "1847e54f",
   "metadata": {},
   "outputs": [],
   "source": []
  }
 ],
 "metadata": {
  "kernelspec": {
   "display_name": "Python 3",
   "language": "python",
   "name": "python3"
  },
  "language_info": {
   "codemirror_mode": {
    "name": "ipython",
    "version": 3
   },
   "file_extension": ".py",
   "mimetype": "text/x-python",
   "name": "python",
   "nbconvert_exporter": "python",
   "pygments_lexer": "ipython3",
   "version": "3.8.8"
  }
 },
 "nbformat": 4,
 "nbformat_minor": 5
}
