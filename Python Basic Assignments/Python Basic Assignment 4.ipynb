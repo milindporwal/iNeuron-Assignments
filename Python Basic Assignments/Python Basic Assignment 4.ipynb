{
 "cells": [
  {
   "cell_type": "markdown",
   "id": "f7160a4d",
   "metadata": {},
   "source": [
    "1. What exactly is []?"
   ]
  },
  {
   "cell_type": "markdown",
   "id": "246ba4c7",
   "metadata": {},
   "source": [
    "Ans. [] represents an empty list. This is similar to '' which represents an empty string.\n",
    "It is a built-in data type used to store multiple values in a single variable.\n",
    "Lists are ordered, mutable, and can contain elements of different data types."
   ]
  },
  {
   "cell_type": "markdown",
   "id": "bfa85ed7",
   "metadata": {},
   "source": [
    "2. In a list of values stored in a variable called spam, how would you assign the value 'hello' as the third value? (Assume [2, 4, 6, 8, 10] are in spam.)"
   ]
  },
  {
   "cell_type": "code",
   "execution_count": 3,
   "id": "64d5712d",
   "metadata": {},
   "outputs": [
    {
     "name": "stdout",
     "output_type": "stream",
     "text": [
      "[2, 4, 6, 8, 10]\n",
      "[2, 4, 'hello', 8, 10]\n"
     ]
    }
   ],
   "source": [
    "#Ans.\n",
    "spam=[2,4,6,8,10]\n",
    "print(spam)\n",
    "spam[2]='hello' #List uses zero based indexing\n",
    "print(spam)"
   ]
  },
  {
   "cell_type": "code",
   "execution_count": 5,
   "id": "49045a55",
   "metadata": {},
   "outputs": [
    {
     "name": "stdout",
     "output_type": "stream",
     "text": [
      "[2, 4, 'hello', 6, 8, 10]\n"
     ]
    }
   ],
   "source": [
    "# we can use insert function, in case if we do not want to replace element at given index\n",
    "spam =  [2, 4, 6, 8, 10] \n",
    "spam.insert(2, \"hello\") # inserts \"hello\" at index and reorders followed elements\n",
    "print(spam)"
   ]
  },
  {
   "cell_type": "markdown",
   "id": "1189cc57",
   "metadata": {},
   "source": [
    "Let's pretend the spam includes the list ['a', 'b', 'c', 'd'] for the next three queries.\n",
    "3. What is the value of spam[int(int('3' * 2) / 11)]?"
   ]
  },
  {
   "cell_type": "code",
   "execution_count": 7,
   "id": "aac96704",
   "metadata": {},
   "outputs": [],
   "source": [
    "#Ans. \n",
    "spam = ['a', 'b', 'c', 'd']"
   ]
  },
  {
   "cell_type": "markdown",
   "id": "ec8c19c1",
   "metadata": {},
   "source": [
    "- The expression `int('3' * 2)` evaluates to the integer `33`.\n",
    "- Dividing `33` by `11` using integer division results in `3`.\n",
    "- Therefore, `spam[int(int('3' * 2) / 11)]` is equivalent to `spam[3]`."
   ]
  },
  {
   "cell_type": "code",
   "execution_count": 8,
   "id": "b830aefb",
   "metadata": {},
   "outputs": [
    {
     "data": {
      "text/plain": [
       "'d'"
      ]
     },
     "execution_count": 8,
     "metadata": {},
     "output_type": "execute_result"
    }
   ],
   "source": [
    "spam[int(int('3' * 2) / 11)]"
   ]
  },
  {
   "cell_type": "code",
   "execution_count": 9,
   "id": "49e45637",
   "metadata": {},
   "outputs": [
    {
     "data": {
      "text/plain": [
       "'33'"
      ]
     },
     "execution_count": 9,
     "metadata": {},
     "output_type": "execute_result"
    }
   ],
   "source": [
    "'3' * 2 # When we multiply string '3' to int 2, we get 33 as result which is a string"
   ]
  },
  {
   "cell_type": "code",
   "execution_count": 10,
   "id": "8b43c481",
   "metadata": {},
   "outputs": [
    {
     "data": {
      "text/plain": [
       "3.0"
      ]
     },
     "execution_count": 10,
     "metadata": {},
     "output_type": "execute_result"
    }
   ],
   "source": [
    "int('3' * 2) / 11 #After we convert it into int we divide it with 11 which gives 3.0 as float"
   ]
  },
  {
   "cell_type": "code",
   "execution_count": 11,
   "id": "036d778a",
   "metadata": {},
   "outputs": [
    {
     "data": {
      "text/plain": [
       "'d'"
      ]
     },
     "execution_count": 11,
     "metadata": {},
     "output_type": "execute_result"
    }
   ],
   "source": [
    "spam[int(int('3' * 2) / 11)] # We convert 3.0 float value to int 3, which we pass as index"
   ]
  },
  {
   "cell_type": "markdown",
   "id": "992571a2",
   "metadata": {},
   "source": [
    "4. What is the value of spam[-1]?"
   ]
  },
  {
   "cell_type": "code",
   "execution_count": 12,
   "id": "19af40d9",
   "metadata": {},
   "outputs": [
    {
     "data": {
      "text/plain": [
       "'d'"
      ]
     },
     "execution_count": 12,
     "metadata": {},
     "output_type": "execute_result"
    }
   ],
   "source": [
    "#Ans.\n",
    "spam[-1]"
   ]
  },
  {
   "cell_type": "markdown",
   "id": "a4ee386a",
   "metadata": {},
   "source": [
    "spam1[-1] will give \"d\" as the result because we are using negative indexing.\n",
    "Negative indexing starts from -1, -2, -3, and so on, and \"d\" is the 1 st element from last.\n",
    "So we will get \"d\" as the result because we are using negative indexing."
   ]
  },
  {
   "cell_type": "markdown",
   "id": "9b5a03a4",
   "metadata": {},
   "source": [
    "5. What is the value of spam[:2]?"
   ]
  },
  {
   "cell_type": "code",
   "execution_count": 13,
   "id": "328ea41e",
   "metadata": {},
   "outputs": [
    {
     "data": {
      "text/plain": [
       "['a', 'b']"
      ]
     },
     "execution_count": 13,
     "metadata": {},
     "output_type": "execute_result"
    }
   ],
   "source": [
    "#Ans\n",
    "spam[:2] # By default start = 0 and step = 1"
   ]
  },
  {
   "cell_type": "markdown",
   "id": "48a602a0",
   "metadata": {},
   "source": [
    "Here we are using slicing of list.\n",
    "list[start:end:step] is a format for slicing string,\n",
    "In spam[:2] we are telling to stop at index 2, hence we get only first two elements of list."
   ]
  },
  {
   "cell_type": "markdown",
   "id": "adbada6b",
   "metadata": {},
   "source": [
    "Let's pretend bacon has the list [3.14, 'cat,' 11, 'cat,' True] for the next three questions.\n",
    "6. What is the value of bacon.index('cat')?"
   ]
  },
  {
   "cell_type": "code",
   "execution_count": 14,
   "id": "496d09c0",
   "metadata": {},
   "outputs": [],
   "source": [
    "bacon = [3.14, 'cat', 11, 'cat', True]"
   ]
  },
  {
   "cell_type": "code",
   "execution_count": 15,
   "id": "60768e6c",
   "metadata": {},
   "outputs": [
    {
     "data": {
      "text/plain": [
       "1"
      ]
     },
     "execution_count": 15,
     "metadata": {},
     "output_type": "execute_result"
    }
   ],
   "source": [
    "bacon.index('cat') #it gives first occurrence of string 'cat' which is at index 1"
   ]
  },
  {
   "cell_type": "markdown",
   "id": "08dbf2ce",
   "metadata": {},
   "source": [
    "7. How does bacon.append(99) change the look of the list value in bacon?"
   ]
  },
  {
   "cell_type": "markdown",
   "id": "a1a5fec1",
   "metadata": {},
   "source": [
    "list.append(element) We can add additional elements to the list.\n",
    "bacon.append(99) will append the value 99 to the list bacon."
   ]
  },
  {
   "cell_type": "code",
   "execution_count": 16,
   "id": "42771f90",
   "metadata": {},
   "outputs": [
    {
     "name": "stdout",
     "output_type": "stream",
     "text": [
      "[3.14, 'cat', 11, 'cat', True, 99]\n"
     ]
    }
   ],
   "source": [
    "bacon.append(99) # adds int 99 to the end of the list.\n",
    "print(bacon)"
   ]
  },
  {
   "cell_type": "markdown",
   "id": "799ba2fd",
   "metadata": {},
   "source": [
    "8. How does bacon.remove('cat') change the look of the list in bacon?"
   ]
  },
  {
   "cell_type": "code",
   "execution_count": 17,
   "id": "c6570355",
   "metadata": {},
   "outputs": [],
   "source": [
    "bacon.remove('cat') # Removes first occurrence of value."
   ]
  },
  {
   "cell_type": "code",
   "execution_count": 18,
   "id": "18ed457a",
   "metadata": {},
   "outputs": [
    {
     "name": "stdout",
     "output_type": "stream",
     "text": [
      "[3.14, 11, 'cat', True, 99]\n"
     ]
    }
   ],
   "source": [
    "print(bacon)"
   ]
  },
  {
   "cell_type": "code",
   "execution_count": 19,
   "id": "b5b0149d",
   "metadata": {},
   "outputs": [
    {
     "name": "stdout",
     "output_type": "stream",
     "text": [
      "[3.14, 11, True, 99]\n"
     ]
    }
   ],
   "source": [
    "bacon.remove('cat')\n",
    "print(bacon)"
   ]
  },
  {
   "cell_type": "code",
   "execution_count": 20,
   "id": "b346addc",
   "metadata": {},
   "outputs": [
    {
     "ename": "ValueError",
     "evalue": "list.remove(x): x not in list",
     "output_type": "error",
     "traceback": [
      "\u001b[1;31m---------------------------------------------------------------------------\u001b[0m",
      "\u001b[1;31mValueError\u001b[0m                                Traceback (most recent call last)",
      "\u001b[1;32m<ipython-input-20-736527f70426>\u001b[0m in \u001b[0;36m<module>\u001b[1;34m\u001b[0m\n\u001b[1;32m----> 1\u001b[1;33m \u001b[0mbacon\u001b[0m\u001b[1;33m.\u001b[0m\u001b[0mremove\u001b[0m\u001b[1;33m(\u001b[0m\u001b[1;34m'cat'\u001b[0m\u001b[1;33m)\u001b[0m \u001b[1;31m# Raises ValueError if the value is not present.\u001b[0m\u001b[1;33m\u001b[0m\u001b[1;33m\u001b[0m\u001b[0m\n\u001b[0m\u001b[0;32m      2\u001b[0m \u001b[0mprint\u001b[0m\u001b[1;33m(\u001b[0m\u001b[0mbacon\u001b[0m\u001b[1;33m)\u001b[0m\u001b[1;33m\u001b[0m\u001b[1;33m\u001b[0m\u001b[0m\n",
      "\u001b[1;31mValueError\u001b[0m: list.remove(x): x not in list"
     ]
    }
   ],
   "source": [
    "bacon.remove('cat') # Raises ValueError if the value is not present.\n",
    "print(bacon) "
   ]
  },
  {
   "cell_type": "markdown",
   "id": "637c6666",
   "metadata": {},
   "source": [
    "9. What are the list concatenation and list replication operators?"
   ]
  },
  {
   "cell_type": "markdown",
   "id": "ea357780",
   "metadata": {},
   "source": [
    "Ans. \n",
    "List Concatenation Operator: + \n",
    "We use addition sign as Concatenation operator for lists.\n",
    "When we concatenate two lists we get new list with elements of first list followed by elements of second list.\n",
    "This does not Modify Original list."
   ]
  },
  {
   "cell_type": "code",
   "execution_count": 21,
   "id": "539acee7",
   "metadata": {},
   "outputs": [
    {
     "name": "stdout",
     "output_type": "stream",
     "text": [
      "[1, 2, 3, 4, 5, 6, 7, 8, 9, 10]\n"
     ]
    }
   ],
   "source": [
    "list1 = [1, 2, 3, 4, 5]\n",
    "list2 = [6, 7, 8, 9, 10]\n",
    "concat_list = list1 + list2\n",
    "print(concat_list)"
   ]
  },
  {
   "cell_type": "markdown",
   "id": "2b5874dd",
   "metadata": {},
   "source": [
    "List Replication Operator: *\n",
    "We use asterisk sign as Replication operator for lists.\n",
    "When we replicate a list, we get new list with elements of an existing list a certain number of times.\n",
    "It creates a new list that contains multiple copies of the original list."
   ]
  },
  {
   "cell_type": "code",
   "execution_count": 22,
   "id": "6b2d1745",
   "metadata": {},
   "outputs": [
    {
     "name": "stdout",
     "output_type": "stream",
     "text": [
      "[1, 2, 3, 4, 5, 1, 2, 3, 4, 5, 1, 2, 3, 4, 5]\n"
     ]
    }
   ],
   "source": [
    "rep_list = list1 * 3\n",
    "print(rep_list)"
   ]
  },
  {
   "cell_type": "markdown",
   "id": "47f1276b",
   "metadata": {},
   "source": [
    "10. What is difference between the list methods append() and insert()?"
   ]
  },
  {
   "cell_type": "markdown",
   "id": "d1671a0d",
   "metadata": {},
   "source": [
    "Ans.\n",
    "append() can add values only to the end of a list.\n",
    "append() takes one argument as (element)\n",
    "\n",
    "insert() can add them anywhere in the list at given index.\n",
    "insert() takes two arguments as (index, element)"
   ]
  },
  {
   "cell_type": "code",
   "execution_count": 26,
   "id": "bf0d539c",
   "metadata": {},
   "outputs": [
    {
     "name": "stdout",
     "output_type": "stream",
     "text": [
      "[1, 2, 3, 'appended']\n",
      "[1, 2, 'inserted', 3, 'appended']\n"
     ]
    }
   ],
   "source": [
    "list3 = [1, 2, 3]\n",
    "list3.append(\"appended\")\n",
    "print(list3)\n",
    "list3.insert(2, \"inserted\")\n",
    "print(list3)"
   ]
  },
  {
   "cell_type": "code",
   "execution_count": 24,
   "id": "d5ab36df",
   "metadata": {},
   "outputs": [
    {
     "name": "stdout",
     "output_type": "stream",
     "text": [
      "[1, 2, 'inserted', 3, 'appended', 6, 7, 8, 9, 10]\n"
     ]
    }
   ],
   "source": [
    "#Also \n",
    "list3.extend(list2) # We can use extend() which works similar to list concatenation.\n",
    "print(list3)"
   ]
  },
  {
   "cell_type": "markdown",
   "id": "1b9c0bdc",
   "metadata": {},
   "source": [
    "11. What are the two methods for removing items from a list?"
   ]
  },
  {
   "cell_type": "markdown",
   "id": "62f097cd",
   "metadata": {},
   "source": [
    "Ans.\n",
    "Two methods for removing items from a list are pop() and remove():\n",
    "\n",
    "pop()\n",
    "-deletes last element by default\n",
    "-returns deleted element\n",
    "-raises IndexError when out of range\n",
    "\n",
    "remove()\n",
    "-deletes first occurrence of given element\n",
    "-does not return deleted element\n",
    "-raises ValueError when no match found for element"
   ]
  },
  {
   "cell_type": "code",
   "execution_count": 27,
   "id": "21c68f0c",
   "metadata": {},
   "outputs": [
    {
     "name": "stdout",
     "output_type": "stream",
     "text": [
      "[1, 2, 3, 4, 5, 6, 7, 8, 9, 10]\n"
     ]
    }
   ],
   "source": [
    "list4 = [1, 2, 3, 4, 5, 6, 7, 8, 9, 10, 11]\n",
    "list4.pop() # By default removes last element\n",
    "print(list4)"
   ]
  },
  {
   "cell_type": "code",
   "execution_count": 28,
   "id": "420505fc",
   "metadata": {},
   "outputs": [
    {
     "name": "stdout",
     "output_type": "stream",
     "text": [
      "10\n",
      "[1, 2, 3, 4, 5, 6, 7, 8, 9]\n"
     ]
    }
   ],
   "source": [
    "x = list4.pop() # Returns element which is deleted.\n",
    "print(x)\n",
    "print(list4)"
   ]
  },
  {
   "cell_type": "code",
   "execution_count": 29,
   "id": "07fc9182",
   "metadata": {},
   "outputs": [
    {
     "name": "stdout",
     "output_type": "stream",
     "text": [
      "3\n",
      "[1, 2, 4, 5, 6, 7, 8, 9]\n"
     ]
    }
   ],
   "source": [
    "x = list4.pop(2) # we can give specific index to remove value.\n",
    "print(x)\n",
    "print(list4)"
   ]
  },
  {
   "cell_type": "code",
   "execution_count": 30,
   "id": "85e5ffda",
   "metadata": {},
   "outputs": [
    {
     "ename": "IndexError",
     "evalue": "pop index out of range",
     "output_type": "error",
     "traceback": [
      "\u001b[1;31m---------------------------------------------------------------------------\u001b[0m",
      "\u001b[1;31mIndexError\u001b[0m                                Traceback (most recent call last)",
      "\u001b[1;32m<ipython-input-30-db3cccd63473>\u001b[0m in \u001b[0;36m<module>\u001b[1;34m\u001b[0m\n\u001b[1;32m----> 1\u001b[1;33m \u001b[0mx\u001b[0m \u001b[1;33m=\u001b[0m \u001b[0mlist4\u001b[0m\u001b[1;33m.\u001b[0m\u001b[0mpop\u001b[0m\u001b[1;33m(\u001b[0m\u001b[1;36m15\u001b[0m\u001b[1;33m)\u001b[0m  \u001b[1;31m# raises index error when index is out of range\u001b[0m\u001b[1;33m\u001b[0m\u001b[1;33m\u001b[0m\u001b[0m\n\u001b[0m\u001b[0;32m      2\u001b[0m \u001b[0mprint\u001b[0m\u001b[1;33m(\u001b[0m\u001b[0mx\u001b[0m\u001b[1;33m)\u001b[0m\u001b[1;33m\u001b[0m\u001b[1;33m\u001b[0m\u001b[0m\n\u001b[0;32m      3\u001b[0m \u001b[0mprint\u001b[0m\u001b[1;33m(\u001b[0m\u001b[0mlist4\u001b[0m\u001b[1;33m)\u001b[0m\u001b[1;33m\u001b[0m\u001b[1;33m\u001b[0m\u001b[0m\n",
      "\u001b[1;31mIndexError\u001b[0m: pop index out of range"
     ]
    }
   ],
   "source": [
    "x = list4.pop(15)  # raises index error when index is out of range\n",
    "print(x)\n",
    "print(list4)"
   ]
  },
  {
   "cell_type": "code",
   "execution_count": 31,
   "id": "6c09230b",
   "metadata": {},
   "outputs": [
    {
     "name": "stdout",
     "output_type": "stream",
     "text": [
      "['b', 'b', 'b', 'c', 'd', 'b', 'e', 'f']\n"
     ]
    }
   ],
   "source": [
    "list5 = ['a', 'b', 'b', 'b', 'c', 'd', 'b', 'e', 'f']\n",
    "list5.remove('a') # removes given element and not index \n",
    "print(list5)"
   ]
  },
  {
   "cell_type": "code",
   "execution_count": 32,
   "id": "b08d95da",
   "metadata": {},
   "outputs": [
    {
     "name": "stdout",
     "output_type": "stream",
     "text": [
      "['b', 'b', 'c', 'd', 'b', 'e', 'f']\n"
     ]
    }
   ],
   "source": [
    "list5.remove('b')\n",
    "print(list5)"
   ]
  },
  {
   "cell_type": "code",
   "execution_count": 33,
   "id": "668401a8",
   "metadata": {},
   "outputs": [
    {
     "name": "stdout",
     "output_type": "stream",
     "text": [
      "['b', 'c', 'd', 'b', 'e', 'f']\n"
     ]
    }
   ],
   "source": [
    "list5.remove('b') # removes first occurrence of the element and raises error when value not present that is ValueError \n",
    "print(list5)"
   ]
  },
  {
   "cell_type": "code",
   "execution_count": 34,
   "id": "bde7e248",
   "metadata": {},
   "outputs": [
    {
     "name": "stdout",
     "output_type": "stream",
     "text": [
      "['c', 'd', 'b', 'e', 'f']\n"
     ]
    }
   ],
   "source": [
    "list5.remove('b')\n",
    "print(list5)"
   ]
  },
  {
   "cell_type": "code",
   "execution_count": 35,
   "id": "9653eacb",
   "metadata": {},
   "outputs": [
    {
     "name": "stdout",
     "output_type": "stream",
     "text": [
      "['c', 'd', 'e', 'f']\n"
     ]
    }
   ],
   "source": [
    "list5.remove('b')\n",
    "print(list5)"
   ]
  },
  {
   "cell_type": "code",
   "execution_count": 36,
   "id": "ede4ca39",
   "metadata": {},
   "outputs": [
    {
     "ename": "ValueError",
     "evalue": "list.remove(x): x not in list",
     "output_type": "error",
     "traceback": [
      "\u001b[1;31m---------------------------------------------------------------------------\u001b[0m",
      "\u001b[1;31mValueError\u001b[0m                                Traceback (most recent call last)",
      "\u001b[1;32m<ipython-input-36-fefd1df62eef>\u001b[0m in \u001b[0;36m<module>\u001b[1;34m\u001b[0m\n\u001b[1;32m----> 1\u001b[1;33m \u001b[0mlist5\u001b[0m\u001b[1;33m.\u001b[0m\u001b[0mremove\u001b[0m\u001b[1;33m(\u001b[0m\u001b[1;34m'b'\u001b[0m\u001b[1;33m)\u001b[0m\u001b[1;33m\u001b[0m\u001b[1;33m\u001b[0m\u001b[0m\n\u001b[0m\u001b[0;32m      2\u001b[0m \u001b[0mprint\u001b[0m\u001b[1;33m(\u001b[0m\u001b[0mlist5\u001b[0m\u001b[1;33m)\u001b[0m\u001b[1;33m\u001b[0m\u001b[1;33m\u001b[0m\u001b[0m\n",
      "\u001b[1;31mValueError\u001b[0m: list.remove(x): x not in list"
     ]
    }
   ],
   "source": [
    "list5.remove('b')\n",
    "print(list5)"
   ]
  },
  {
   "cell_type": "markdown",
   "id": "74bdf827",
   "metadata": {},
   "source": [
    "12. Describe how list values and string values are identical."
   ]
  },
  {
   "cell_type": "markdown",
   "id": "ca581c98",
   "metadata": {},
   "source": [
    "Ans.\n",
    "We can use slicing in both strings and lists.\n",
    "We can use indexing in both strings as well as in lists to get specific value at specific index.\n",
    "We can use iterators in both strings as well as in lists. We can put them in for loop to iterate over.\n",
    "We can use check equality in both strings as well as in lists by using == operator.\n",
    "Both lists ans strings can be passes in len() function.\n",
    "Both can be be concatenated or replicated, and be used with the in and not in operators."
   ]
  },
  {
   "cell_type": "markdown",
   "id": "f1d911ed",
   "metadata": {},
   "source": [
    "13. What's the difference between tuples and lists?"
   ]
  },
  {
   "cell_type": "markdown",
   "id": "35ff1798",
   "metadata": {},
   "source": [
    "Ans.\n",
    "\n",
    "Tuples:\n",
    "    Tuples are immutable but indexable and slicable data structures.\n",
    "    We create tuples using parenthesis ().\n",
    "    Tuple values cannot be changed at all.\n",
    "    Tuples can not be modified hence they are more lightweight and faster.\n",
    "    Tuples are suitable when information is not required to change and for fast execution of the code.\n",
    "    e.g. coordinates on the graph\n",
    "\n",
    "Lists:\n",
    "    Lists are mutable, indexable and slicable data structures. They can have values added, removed, or changed. \n",
    "    We create lists using [].\n",
    "    Lists can be modified means we can delete their element or add new elements.\n",
    "    Lists are useful where change in information is required. e.g list of to do tasks"
   ]
  },
  {
   "cell_type": "markdown",
   "id": "1fecd413",
   "metadata": {},
   "source": [
    "14. How do you type a tuple value that only contains the integer 42?"
   ]
  },
  {
   "cell_type": "markdown",
   "id": "ecaac575",
   "metadata": {},
   "source": [
    "Ans.\n",
    "To create single value tuple, we need to give (comma = , ) after our element otherwise python will take it as int (for value 42)"
   ]
  },
  {
   "cell_type": "code",
   "execution_count": 38,
   "id": "a722bd4c",
   "metadata": {},
   "outputs": [
    {
     "name": "stdout",
     "output_type": "stream",
     "text": [
      "<class 'int'>\n",
      "(42,)\n",
      "<class 'tuple'>\n"
     ]
    }
   ],
   "source": [
    "t = (42)\n",
    "print(type(t)) #int \n",
    "\n",
    "t = (42, ) #  ,is important to create single value tuple\n",
    "print(t)\n",
    "print(type(t))"
   ]
  },
  {
   "cell_type": "markdown",
   "id": "1bdf16dc",
   "metadata": {},
   "source": [
    "15. How do you get a list value's tuple form? How do you get a tuple value's list form?"
   ]
  },
  {
   "cell_type": "markdown",
   "id": "f2a9e34a",
   "metadata": {},
   "source": [
    "Ans.\n",
    "By using type casting we can convert list into tuple or tuple into list, that is,\n",
    "tuple() and list() functions, respectively are used to convert a list to tuple and tuple to list."
   ]
  },
  {
   "cell_type": "code",
   "execution_count": 40,
   "id": "9c6374c8",
   "metadata": {},
   "outputs": [
    {
     "name": "stdout",
     "output_type": "stream",
     "text": [
      "(1, 2, 3)\n",
      "<class 'tuple'>\n"
     ]
    }
   ],
   "source": [
    "list5 = [1, 2, 3]\n",
    "tuple5 = tuple(list5)\n",
    "print(tuple5)\n",
    "print(type(tuple5))"
   ]
  },
  {
   "cell_type": "markdown",
   "id": "836bc4b8",
   "metadata": {},
   "source": [
    "16. Variables that \"contain\" list values are not necessarily lists themselves. Instead, what do they contain?"
   ]
  },
  {
   "cell_type": "markdown",
   "id": "df8865d6",
   "metadata": {},
   "source": [
    "Ans.\n",
    "Variables that \"contain\" list values are actually just references or pointers to the memory location where the list object is stored.\n",
    "When a list is assigned to a variable, the variable is actually pointing to the memory location where the list is stored in the computer's memory. \n",
    "This means that the variable is not the list itself, but a reference to the list."
   ]
  },
  {
   "cell_type": "code",
   "execution_count": 44,
   "id": "b8070ad3",
   "metadata": {},
   "outputs": [
    {
     "name": "stdout",
     "output_type": "stream",
     "text": [
      "True\n",
      "[1, 2]\n",
      "[1, 2, 3]\n"
     ]
    }
   ],
   "source": [
    "#Also\n",
    "x = [1, 2, 3]\n",
    "y = x.copy() \n",
    "# two different objects get created and stored separately\n",
    "print(x == y)\n",
    "x.pop()\n",
    "print(x)\n",
    "print(y)"
   ]
  },
  {
   "cell_type": "markdown",
   "id": "7ac3c1ed",
   "metadata": {},
   "source": [
    "17. How do you distinguish between copy.copy() and copy.deepcopy()?"
   ]
  },
  {
   "cell_type": "code",
   "execution_count": 48,
   "id": "3befa87e",
   "metadata": {},
   "outputs": [
    {
     "name": "stdout",
     "output_type": "stream",
     "text": [
      "[1, 2, 3, 4, 5]\n"
     ]
    }
   ],
   "source": [
    "#Ans.\n",
    "\n",
    "import copy\n",
    "\n",
    "original_list = [1, 2, 3, 4, 5]\n",
    "new_list = copy.copy(original_list)\n",
    "\n",
    "new_list[2] = \"change is here\"\n",
    "\n",
    "print(original_list)"
   ]
  },
  {
   "cell_type": "markdown",
   "id": "853f854b",
   "metadata": {},
   "source": [
    "copy.copy() creates a new object that references the same content as the original object,\n",
    "while copy.deepcopy() creates a new object with completely independent content from the original object.\n",
    "Which method you use will depend on the specific use case and whether you want changes to the new object to affect the original object or not.\n",
    "\n",
    "A shallow copy creates a new object, but it does not create new copies of the object's internal objects.\n",
    "Instead, it creates references to the internal objects of the original object.\n",
    "So, any changes made to the original object's internal objects will be reflected in the shallow copy."
   ]
  },
  {
   "cell_type": "code",
   "execution_count": 49,
   "id": "34d62b75",
   "metadata": {},
   "outputs": [
    {
     "name": "stdout",
     "output_type": "stream",
     "text": [
      "[['change is here', 2], [3, 4]]\n"
     ]
    }
   ],
   "source": [
    "import copy\n",
    "\n",
    "original_list = [[1, 2], [3, 4]]\n",
    "new_list = copy.copy(original_list)\n",
    "\n",
    "# modify the first element of the first sublist in the new list\n",
    "new_list[0][0] = 'change is here'\n",
    "\n",
    "# the change affects the original list too\n",
    "print(original_list) "
   ]
  },
  {
   "cell_type": "markdown",
   "id": "6de726b5",
   "metadata": {},
   "source": [
    "On the other hand, a deep copy creates a new object, and it also creates new copies of the object's internal objects.\n",
    "Any changes made to the original object's internal objects will not be reflected in the deep copy."
   ]
  },
  {
   "cell_type": "code",
   "execution_count": 50,
   "id": "725d493a",
   "metadata": {},
   "outputs": [
    {
     "name": "stdout",
     "output_type": "stream",
     "text": [
      "[[1, 2], [3, 4]]\n"
     ]
    }
   ],
   "source": [
    "import copy\n",
    "\n",
    "original_list = [[1, 2], [3, 4]]\n",
    "new_list = copy.deepcopy(original_list)\n",
    "\n",
    "# modify the first element of the first sublist in the new list\n",
    "new_list[0][0] = 'change is here'\n",
    "\n",
    "\n",
    "# the change does not affect the original list\n",
    "print(original_list)"
   ]
  },
  {
   "cell_type": "code",
   "execution_count": null,
   "id": "283147a2",
   "metadata": {},
   "outputs": [],
   "source": []
  }
 ],
 "metadata": {
  "kernelspec": {
   "display_name": "Python 3",
   "language": "python",
   "name": "python3"
  },
  "language_info": {
   "codemirror_mode": {
    "name": "ipython",
    "version": 3
   },
   "file_extension": ".py",
   "mimetype": "text/x-python",
   "name": "python",
   "nbconvert_exporter": "python",
   "pygments_lexer": "ipython3",
   "version": "3.8.8"
  }
 },
 "nbformat": 4,
 "nbformat_minor": 5
}
