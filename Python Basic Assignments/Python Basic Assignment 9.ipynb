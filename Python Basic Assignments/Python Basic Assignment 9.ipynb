{
 "cells": [
  {
   "cell_type": "markdown",
   "id": "d2655115",
   "metadata": {},
   "source": [
    "1. To what does a relative path refer?"
   ]
  },
  {
   "cell_type": "markdown",
   "id": "1eb37a33",
   "metadata": {},
   "source": [
    "Ans.\n",
    "A relative path is a file or directory path that is expressed relative to the current working directory(PWD) of a program or a user's current location in a file system. It does not start from the root directory of the file system, but rather from the current directory or a directory that is relative to the current directory.\n",
    "\n",
    "For example:\n",
    "If Absolute path to a file called work.txt is: C:/users/admin/docs/work.txt\n",
    "If my PWD is C:/users/admin/ , then the relative path to work.txt would be: docs/work.txt\n",
    "Note: PWD + relative path = absolute path"
   ]
  },
  {
   "cell_type": "markdown",
   "id": "6fed7aef",
   "metadata": {},
   "source": [
    "2. What does an absolute path start with your operating system?"
   ]
  },
  {
   "cell_type": "markdown",
   "id": "18bf19e0",
   "metadata": {},
   "source": [
    "Ans.\n",
    "In Linux based systems the absolute path starts with /\n",
    "(e.g., `/home/user/documents`)\n",
    "whereas\n",
    "In Windows based systems absolute path starts with C:\n",
    "(e.g., `C:\\Users\\user\\Documents`)"
   ]
  },
  {
   "cell_type": "markdown",
   "id": "27d46101",
   "metadata": {},
   "source": [
    "3. What do the functions os.getcwd() and os.chdir() do?"
   ]
  },
  {
   "cell_type": "markdown",
   "id": "b624a4cd",
   "metadata": {},
   "source": [
    "Ans.\n",
    "os.getcwd() method tells us the location of current working directory (CWD).\n",
    "whereas\n",
    "os.chdir() method in Python is used to change the current working directory to specified path.\n",
    "This allows us to navigate to a different directory within your script or program.\n",
    "\n",
    "These functions are similar to linux commands pwd and cd"
   ]
  },
  {
   "cell_type": "markdown",
   "id": "76b004a0",
   "metadata": {},
   "source": [
    "4. What are the . and .. folders?"
   ]
  },
  {
   "cell_type": "markdown",
   "id": "aa209874",
   "metadata": {},
   "source": [
    "Ans.\n",
    "- The `.` folder represents the current directory or folder.\n",
    "- The `..` folder represents the parent directory or folder, which is one level up in the directory hierarchy."
   ]
  },
  {
   "cell_type": "markdown",
   "id": "88f22e89",
   "metadata": {},
   "source": [
    "5. In C:\\bacon\\eggs\\spam.txt, which part is the dir name, and which part is the base name?"
   ]
  },
  {
   "cell_type": "markdown",
   "id": "647d74c3",
   "metadata": {},
   "source": [
    "Ans.\n",
    "In C:\\bacon\\eggs\\spam.txt\n",
    "The dir name is C:\\\\bacon\\\\eggs\n",
    "The base name is spam.txt"
   ]
  },
  {
   "cell_type": "markdown",
   "id": "32cb1290",
   "metadata": {},
   "source": [
    "6. What are the three “mode” arguments that can be passed to the open() function?"
   ]
  },
  {
   "cell_type": "markdown",
   "id": "c3c26919",
   "metadata": {},
   "source": [
    "Ans.\n",
    "A file can be accessed in python using open() function.\n",
    "open function takes two arguments filename and mode of operation (optional).\n",
    "If mode is not provided the default mode of opening is read mode\n",
    "So, the syntax being: open(filename, mode)\n",
    "\n",
    "‘r’ – Read Mode: This is the default mode for open(). The file is opened and a pointer is positioned at the beginning of the file’s content.\n",
    "‘w’ – Write Mode: Using this mode will overwrite any existing content in a file. If the given file does not exist, a new one will be created.\n",
    "‘r+’ – Read/Write Mode: Use this mode if you need to simultaneously read and write to a file.\n",
    "‘a’ – Append Mode: With this mode the user can append the data without overwriting any already existing data in the file.\n",
    "‘a+’ – Append and Read Mode: In this mode you can read and append the data without overwriting the original file.\n",
    "‘x’ – Exclusive Creating Mode: This mode is for the sole purpose of creating new files. Use this mode if you know the file to be written doesn’t exist beforehand."
   ]
  },
  {
   "cell_type": "markdown",
   "id": "13eb2134",
   "metadata": {},
   "source": [
    "7. What happens if an existing file is opened in write mode?"
   ]
  },
  {
   "cell_type": "markdown",
   "id": "e229a09a",
   "metadata": {},
   "source": [
    "Ans.\n",
    "- If an existing file is opened in write mode (`'w'`), the file is truncated, and its contents are erased.\n",
    "The file pointer is positioned at the beginning of the file. If the file doesn't exist, a new file is created."
   ]
  },
  {
   "cell_type": "markdown",
   "id": "3b94184b",
   "metadata": {},
   "source": [
    "8. How do you tell the difference between read() and readlines()?"
   ]
  },
  {
   "cell_type": "markdown",
   "id": "6632b431",
   "metadata": {},
   "source": [
    "Ans.\n",
    "The difference is that read() will read the whole file at once and then print out the first characters that take up as many bytes as you specify in the parenthesis\n",
    "\n",
    "whereas\n",
    "the readline() that will read and print out only the first characters that take up as many bytes as you specify in the parenthesis.\n",
    "You may want to use readline() when you're reading files that are too big for your RAM.\n",
    "The read() would treat each character in the file separately, meaning that the iteration would happen for every character.\n",
    "The readline() function, on the other hand, only reads a single line of the file. This means that if the first line of the file were three lines long, the readline() function would only parse (or iterate/operate) on the first line of the file.\n"
   ]
  },
  {
   "cell_type": "markdown",
   "id": "f6fe2799",
   "metadata": {},
   "source": [
    "9. What data structure does a shelf value resemble?"
   ]
  },
  {
   "cell_type": "markdown",
   "id": "444ae163",
   "metadata": {},
   "source": [
    "Ans.\n",
    "- A shelf value in Python resembles a dictionary data structure.\n",
    "It is a persistent, dictionary-like object available in the `shelve` module.\n",
    "The `shelve` module allows you to store and retrieve Python objects in a dictionary-like manner using keys.\n",
    "The shelf data is stored in a file on disk."
   ]
  }
 ],
 "metadata": {
  "kernelspec": {
   "display_name": "Python 3",
   "language": "python",
   "name": "python3"
  },
  "language_info": {
   "codemirror_mode": {
    "name": "ipython",
    "version": 3
   },
   "file_extension": ".py",
   "mimetype": "text/x-python",
   "name": "python",
   "nbconvert_exporter": "python",
   "pygments_lexer": "ipython3",
   "version": "3.8.8"
  }
 },
 "nbformat": 4,
 "nbformat_minor": 5
}
