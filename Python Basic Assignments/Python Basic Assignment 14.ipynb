{
 "cells": [
  {
   "cell_type": "markdown",
   "id": "71e0e949",
   "metadata": {},
   "source": [
    "1. What does RGBA stand for?"
   ]
  },
  {
   "cell_type": "markdown",
   "id": "7c6218e4",
   "metadata": {},
   "source": [
    "Ans.\n",
    "\n",
    "RGBA stands for Red Green Blue Alpha\n",
    "It is a color model used to represent colors in digital images.\n",
    "The alpha channel represents the level of opacity or transparency of the color."
   ]
  },
  {
   "cell_type": "markdown",
   "id": "eae75c1b",
   "metadata": {},
   "source": [
    "2. From the Pillow module, how do you get the RGBA value of any images?"
   ]
  },
  {
   "cell_type": "markdown",
   "id": "4e864c56",
   "metadata": {},
   "source": [
    "Ans.\n",
    "ImageColor.getcolor() gives rgba value of any image"
   ]
  },
  {
   "cell_type": "code",
   "execution_count": 1,
   "id": "7e4abc45",
   "metadata": {},
   "outputs": [
    {
     "data": {
      "text/plain": [
       "(0, 128, 0, 255)"
      ]
     },
     "execution_count": 1,
     "metadata": {},
     "output_type": "execute_result"
    }
   ],
   "source": [
    "from PIL import ImageColor\n",
    "# Get the rgba value for given color\n",
    "ImageColor.getcolor('GREEN', 'RGBA')"
   ]
  },
  {
   "cell_type": "markdown",
   "id": "105f5306",
   "metadata": {},
   "source": [
    "3. What is a box tuple, and how does it work?"
   ]
  },
  {
   "cell_type": "markdown",
   "id": "56756925",
   "metadata": {},
   "source": [
    "Ans.\n",
    "Box tuple is a tuple of four integers that represents a rectangular region in an image.\n",
    "The four integers in the tuple represent the left, upper, right, and lower coordinates of the rectangle, respectively."
   ]
  },
  {
   "cell_type": "markdown",
   "id": "d53f3d9f",
   "metadata": {},
   "source": [
    "4. Use your image and load in notebook then, How can you find out the width and height of an Image object?"
   ]
  },
  {
   "cell_type": "code",
   "execution_count": 5,
   "id": "8505bd4a",
   "metadata": {},
   "outputs": [
    {
     "data": {
      "text/plain": [
       "(1920, 1080)"
      ]
     },
     "execution_count": 5,
     "metadata": {},
     "output_type": "execute_result"
    }
   ],
   "source": [
    "from PIL import Image\n",
    "image = Image.open(\"nature.jpg\")\n",
    "image.size"
   ]
  },
  {
   "cell_type": "markdown",
   "id": "18d763d7",
   "metadata": {},
   "source": [
    "5. What method would you call to get Image object for a 100×100 image, excluding the lower-left quarter of it?"
   ]
  },
  {
   "cell_type": "code",
   "execution_count": 9,
   "id": "ba568a92",
   "metadata": {},
   "outputs": [],
   "source": [
    "from PIL import Image\n",
    "\n",
    "image = Image.open(\"nature.jpg\")\n",
    "box = (50, 0, 100, 50)\n",
    "cropped_image = image.crop(box)\n",
    "\n",
    "cropped_image.show()"
   ]
  },
  {
   "cell_type": "markdown",
   "id": "ffc292ca",
   "metadata": {},
   "source": [
    "6. After making changes to an Image object, how could you save it as an image file?"
   ]
  },
  {
   "cell_type": "code",
   "execution_count": 13,
   "id": "16829399",
   "metadata": {},
   "outputs": [],
   "source": [
    "from PIL import Image\n",
    "\n",
    "image = Image.open(\"nature.jpg\")\n",
    "box = (50, 0, 100, 50)\n",
    "cropped_image = image.crop(box)\n",
    "\n",
    "# Save the modified image to a file\n",
    "image.save(\"new_image.jpeg\", format=\"jpeg\")\n",
    "cropped_image.show()"
   ]
  },
  {
   "cell_type": "markdown",
   "id": "11b80397",
   "metadata": {},
   "source": [
    "7. What module contains Pillow’s shape-drawing code?"
   ]
  },
  {
   "cell_type": "markdown",
   "id": "9c4192a5",
   "metadata": {},
   "source": [
    "Ans.\n",
    "Pillow's ImageDraw module contains shape drawing methods.\n",
    "The ImageDraw module provides methods for drawing various shapes,\n",
    "such as lines, rectangles, ellipses, and polygons, on Image objects."
   ]
  },
  {
   "cell_type": "markdown",
   "id": "8617745e",
   "metadata": {},
   "source": [
    "8. Image objects do not have drawing methods. What kind of object does? How do you get this kind of object?"
   ]
  },
  {
   "cell_type": "markdown",
   "id": "e920b1f0",
   "metadata": {},
   "source": [
    "Ans.\n",
    "ImageDraw objects have shape-drawing methods such as point(), line(), or rectangle().\n",
    "They are returned by passing the Image object to the ImageDraw.Draw() function."
   ]
  }
 ],
 "metadata": {
  "kernelspec": {
   "display_name": "Python 3",
   "language": "python",
   "name": "python3"
  },
  "language_info": {
   "codemirror_mode": {
    "name": "ipython",
    "version": 3
   },
   "file_extension": ".py",
   "mimetype": "text/x-python",
   "name": "python",
   "nbconvert_exporter": "python",
   "pygments_lexer": "ipython3",
   "version": "3.8.8"
  }
 },
 "nbformat": 4,
 "nbformat_minor": 5
}
