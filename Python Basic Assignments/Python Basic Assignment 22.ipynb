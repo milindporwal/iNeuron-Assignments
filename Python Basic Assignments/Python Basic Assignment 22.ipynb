{
 "cells": [
  {
   "cell_type": "markdown",
   "id": "f168d702",
   "metadata": {},
   "source": [
    "1. What is the result of the code, and explain?\n",
    ">>> X = 'iNeuron'\n",
    ">>> def func():\n",
    "print(X)\n",
    "\n",
    ">>> func()"
   ]
  },
  {
   "cell_type": "code",
   "execution_count": 1,
   "id": "7b1fe979",
   "metadata": {},
   "outputs": [
    {
     "name": "stdout",
     "output_type": "stream",
     "text": [
      "iNeuron\n"
     ]
    }
   ],
   "source": [
    "#Ans.\n",
    "X = 'iNeuron'\n",
    "def func():\n",
    "    print(X)\n",
    "func()"
   ]
  },
  {
   "cell_type": "markdown",
   "id": "b3af41fa",
   "metadata": {},
   "source": [
    "The Result of this code is iNeuron\n",
    "\n",
    "Expalanation - The function intially looks for the variable X in its local scope,\n",
    "but since there is no local variable X, it returns the value of global variable X , which is, iNeuron"
   ]
  },
  {
   "cell_type": "code",
   "execution_count": null,
   "id": "dd377607",
   "metadata": {},
   "outputs": [],
   "source": [
    "2. What is the result of the code, and explain?\n",
    "\n",
    ">>> X = 'iNeuron'\n",
    ">>> def func():\n",
    "X = 'NI!'\n",
    "\n",
    ">>> func()\n",
    ">>> print(X)"
   ]
  },
  {
   "cell_type": "code",
   "execution_count": 2,
   "id": "253f9247",
   "metadata": {},
   "outputs": [
    {
     "name": "stdout",
     "output_type": "stream",
     "text": [
      "iNeuron\n"
     ]
    }
   ],
   "source": [
    "#Ans.\n",
    "X = 'iNeuron'\n",
    "def func():\n",
    "    X = 'NI!'\n",
    "\n",
    "func()\n",
    "print(X)"
   ]
  },
  {
   "cell_type": "markdown",
   "id": "44494236",
   "metadata": {},
   "source": [
    "The result of the code is iNeuron\n",
    "Explanation - Although we have changed the value of  'X' inside 'func' function, but even then it is local variable, which we cannot access globally."
   ]
  },
  {
   "cell_type": "markdown",
   "id": "8bd7ff16",
   "metadata": {},
   "source": [
    "3. What does this code print, and why?\n",
    "\n",
    ">>> X = 'iNeuron'\n",
    ">>> def func():\n",
    "X = 'NI'\n",
    "print(X)\n",
    "\n",
    "\n",
    ">>> func()\n",
    ">>> print(X)\n"
   ]
  },
  {
   "cell_type": "code",
   "execution_count": 5,
   "id": "71ff3ec3",
   "metadata": {},
   "outputs": [
    {
     "name": "stdout",
     "output_type": "stream",
     "text": [
      "NI\n",
      "iNeuron\n"
     ]
    }
   ],
   "source": [
    "#Ans.\n",
    "X = 'iNeuron' \n",
    "def func():\n",
    "    X = \"NI\"\n",
    "    print(X)\n",
    "func()\n",
    "print(X)"
   ]
  },
  {
   "cell_type": "markdown",
   "id": "3cb02c43",
   "metadata": {},
   "source": [
    "The code prints NI and iNeuron, both because, we are printing the local variable and the global variable both."
   ]
  },
  {
   "cell_type": "markdown",
   "id": "f4383ada",
   "metadata": {},
   "source": [
    "4. What output does this code produce? Why?\n",
    "\n",
    ">>> X = 'iNeuron'\n",
    ">>> def func():\n",
    "global X\n",
    "X = 'NI'\n",
    "\n",
    ">>> func()\n",
    ">>> print(X)"
   ]
  },
  {
   "cell_type": "code",
   "execution_count": 6,
   "id": "9eccb4b9",
   "metadata": {},
   "outputs": [
    {
     "name": "stdout",
     "output_type": "stream",
     "text": [
      "NI\n",
      "NI\n"
     ]
    }
   ],
   "source": [
    "#Ans.\n",
    "X = 'iNeuron' \n",
    "def func():\n",
    "    global X\n",
    "    X = \"NI\"\n",
    "    print(X)\n",
    "func()\n",
    "print(X)"
   ]
  },
  {
   "cell_type": "markdown",
   "id": "ad08c646",
   "metadata": {},
   "source": [
    "The code prints NI and NI, because, when we make any variable inside the function global variable, we can access it globally. Hence it changes previously assigned value."
   ]
  },
  {
   "cell_type": "markdown",
   "id": "68ccfbf1",
   "metadata": {},
   "source": [
    "5. What about this code—what’s the output, and why?\n",
    "\n",
    ">>> X = 'iNeuron'\n",
    ">>> def func():\n",
    "X = 'NI'\n",
    "def nested():\n",
    "print(X)\n",
    "nested()\n",
    "\n",
    ">>> func()\n",
    ">>> X"
   ]
  },
  {
   "cell_type": "code",
   "execution_count": 7,
   "id": "d38be810",
   "metadata": {},
   "outputs": [
    {
     "name": "stdout",
     "output_type": "stream",
     "text": [
      "NI\n",
      "iNeuron\n"
     ]
    }
   ],
   "source": [
    "#Ans.\n",
    "X = 'iNeuron' \n",
    "def func():\n",
    "    X = \"NI\" # for nested function this is global variable \n",
    "    def nested():\n",
    "        print(X) \n",
    "    nested()\n",
    "func()\n",
    "print(X)"
   ]
  },
  {
   "cell_type": "markdown",
   "id": "f113bb86",
   "metadata": {},
   "source": [
    "The code prints NI and iNeuron, because, X = NI is a global variable for nested()"
   ]
  },
  {
   "cell_type": "markdown",
   "id": "5b3dc34a",
   "metadata": {},
   "source": [
    "6. How about this code: what is its output in Python 3, and explain?\n",
    "\n",
    ">>> def func():\n",
    "X = 'NI'\n",
    "def nested():\n",
    "nonlocal X\n",
    "X = 'Spam'\n",
    "nested()\n",
    "print(X)\n",
    "\n",
    ">>> func()"
   ]
  },
  {
   "cell_type": "code",
   "execution_count": 8,
   "id": "2f3e7ad4",
   "metadata": {},
   "outputs": [
    {
     "name": "stdout",
     "output_type": "stream",
     "text": [
      "Spam\n"
     ]
    }
   ],
   "source": [
    "#Ans.\n",
    "def func():\n",
    "    X = \"NI\" \n",
    "    def nested():\n",
    "        nonlocal X\n",
    "        X = 'Spam' \n",
    "    nested()\n",
    "    print(X)\n",
    "    \n",
    "func()"
   ]
  },
  {
   "cell_type": "markdown",
   "id": "648049a5",
   "metadata": {},
   "source": [
    "The code prints Spam.\n",
    "\n",
    "Expalnation - When we use global keyword, it indicates that the variable x refers to a global variable with the same name, rather than a variable in the immediate outer scope of the function. In this case, X refers to a global variable (if it exists), and the assignment X = 'Spam' in nested() will modify the global variable instead of the local variable in func()"
   ]
  },
  {
   "cell_type": "code",
   "execution_count": null,
   "id": "a1dd7073",
   "metadata": {},
   "outputs": [],
   "source": []
  }
 ],
 "metadata": {
  "kernelspec": {
   "display_name": "Python 3",
   "language": "python",
   "name": "python3"
  },
  "language_info": {
   "codemirror_mode": {
    "name": "ipython",
    "version": 3
   },
   "file_extension": ".py",
   "mimetype": "text/x-python",
   "name": "python",
   "nbconvert_exporter": "python",
   "pygments_lexer": "ipython3",
   "version": "3.8.8"
  }
 },
 "nbformat": 4,
 "nbformat_minor": 5
}
