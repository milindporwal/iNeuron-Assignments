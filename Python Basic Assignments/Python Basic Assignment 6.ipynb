{
 "cells": [
  {
   "cell_type": "markdown",
   "id": "725c34ff",
   "metadata": {},
   "source": [
    "1. What are escape characters, and how do you use them?"
   ]
  },
  {
   "cell_type": "markdown",
   "id": "072cb2b7",
   "metadata": {},
   "source": [
    "Ans.\n",
    "Escape characters in Python are special characters that are used to represent characters that cannot be typed directly in a string.\n",
    "Sometimes we want to use '' quotes in side the string. You can do this by two ways.\n",
    "1. use '' inside the \"\" ,that is, double quotes\n",
    "2. Or we can use escape characters \\"
   ]
  },
  {
   "cell_type": "code",
   "execution_count": 5,
   "id": "8e4a7b00",
   "metadata": {},
   "outputs": [
    {
     "name": "stdout",
     "output_type": "stream",
     "text": [
      "I am on \"Cloud 9\"\n",
      "I am on \"Cloud 9\"\n"
     ]
    }
   ],
   "source": [
    "print('I am on \"Cloud 9\"')\n",
    "print('I am on \\\"Cloud 9\\\"')"
   ]
  },
  {
   "cell_type": "markdown",
   "id": "10951dda",
   "metadata": {},
   "source": [
    "2. What do the escape characters n and t stand for?"
   ]
  },
  {
   "cell_type": "markdown",
   "id": "26cdb5fd",
   "metadata": {},
   "source": [
    "Ans.\n",
    "\\n stands for newline character \\t stands for tab space"
   ]
  },
  {
   "cell_type": "code",
   "execution_count": 6,
   "id": "dfa29126",
   "metadata": {},
   "outputs": [
    {
     "name": "stdout",
     "output_type": "stream",
     "text": [
      "Hello Sir, \n",
      "How are you\n"
     ]
    }
   ],
   "source": [
    "# For example: \\n : new line character\n",
    "print(\"Hello Sir, \\nHow are you\") "
   ]
  },
  {
   "cell_type": "code",
   "execution_count": 14,
   "id": "5e4c6c3d",
   "metadata": {},
   "outputs": [
    {
     "name": "stdout",
     "output_type": "stream",
     "text": [
      "Hello Sir \n",
      " \t How are you doing\n"
     ]
    }
   ],
   "source": [
    "# If we want to give more space(In simple terms you want to give paragraph, we need to use \\n): \\t\n",
    "print(\"Hello Sir \\n \\t How are you doing\")"
   ]
  },
  {
   "cell_type": "markdown",
   "id": "1f467937",
   "metadata": {},
   "source": [
    "3. What is the way to include backslash characters in a string?"
   ]
  },
  {
   "cell_type": "markdown",
   "id": "50325786",
   "metadata": {},
   "source": [
    "Ans. \n",
    "To include \\ in string we need to use another \\ character."
   ]
  },
  {
   "cell_type": "code",
   "execution_count": 15,
   "id": "328af386",
   "metadata": {},
   "outputs": [
    {
     "name": "stdout",
     "output_type": "stream",
     "text": [
      "Hello Sir\\ How are you?\n"
     ]
    }
   ],
   "source": [
    "print(\"Hello Sir\\\\ How are you?\")"
   ]
  },
  {
   "cell_type": "markdown",
   "id": "2a5a76eb",
   "metadata": {},
   "source": [
    "4. The string \"Howl's Moving Castle\" is a correct value.\n",
    "Why isn't the single quote character in the word Howl's not escaped a problem?"
   ]
  },
  {
   "cell_type": "markdown",
   "id": "812d1e78",
   "metadata": {},
   "source": [
    "The string \"Howl's Moving Castle\" escaped the problem because it is wrapped inside double quotes.\n",
    "If it is wrapped inside single quotes then we have to use escape character \\' to show single quote in the final output\n",
    "'Howl\\'s Moving Castle' ----> 'Howl's Moving Castle'"
   ]
  },
  {
   "cell_type": "markdown",
   "id": "b7769225",
   "metadata": {},
   "source": [
    "5. How do you write a string of newlines if you don't want to use the n character?"
   ]
  },
  {
   "cell_type": "markdown",
   "id": "276becff",
   "metadata": {},
   "source": [
    "Ans.\n",
    "By using triple quotes we can write string with new line without use of new line characters."
   ]
  },
  {
   "cell_type": "code",
   "execution_count": 22,
   "id": "b9eb1b38",
   "metadata": {},
   "outputs": [
    {
     "name": "stdout",
     "output_type": "stream",
     "text": [
      "Hello,\n",
      "To get new line feature without new line character,\n",
      "use triple qoutes\n"
     ]
    }
   ],
   "source": [
    "print(\"\"\"Hello,\n",
    "To get new line feature without new line character,\n",
    "use triple qoutes\"\"\")"
   ]
  },
  {
   "cell_type": "markdown",
   "id": "bd2c5228",
   "metadata": {},
   "source": [
    "6. What are the values of the given expressions?\n",
    "'Hello, world!'[1]\n",
    "'Hello, world!'[0:5]\n",
    "'Hello, world!'[:5]\n",
    "'Hello, world!'[3:]"
   ]
  },
  {
   "cell_type": "code",
   "execution_count": 23,
   "id": "f3004848",
   "metadata": {},
   "outputs": [
    {
     "data": {
      "text/plain": [
       "'e'"
      ]
     },
     "execution_count": 23,
     "metadata": {},
     "output_type": "execute_result"
    }
   ],
   "source": [
    "#Ans.\n",
    "'Hello, world!'[1]"
   ]
  },
  {
   "cell_type": "code",
   "execution_count": 24,
   "id": "2148e283",
   "metadata": {},
   "outputs": [
    {
     "data": {
      "text/plain": [
       "'Hello'"
      ]
     },
     "execution_count": 24,
     "metadata": {},
     "output_type": "execute_result"
    }
   ],
   "source": [
    "'Hello, world!'[0:5]"
   ]
  },
  {
   "cell_type": "code",
   "execution_count": 25,
   "id": "06debf0b",
   "metadata": {},
   "outputs": [
    {
     "data": {
      "text/plain": [
       "'Hello'"
      ]
     },
     "execution_count": 25,
     "metadata": {},
     "output_type": "execute_result"
    }
   ],
   "source": [
    "'Hello, world!'[:5]"
   ]
  },
  {
   "cell_type": "code",
   "execution_count": 26,
   "id": "93d04d71",
   "metadata": {},
   "outputs": [
    {
     "data": {
      "text/plain": [
       "'lo, world!'"
      ]
     },
     "execution_count": 26,
     "metadata": {},
     "output_type": "execute_result"
    }
   ],
   "source": [
    "'Hello, world!'[3:]"
   ]
  },
  {
   "cell_type": "markdown",
   "id": "d263eed0",
   "metadata": {},
   "source": [
    "7. What are the values of the following expressions?\n",
    "'Hello'.upper()\n",
    "'Hello'.upper().isupper()\n",
    "'Hello'.upper().lower()"
   ]
  },
  {
   "cell_type": "code",
   "execution_count": 27,
   "id": "3f600ea0",
   "metadata": {},
   "outputs": [
    {
     "data": {
      "text/plain": [
       "'HELLO'"
      ]
     },
     "execution_count": 27,
     "metadata": {},
     "output_type": "execute_result"
    }
   ],
   "source": [
    "#Ans.\n",
    "# upper(): converts string to Capitalized form\n",
    "'Hello'.upper() "
   ]
  },
  {
   "cell_type": "code",
   "execution_count": 28,
   "id": "4b32ff67",
   "metadata": {},
   "outputs": [
    {
     "data": {
      "text/plain": [
       "True"
      ]
     },
     "execution_count": 28,
     "metadata": {},
     "output_type": "execute_result"
    }
   ],
   "source": [
    "# isupper(): checks if the string is in capital case, If yes returns boolean value True else False\n",
    "'Hello'.upper().isupper()"
   ]
  },
  {
   "cell_type": "code",
   "execution_count": 29,
   "id": "d714b2a0",
   "metadata": {},
   "outputs": [
    {
     "data": {
      "text/plain": [
       "'hello'"
      ]
     },
     "execution_count": 29,
     "metadata": {},
     "output_type": "execute_result"
    }
   ],
   "source": [
    "# first string got converted to upper case and then to lower case\n",
    "'Hello'.upper().lower()"
   ]
  },
  {
   "cell_type": "markdown",
   "id": "ee101049",
   "metadata": {},
   "source": [
    "8. What are the values of the following expressions?\n",
    "'Remember, remember, the fifth of July.'.split()\n",
    "'-'.join('There can only one.'.split())"
   ]
  },
  {
   "cell_type": "code",
   "execution_count": 31,
   "id": "e22af755",
   "metadata": {},
   "outputs": [
    {
     "data": {
      "text/plain": [
       "['Remember,', 'remember,', 'the', 'fifth', 'of', 'July.']"
      ]
     },
     "execution_count": 31,
     "metadata": {},
     "output_type": "execute_result"
    }
   ],
   "source": [
    "#Ans.\n",
    "# split(): Splits the string into a list, if delimiter is not given then splits wherever space is available.\n",
    "'Remember, remember, the fifth of July.'.split()"
   ]
  },
  {
   "cell_type": "code",
   "execution_count": 32,
   "id": "f4785ecc",
   "metadata": {},
   "outputs": [
    {
     "data": {
      "text/plain": [
       "'There-can-only-one.'"
      ]
     },
     "execution_count": 32,
     "metadata": {},
     "output_type": "execute_result"
    }
   ],
   "source": [
    "# join(): Joins list of strings with give delimiter\n",
    "'-'.join('There can only one.'.split())"
   ]
  },
  {
   "cell_type": "markdown",
   "id": "6a69f36d",
   "metadata": {},
   "source": [
    "9. What are the methods for right-justifying, left-justifying, and centering a string?"
   ]
  },
  {
   "cell_type": "markdown",
   "id": "7f628cb0",
   "metadata": {},
   "source": [
    "Ans. By using ljust(), rjust() and center() we can do right-justifying, left-justifying, and centering a string."
   ]
  },
  {
   "cell_type": "code",
   "execution_count": 38,
   "id": "c12bd131",
   "metadata": {},
   "outputs": [
    {
     "name": "stdout",
     "output_type": "stream",
     "text": [
      "Left side                                         \n",
      "'                                        Right side'\n",
      "'                      Center                      '\n"
     ]
    }
   ],
   "source": [
    "# For example:\n",
    "sen1= \"Left side\"\n",
    "l_just = sen1.ljust(50) # left justification\n",
    "sen2= \"Right side\"\n",
    "r_just = sen2.rjust(50) # right justification\n",
    "sen3= \"Center\"\n",
    "c_just = sen3.center(50) # center justification\n",
    "print(repr(l_just))\n",
    "print(repr(r_just))\n",
    "print(repr(c_just))\n",
    "\n",
    "repr"
   ]
  },
  {
   "cell_type": "markdown",
   "id": "36ab350f",
   "metadata": {},
   "source": [
    "10. What is the best way to remove whitespace characters from the start or end?"
   ]
  },
  {
   "cell_type": "markdown",
   "id": "7771559a",
   "metadata": {},
   "source": [
    "Ans. By using strip function"
   ]
  },
  {
   "cell_type": "code",
   "execution_count": 40,
   "id": "4a3f93d5",
   "metadata": {},
   "outputs": [
    {
     "name": "stdout",
     "output_type": "stream",
     "text": [
      "       Life is Awesome       \n",
      "Life is Awesome\n"
     ]
    }
   ],
   "source": [
    "a  = \"       Life is Awesome       \"\n",
    "print(a)\n",
    "new_a = a.strip()\n",
    "print(new_a)"
   ]
  },
  {
   "cell_type": "code",
   "execution_count": null,
   "id": "9166a7c2",
   "metadata": {},
   "outputs": [],
   "source": []
  }
 ],
 "metadata": {
  "kernelspec": {
   "display_name": "Python 3",
   "language": "python",
   "name": "python3"
  },
  "language_info": {
   "codemirror_mode": {
    "name": "ipython",
    "version": 3
   },
   "file_extension": ".py",
   "mimetype": "text/x-python",
   "name": "python",
   "nbconvert_exporter": "python",
   "pygments_lexer": "ipython3",
   "version": "3.8.8"
  }
 },
 "nbformat": 4,
 "nbformat_minor": 5
}
