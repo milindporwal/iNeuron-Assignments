{
 "cells": [
  {
   "cell_type": "markdown",
   "id": "a32c4538",
   "metadata": {},
   "source": [
    "1. How do you distinguish between shutil.copy() and shutil.copytree()?"
   ]
  },
  {
   "cell_type": "markdown",
   "id": "58de9ef2",
   "metadata": {},
   "source": [
    "Ans.\n",
    "shutil.copy()\n",
    "shutil.copy() method is used to copy the contents of a file from one file to another file/folder.It primary takes two arguments src,destination.\n",
    "src represents the file to be copied where as destination refers to the file/folder to where the src data should be copied,\n",
    "if dest is a folder name the src with exact name will be copied to the destination folder,\n",
    "if its a file then the contents of src will be copied to dest where destination retains it name.\n",
    "\n",
    "shutil.copytree()\n",
    "shutil.copytree() function is used to copy the entire contents of a folder to other folder.\n",
    "It also takes two arguments src & dest, it copies all the content recursively and stores it in destination.\n",
    "The important thing here is dest must not exist prior to this and it will be created during the copy operation.\n",
    "Permissions and times of directories are copied with shutil.copystat() and individual files are copied using shutil.copy2() by default which can be modified using copy_function attribute."
   ]
  },
  {
   "cell_type": "markdown",
   "id": "21357273",
   "metadata": {},
   "source": [
    "2. What function is used to rename files?"
   ]
  },
  {
   "cell_type": "markdown",
   "id": "01f337c9",
   "metadata": {},
   "source": [
    "Ans.\n",
    "os.rename() function is used to rename files. \n",
    "This function takes two arguments src and dest\n",
    "src :- represents the name file/directory which we want to rename\n",
    "dest:- represents the new name of the file/direct"
   ]
  },
  {
   "cell_type": "markdown",
   "id": "da6fa193",
   "metadata": {},
   "source": [
    "3. What is the difference between the delete functions in the send2trash and shutil modules?"
   ]
  },
  {
   "cell_type": "markdown",
   "id": "343ebc5f",
   "metadata": {},
   "source": [
    "Ans.\n",
    "shutil delete module provides a function name as shutil.rmtree()\n",
    "It deletes all file/folder/derectory permanently.\n",
    "\n",
    "send2ttrash- it also delete file/ folder but it will send that file /folder to our computer trash/recycle bin"
   ]
  },
  {
   "cell_type": "markdown",
   "id": "60b2867f",
   "metadata": {},
   "source": [
    "4. ZipFile objects have a close() method just like File objects’ close() method. What ZipFile method is equivalent to File objects’ open() method?"
   ]
  },
  {
   "cell_type": "markdown",
   "id": "1cc20e01",
   "metadata": {},
   "source": [
    "Ans.\n",
    "The ZipFile method that is equivalent to File objects' open() method is ZipFile() itself."
   ]
  },
  {
   "cell_type": "markdown",
   "id": "b1ad21b0",
   "metadata": {},
   "source": [
    "5. Create a programme that searches a folder tree for files with a certain file extension (such as .pdf or .jpg). Copy these files from whatever location they are in to a new folder."
   ]
  },
  {
   "cell_type": "code",
   "execution_count": 3,
   "id": "11d605c8",
   "metadata": {},
   "outputs": [
    {
     "name": "stdout",
     "output_type": "stream",
     "text": [
      "Files have been successfully copied from C:\\Users\\Milind-PC\\Desktop\\New folder (4)\\Wallpapers\\jpg wallpapers to C:\\New folder\n"
     ]
    }
   ],
   "source": [
    "def copyFile(src,dst,ext):\n",
    "    try:\n",
    "        import os,shutil\n",
    "        for file in os.listdir(src):\n",
    "            if file.endswith(ext):\n",
    "                shutil.copy(os.path.join(src,file),dst)\n",
    "        print(f'Files have been successfully copied from {src} to {dst}')\n",
    "    except Exception as e:\n",
    "        print(e)\n",
    "\n",
    "copyFile(r'C:\\Users\\Milind-PC\\Desktop\\New folder (4)\\Wallpapers\\jpg wallpapers', r'C:\\New folder', '.jpg')"
   ]
  },
  {
   "cell_type": "code",
   "execution_count": null,
   "id": "fdbdc662",
   "metadata": {},
   "outputs": [],
   "source": []
  }
 ],
 "metadata": {
  "kernelspec": {
   "display_name": "Python 3",
   "language": "python",
   "name": "python3"
  },
  "language_info": {
   "codemirror_mode": {
    "name": "ipython",
    "version": 3
   },
   "file_extension": ".py",
   "mimetype": "text/x-python",
   "name": "python",
   "nbconvert_exporter": "python",
   "pygments_lexer": "ipython3",
   "version": "3.8.8"
  }
 },
 "nbformat": 4,
 "nbformat_minor": 5
}
