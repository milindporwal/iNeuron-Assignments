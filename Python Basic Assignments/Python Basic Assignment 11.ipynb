{
 "cells": [
  {
   "cell_type": "markdown",
   "id": "40824ccd",
   "metadata": {},
   "source": [
    "1. Create an assert statement that throws an AssertionError if the variable spam is a negative integer."
   ]
  },
  {
   "cell_type": "markdown",
   "id": "f34b243c",
   "metadata": {},
   "source": [
    "Ans.\n",
    "In logging we can use a condition with assert keyword for getting Exception with our custom exception.\n",
    "In below example, if spam is negative integer assert will raise an exception with sentence \"spam must be a non-negative integer\".\n",
    "assert gets activated whenever boolean value from condition is false."
   ]
  },
  {
   "cell_type": "code",
   "execution_count": 1,
   "id": "2af166de",
   "metadata": {},
   "outputs": [
    {
     "ename": "AssertionError",
     "evalue": "spam must be a non-negative integer",
     "output_type": "error",
     "traceback": [
      "\u001b[1;31m---------------------------------------------------------------------------\u001b[0m",
      "\u001b[1;31mAssertionError\u001b[0m                            Traceback (most recent call last)",
      "\u001b[1;32m<ipython-input-1-8b9d80e781df>\u001b[0m in \u001b[0;36m<module>\u001b[1;34m\u001b[0m\n\u001b[0;32m      1\u001b[0m \u001b[1;32mimport\u001b[0m \u001b[0mlogging\u001b[0m\u001b[1;33m\u001b[0m\u001b[1;33m\u001b[0m\u001b[0m\n\u001b[0;32m      2\u001b[0m \u001b[0mspam\u001b[0m \u001b[1;33m=\u001b[0m \u001b[1;33m-\u001b[0m\u001b[1;36m48\u001b[0m\u001b[1;33m\u001b[0m\u001b[1;33m\u001b[0m\u001b[0m\n\u001b[1;32m----> 3\u001b[1;33m \u001b[1;32massert\u001b[0m \u001b[0mspam\u001b[0m \u001b[1;33m>=\u001b[0m \u001b[1;36m0\u001b[0m\u001b[1;33m,\u001b[0m \u001b[1;34m\"spam must be a non-negative integer\"\u001b[0m\u001b[1;33m\u001b[0m\u001b[1;33m\u001b[0m\u001b[0m\n\u001b[0m",
      "\u001b[1;31mAssertionError\u001b[0m: spam must be a non-negative integer"
     ]
    }
   ],
   "source": [
    "import logging\n",
    "spam = -48\n",
    "assert spam >= 0, \"spam must be a non-negative integer\""
   ]
  },
  {
   "cell_type": "markdown",
   "id": "35d43b32",
   "metadata": {},
   "source": [
    "2. Write an assert statement that triggers an AssertionError if the variables eggs and bacon contain strings that are the same as each other, even if their cases are different (that is, 'hello' and 'hello' are considered the same, and 'goodbye' and 'GOODbye' are also considered the same)."
   ]
  },
  {
   "cell_type": "code",
   "execution_count": 2,
   "id": "8a0a0adb",
   "metadata": {},
   "outputs": [
    {
     "ename": "AssertionError",
     "evalue": "Values must not be same regardless of case",
     "output_type": "error",
     "traceback": [
      "\u001b[1;31m---------------------------------------------------------------------------\u001b[0m",
      "\u001b[1;31mAssertionError\u001b[0m                            Traceback (most recent call last)",
      "\u001b[1;32m<ipython-input-2-14a265544da1>\u001b[0m in \u001b[0;36m<module>\u001b[1;34m\u001b[0m\n\u001b[0;32m      4\u001b[0m \u001b[0meggs\u001b[0m \u001b[1;33m=\u001b[0m \u001b[1;34m\"GOODbye\"\u001b[0m\u001b[1;33m\u001b[0m\u001b[1;33m\u001b[0m\u001b[0m\n\u001b[0;32m      5\u001b[0m \u001b[1;33m\u001b[0m\u001b[0m\n\u001b[1;32m----> 6\u001b[1;33m \u001b[1;32massert\u001b[0m \u001b[0mbacon\u001b[0m\u001b[1;33m.\u001b[0m\u001b[0mcasefold\u001b[0m\u001b[1;33m(\u001b[0m\u001b[1;33m)\u001b[0m \u001b[1;33m!=\u001b[0m \u001b[0meggs\u001b[0m\u001b[1;33m.\u001b[0m\u001b[0mcasefold\u001b[0m\u001b[1;33m(\u001b[0m\u001b[1;33m)\u001b[0m\u001b[1;33m,\u001b[0m \u001b[1;34m\"Values must not be same regardless of case\"\u001b[0m\u001b[1;33m\u001b[0m\u001b[1;33m\u001b[0m\u001b[0m\n\u001b[0m",
      "\u001b[1;31mAssertionError\u001b[0m: Values must not be same regardless of case"
     ]
    }
   ],
   "source": [
    "#Ans.\n",
    "import logging \n",
    "bacon = \"goodbye\"\n",
    "eggs = \"GOODbye\"\n",
    "\n",
    "assert bacon.casefold() != eggs.casefold(), \"Values must not be same regardless of case\""
   ]
  },
  {
   "cell_type": "markdown",
   "id": "1e6c8697",
   "metadata": {},
   "source": [
    "3. Create an assert statement that throws an AssertionError every time."
   ]
  },
  {
   "cell_type": "code",
   "execution_count": 3,
   "id": "b2a33b5c",
   "metadata": {},
   "outputs": [
    {
     "ename": "AssertionError",
     "evalue": "AssertionError triggered",
     "output_type": "error",
     "traceback": [
      "\u001b[1;31m---------------------------------------------------------------------------\u001b[0m",
      "\u001b[1;31mAssertionError\u001b[0m                            Traceback (most recent call last)",
      "\u001b[1;32m<ipython-input-3-acf01c8885cf>\u001b[0m in \u001b[0;36m<module>\u001b[1;34m\u001b[0m\n\u001b[0;32m      1\u001b[0m \u001b[1;31m#Ans.\u001b[0m\u001b[1;33m\u001b[0m\u001b[1;33m\u001b[0m\u001b[1;33m\u001b[0m\u001b[0m\n\u001b[1;32m----> 2\u001b[1;33m \u001b[1;32massert\u001b[0m \u001b[1;32mFalse\u001b[0m\u001b[1;33m,\u001b[0m \u001b[1;34m\"AssertionError triggered\"\u001b[0m\u001b[1;33m\u001b[0m\u001b[1;33m\u001b[0m\u001b[0m\n\u001b[0m",
      "\u001b[1;31mAssertionError\u001b[0m: AssertionError triggered"
     ]
    }
   ],
   "source": [
    "#Ans.\n",
    "assert False, \"AssertionError triggered\""
   ]
  },
  {
   "cell_type": "markdown",
   "id": "9bdfe645",
   "metadata": {},
   "source": [
    "4. What are the two lines that must be present in your software in order to call logging.debug()?"
   ]
  },
  {
   "cell_type": "code",
   "execution_count": 4,
   "id": "cf187450",
   "metadata": {},
   "outputs": [],
   "source": [
    "#Ans.\n",
    "import logging\n",
    "logging.basicConfig(level=logging.DEBUG)"
   ]
  },
  {
   "cell_type": "markdown",
   "id": "4df4a13c",
   "metadata": {},
   "source": [
    "5. What are the two lines that your program must have in order to have logging.debug() send a logging message to a file named programLog.txt?"
   ]
  },
  {
   "cell_type": "code",
   "execution_count": 5,
   "id": "dc149517",
   "metadata": {},
   "outputs": [],
   "source": [
    "#Ans.\n",
    "import logging\n",
    "logging.basicConfig(filename='programLog.txt', level=logging.DEBUG)"
   ]
  },
  {
   "cell_type": "markdown",
   "id": "cbb59bfe",
   "metadata": {},
   "source": [
    "6. What are the five levels of logging?"
   ]
  },
  {
   "cell_type": "markdown",
   "id": "df1772c1",
   "metadata": {},
   "source": [
    "Ans.\n",
    "The five levels of logging are:\n",
    "1. DEBUG(10) - This level is used for debugging purposes and provides the most detailed information about the application's behavior.\n",
    "2. INFO(20) - This level is used to log informational messages that do not indicate any errors or problems but are useful for understanding the application's behavior.\n",
    "3. WARNING(30) - This level is used to log warning messages that indicate potential problems or errors that may need to be addressed.\n",
    "4. ERROR(40) - This level is used to log error messages that indicate a problem or error that needs to be addressed.\n",
    "5. CRITICAL(50) - The highest level of logging, which is used to log critical errors that may cause the application to stop working or crash."
   ]
  },
  {
   "cell_type": "markdown",
   "id": "bebdc582",
   "metadata": {},
   "source": [
    "7. What line of code would you add to your software to disable all logging messages?"
   ]
  },
  {
   "cell_type": "code",
   "execution_count": 6,
   "id": "b1348b16",
   "metadata": {},
   "outputs": [],
   "source": [
    "#Ans.\n",
    "import logging\n",
    "logging.disable(logging.CRITICAL + 1)\n",
    "# critical is the highest value in the log, by adding 1 to the critical it disables the all other levels."
   ]
  },
  {
   "cell_type": "markdown",
   "id": "a3a49822",
   "metadata": {},
   "source": [
    "8.Why is using logging messages better than using print() to display the same message?"
   ]
  },
  {
   "cell_type": "markdown",
   "id": "30a3a43b",
   "metadata": {},
   "source": [
    "Ans.\n",
    "Using logging messages is a better way to display messages from your program than using print() because,\n",
    "1. logging allows us to control how messages are displayed,\n",
    "such as setting different levels for different types of messages,\n",
    "2. and sending messages to different places. This is easier to manage than using print().\n",
    "Using logging is also more efficient and is a standard way of handling messages in production applications."
   ]
  },
  {
   "cell_type": "markdown",
   "id": "9e2653d0",
   "metadata": {},
   "source": [
    "9. What are the differences between the Step Over, Step In, and Step Out buttons in the debugger?"
   ]
  },
  {
   "cell_type": "markdown",
   "id": "a3c316af",
   "metadata": {},
   "source": [
    "Ans. \n",
    "The differences between Step Over, Step In, Step Out buttons in debugger are:\n",
    "\n",
    "1. Step in - Step In button will cause the debugger to execute the next line of code and then pause again.\n",
    "2. Step Over - Step Over button will execute the next line of code, similar to the Step In button.\n",
    "   However, if the next line of code is a function call, the Step Over button will “step over” the code in the function.\n",
    "   The function’s code will be executed, and the debugger will pause as soon as the function call returns.\n",
    "3. Step out - Step Out button will cause the debugger to execute lines of code at full speed until it returns from the current      function."
   ]
  },
  {
   "cell_type": "markdown",
   "id": "9438319e",
   "metadata": {},
   "source": [
    "10.After you click Continue, when will the debugger stop ?"
   ]
  },
  {
   "cell_type": "markdown",
   "id": "0aa514bb",
   "metadata": {},
   "source": [
    "Ans.\n",
    "After clicking continue, the program will continue to run normally, without pausing for debugging until it reaches a breakpoint or the program execution completes."
   ]
  },
  {
   "cell_type": "markdown",
   "id": "a151be0a",
   "metadata": {},
   "source": [
    "11. What is the concept of a breakpoint?"
   ]
  },
  {
   "cell_type": "markdown",
   "id": "9e2ef2a3",
   "metadata": {},
   "source": [
    "Ans.\n",
    "A breakpoint is a designated point in the code where the debugger pauses program execution,\n",
    "allowing you to inspect variables, step through the code line by line, and analyze the program's behavior at that specific point."
   ]
  }
 ],
 "metadata": {
  "kernelspec": {
   "display_name": "Python 3",
   "language": "python",
   "name": "python3"
  },
  "language_info": {
   "codemirror_mode": {
    "name": "ipython",
    "version": 3
   },
   "file_extension": ".py",
   "mimetype": "text/x-python",
   "name": "python",
   "nbconvert_exporter": "python",
   "pygments_lexer": "ipython3",
   "version": "3.8.8"
  }
 },
 "nbformat": 4,
 "nbformat_minor": 5
}
