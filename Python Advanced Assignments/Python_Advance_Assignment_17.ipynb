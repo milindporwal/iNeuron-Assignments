{
 "cells": [
  {
   "cell_type": "markdown",
   "id": "afe31417",
   "metadata": {},
   "source": [
    "Q1. Explain the difference between greedy and non-greedy syntax with visual terms in as few words as possible. What is the bare minimum effort required to transform a greedy pattern into a non-greedy one? What characters or characters can you introduce or change?"
   ]
  },
  {
   "cell_type": "markdown",
   "id": "f1278f06",
   "metadata": {},
   "source": [
    "Ans.\n",
    "Greedy: Grabs as much as possible which means greedy match will try to match as many repetitions of the quantified pattern as possible(e.g., '.*')\n",
    "\n",
    "Non-Greedy (Lazy): Grabs as little as possible which means non greedy match will try to match as few repetitions of the quantified pattern as possible (e.g., '.*?')\n",
    "\n",
    "To transform a greedy pattern into a non-greedy one, add '?' after a quantifier, like '*?' or '+?'"
   ]
  },
  {
   "cell_type": "code",
   "execution_count": 1,
   "id": "aa53647c",
   "metadata": {},
   "outputs": [
    {
     "name": "stdout",
     "output_type": "stream",
     "text": [
      "['kkkkkk', '']\n",
      "['', 'k', '', 'k', '', 'k', '', 'k', '', 'k', '', 'k', '']\n"
     ]
    }
   ],
   "source": [
    "import re\n",
    "print(re.findall(\"k*\", \"kkkkkk\")) # Greedy Match Syntax\n",
    "print(re.findall(\"k*?\", \"kkkkkk\")) # Non Greddy Syntax"
   ]
  },
  {
   "cell_type": "markdown",
   "id": "aee9dce0",
   "metadata": {},
   "source": [
    "Q2. When exactly does greedy versus non-greedy make a difference?  What if you're looking for a non-greedy match but the only one available is greedy?"
   ]
  },
  {
   "cell_type": "markdown",
   "id": "14cd9b45",
   "metadata": {},
   "source": [
    "Ans.\n",
    "Greedy versus non-greedy matching makes a difference when we are dealing with patterns that can match multiple occurrences in a text. The distinction matters in scenarios where there are multiple potential matches, and we want to extract the shortest or longest match.\n",
    "\n",
    "If we are looking for a non-greedy match, but only a greedy pattern is available, we can still use the greedy pattern and then apply additional logic to extract the desired portion. This can involve further processing the match to trim or extract the portion of interest, even though the initial match may be longer than desired."
   ]
  },
  {
   "cell_type": "markdown",
   "id": "2346958f",
   "metadata": {},
   "source": [
    "Q3. In a simple match of a string, which looks only for one match and does not do any replacement, is the use of a nontagged group likely to make any practical difference?"
   ]
  },
  {
   "cell_type": "markdown",
   "id": "d1847e14",
   "metadata": {},
   "source": [
    "Ans.\n",
    "The non tagged group will not make any diffrence in this case."
   ]
  },
  {
   "cell_type": "code",
   "execution_count": 3,
   "id": "19944f75",
   "metadata": {},
   "outputs": [
    {
     "name": "stdout",
     "output_type": "stream",
     "text": [
      "Phone number found -> 295\n",
      "Phone number found -> 295\n"
     ]
    }
   ],
   "source": [
    "import re\n",
    "phoneNumRegex = re.compile(r'\\d\\d\\d')\n",
    "num = phoneNumRegex.search('My number is 295-827-9727.')\n",
    "print(f'Phone number found -> {num.group()}') # Non Tagged group\n",
    "print(f'Phone number found -> {num.group(0)}') # Tagged Group"
   ]
  },
  {
   "cell_type": "markdown",
   "id": "e2cd40dc",
   "metadata": {},
   "source": [
    "Q4. Describe a scenario in which using a nontagged category would have a significant impact on the program's outcomes."
   ]
  },
  {
   "cell_type": "markdown",
   "id": "a4ec72e0",
   "metadata": {},
   "source": [
    "Ans.\n",
    "In the code snippet below, the \"decimal\" part is not labeled or stored. This can be beneficial in situations where the separator within a string is not important, and the goal is to capture only the numeric values."
   ]
  },
  {
   "cell_type": "code",
   "execution_count": 4,
   "id": "9a04c058",
   "metadata": {},
   "outputs": [
    {
     "data": {
      "text/plain": [
       "('746', '973')"
      ]
     },
     "execution_count": 4,
     "metadata": {},
     "output_type": "execute_result"
    }
   ],
   "source": [
    "import re\n",
    "text='746.973'\n",
    "pattern=r'(\\d+)(?:.)(\\d+)'\n",
    "regobj=re.compile(pattern)\n",
    "matobj=regobj.search(text)\n",
    "matobj.groups()"
   ]
  },
  {
   "cell_type": "markdown",
   "id": "14ab1a13",
   "metadata": {},
   "source": [
    "Q5. Unlike a normal regex pattern, a look-ahead condition does not consume the characters it examines. Describe a situation in which this could make a difference in the results of your programme."
   ]
  },
  {
   "cell_type": "markdown",
   "id": "a661b3b3",
   "metadata": {},
   "source": [
    "Ans.\n",
    "A situation where the non-consumptive nature of a look-ahead condition can make a difference in the results of a program is when we want to search for patterns that are preceded or followed by certain conditions, but we don't want to include those conditions in the actual match."
   ]
  },
  {
   "cell_type": "markdown",
   "id": "fafce045",
   "metadata": {},
   "source": [
    "Q6. In standard expressions, what is the difference between positive look-ahead and negative look-ahead?"
   ]
  },
  {
   "cell_type": "markdown",
   "id": "65847f75",
   "metadata": {},
   "source": [
    "Ans.\n",
    "In regular expressions, both positive look-ahead and negative look-ahead are used to assert conditions in the text, but they serve opposite purposes:\n",
    "\n",
    "Positive Look-Ahead (X(?=Y)):\n",
    "- Positive look-ahead asserts that X must be followed by Y.\n",
    "- It ensures that a match for X is successful only if it is immediately followed by Y, but Y is not included in the match.\n",
    "\n",
    "Negative Look-Ahead (X(?!Y)):\n",
    "- Negative look-ahead asserts that X must not be followed by Y.\n",
    "- It ensures that a match for X is successful only if it is not immediately followed by Y. If Y is found, the match fails."
   ]
  },
  {
   "cell_type": "markdown",
   "id": "6a18d363",
   "metadata": {},
   "source": [
    "Q7. What is the benefit of referring to groups by name rather than by number in a standard expression?"
   ]
  },
  {
   "cell_type": "markdown",
   "id": "294d3eb5",
   "metadata": {},
   "source": [
    "Ans.\n",
    "Referring to groups by name rather than by number in a standard expression helps in following way:\n",
    "- It improves readability of code.\n",
    "- It helps in maintaining a decent code base.\n",
    "- It improves te clarity of the code.\n",
    "- It helps in error avoidance."
   ]
  },
  {
   "cell_type": "markdown",
   "id": "48c528f9",
   "metadata": {},
   "source": [
    "Q8. Can you identify repeated items within a target string using named groups, as in \"The cow jumped over the moon\"?"
   ]
  },
  {
   "cell_type": "code",
   "execution_count": 5,
   "id": "9417d7df",
   "metadata": {},
   "outputs": [
    {
     "data": {
      "text/plain": [
       "['The', 'the']"
      ]
     },
     "execution_count": 5,
     "metadata": {},
     "output_type": "execute_result"
    }
   ],
   "source": [
    "#Ans.\n",
    "import re\n",
    "text = \"The cow jumped over the moon\"\n",
    "regobj=re.compile(r'(?P<w1>The)',re.I)\n",
    "regobj.findall(text)"
   ]
  },
  {
   "cell_type": "markdown",
   "id": "24bc1192",
   "metadata": {},
   "source": [
    "Q9. When parsing a string, what is at least one thing that the Scanner interface does for you that the re.findall feature does not?"
   ]
  },
  {
   "cell_type": "markdown",
   "id": "8958973c",
   "metadata": {},
   "source": [
    "Ans.\n",
    "In Python, the Scanner interface is not a built-in feature like re.findall. Instead, parsing and tokenization of strings are typically achieved using other methods and libraries, such as regular expressions, string splitting, or custom parsing logic.\n",
    "\n",
    "One thing that we can do with custom parsing logic in Python, which re.findall doesn't offer, is the ability to handle more complex or non-standard parsing scenarios."
   ]
  },
  {
   "cell_type": "markdown",
   "id": "f9768a63",
   "metadata": {},
   "source": [
    "Q10. Does a scanner object have to be named scanner?"
   ]
  },
  {
   "cell_type": "markdown",
   "id": "1fc5bb72",
   "metadata": {},
   "source": [
    "Ans.\n",
    "In Python, a scanner object, which is typically used for parsing and tokenizing text, does not have to be named \"scanner.\" We can name it whatever we like, as long as the name is a valid variable name in Python."
   ]
  },
  {
   "cell_type": "code",
   "execution_count": null,
   "id": "8d002874",
   "metadata": {},
   "outputs": [],
   "source": []
  }
 ],
 "metadata": {
  "kernelspec": {
   "display_name": "Python 3",
   "language": "python",
   "name": "python3"
  },
  "language_info": {
   "codemirror_mode": {
    "name": "ipython",
    "version": 3
   },
   "file_extension": ".py",
   "mimetype": "text/x-python",
   "name": "python",
   "nbconvert_exporter": "python",
   "pygments_lexer": "ipython3",
   "version": "3.8.8"
  }
 },
 "nbformat": 4,
 "nbformat_minor": 5
}
