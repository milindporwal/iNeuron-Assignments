{
 "cells": [
  {
   "cell_type": "markdown",
   "id": "7758d5bd",
   "metadata": {},
   "source": [
    "Q1. What is the difference between __getattr__ and __getattribute__?"
   ]
  },
  {
   "cell_type": "markdown",
   "id": "400cd52e",
   "metadata": {},
   "source": [
    "Ans.\n",
    "The key difference between __getattr__ and __getattribute__ lies in how they handle attribute access:\n",
    "\n",
    " __getattribute__:\n",
    "- It is called automatically when attempting to access an attribute on an object.\n",
    "- Raises an AttributeError if the attribute is not found.\n",
    "- It is defined at the class level and applied to all attribute access attempts.\n",
    "\n",
    "__getattr__:\n",
    "- It is invoked only if __getattribute__ raises an AttributeError (i.e., when the attribute is not found).\n",
    "- It provides an opportunity to define custom behavior when accessing non-existent attributes.\n",
    "- This method is implemented at the class level and can be used to customize attribute access for specific attributes."
   ]
  },
  {
   "cell_type": "markdown",
   "id": "118154c5",
   "metadata": {},
   "source": [
    "Q2. What is the difference between properties and descriptors?"
   ]
  },
  {
   "cell_type": "markdown",
   "id": "4b8dde97",
   "metadata": {},
   "source": [
    "Ans.\n",
    "Properties and descriptors are two ways to manage attribute access in Python, but they have some key differences:\n",
    "\n",
    "Properties:\n",
    "- Properties use the built-in property function or the @property decorator.\n",
    "- They allow us to bind getter, setter, and delete functions to an attribute name within the same class.\n",
    "- When using properties, each reference to an attribute appears as simple direct access, but it invokes the appropriate getter, setter, or delete function.\n",
    "\n",
    "Descriptors:\n",
    "- Descriptors involve creating a separate class that binds getter, setter, and delete functions.\n",
    "- We assign an object of this descriptor class to an attribute name in the main class.\n",
    "- Similar to properties, using descriptors makes attribute access look like simple direct access but invokes the appropriate function of the descriptor object."
   ]
  },
  {
   "cell_type": "markdown",
   "id": "c3e77c1a",
   "metadata": {},
   "source": [
    "Q3. What are the key differences in functionality between __getattr__ and __getattribute__, as well as properties and descriptors?"
   ]
  },
  {
   "cell_type": "markdown",
   "id": "7aa2a11c",
   "metadata": {},
   "source": [
    "Ans.\n",
    "The key differences in functionality between __getattr__, __getattribute, properties, and descriptors:\n",
    "\n",
    "__getattr__:\n",
    "- Python calls __getattr__ when we request an attribute that hasn't been defined.\n",
    "- It is used to dynamically compute attribute values.\n",
    "- It is invoked only when the requested attribute is not found.\n",
    "\n",
    "__getattribute__:\n",
    "- Python calls __getattribute__ before looking at the actual attributes on the object.\n",
    "- It is called for every attribute, whether it exists or not.\n",
    "- It allows us to intercept all attribute access, even for existing attributes.\n",
    "\n",
    "Properties:\n",
    "- Properties use the built-in property function or the @property decorator.\n",
    "- They allow us to bind getter, setter, and delete functions to an attribute name within the same class.\n",
    "- Properties are typically used for managing attribute access with existing attributes.\n",
    "\n",
    "Descriptors:\n",
    "- Descriptors involve creating a separate class that binds getter, setter, and delete functions.\n",
    "- We assign an object of this descriptor class to the attribute name in the main class.\n",
    "- Descriptors are typically used for customizing attribute access with existing attributes."
   ]
  },
  {
   "cell_type": "code",
   "execution_count": null,
   "id": "500284e4",
   "metadata": {},
   "outputs": [],
   "source": []
  }
 ],
 "metadata": {
  "kernelspec": {
   "display_name": "Python 3",
   "language": "python",
   "name": "python3"
  },
  "language_info": {
   "codemirror_mode": {
    "name": "ipython",
    "version": 3
   },
   "file_extension": ".py",
   "mimetype": "text/x-python",
   "name": "python",
   "nbconvert_exporter": "python",
   "pygments_lexer": "ipython3",
   "version": "3.8.8"
  }
 },
 "nbformat": 4,
 "nbformat_minor": 5
}
