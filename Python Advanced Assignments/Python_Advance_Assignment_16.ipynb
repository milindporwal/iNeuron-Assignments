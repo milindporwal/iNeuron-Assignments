{
 "cells": [
  {
   "cell_type": "markdown",
   "id": "e48d185d",
   "metadata": {},
   "source": [
    "Q1. What is the benefit of regular expressions?"
   ]
  },
  {
   "cell_type": "markdown",
   "id": "55a06923",
   "metadata": {},
   "source": [
    "Ans.\n",
    "Regular Expressions, also referred to as regex or regexp, serve the purpose of identifying and matching text strings that conform to specific character sequences or patterns. Essentially, they allow us to find and extract desired string patterns from text by defining those patterns. This not only helps programmers in writing more concise and cleaner code but also helps eliminate the need for repetitive if/else statements."
   ]
  },
  {
   "cell_type": "markdown",
   "id": "2d4e19d5",
   "metadata": {},
   "source": [
    "Q2. Describe the difference between the effects of \"(ab)c+\" and \"a(bc)+.\" Which of these, if any, is the unqualified pattern \"abc+\"?"
   ]
  },
  {
   "cell_type": "markdown",
   "id": "82bcf687",
   "metadata": {},
   "source": [
    "Ans.\n",
    "We can use both (ab)c+ and a(bc)+ as valid patterns. The main distinction between these patterns is that in (ab)c+, \"ab\" is treated as a group, while in a(bc)+, \"bc\" is considered a group."
   ]
  },
  {
   "cell_type": "markdown",
   "id": "943d9219",
   "metadata": {},
   "source": [
    "Q3. How much do you need to use the following sentence while using regular expressions?\n",
    "\n",
    "import re"
   ]
  },
  {
   "cell_type": "markdown",
   "id": "de8f4272",
   "metadata": {},
   "source": [
    "Ans.\n",
    "It is compulsary to write import re statement in order to import regular expression before using it."
   ]
  },
  {
   "cell_type": "markdown",
   "id": "2170572d",
   "metadata": {},
   "source": [
    "Q4. Which characters have special significance in square brackets when expressing a range, and under what circumstances?"
   ]
  },
  {
   "cell_type": "markdown",
   "id": "ae554c02",
   "metadata": {},
   "source": [
    "Ans.\n",
    "The Characters .,*,?,^,or,(), have a special significance when used with square brackets. They need not be be explicitly escaped by \\ as in case of pattern texts in a raw string."
   ]
  },
  {
   "cell_type": "markdown",
   "id": "546840e2",
   "metadata": {},
   "source": [
    "Q5. How does compiling a regular-expression object benefit you?"
   ]
  },
  {
   "cell_type": "markdown",
   "id": "e7f306a6",
   "metadata": {},
   "source": [
    "Ans.\n",
    "We can create pattern objects by combining regular expression patterns, and these objects are useful for pattern matching. They also allow us to search for a pattern multiple times without the need to rewrite it each time."
   ]
  },
  {
   "cell_type": "markdown",
   "id": "56eaa915",
   "metadata": {},
   "source": [
    "Q6. What are some examples of how to use the match object returned by re.match and re.search?"
   ]
  },
  {
   "cell_type": "markdown",
   "id": "3424c5cb",
   "metadata": {},
   "source": [
    "Ans.\n",
    "The re.search() and re.match() functions in Python's re module are used to search for patterns in text, and they work quite fast. When we use these functions, they look for a specific part of text within a string and return a \"match object\" if they find it. If they don't find it, they return \"none.\"\n",
    "\n",
    "The key difference between these functions is in how they search:\n",
    "\n",
    "- re.match() starts searching from the very beginning of the string. If it finds a match there, it returns a match object. However, if the match is somewhere in the middle of the string, it returns \"none.\"\n",
    "\n",
    "- On the other hand, re.search() searches through the entire string, even if the string has multiple lines. It tries to find a match anywhere in the entire text, not just at the beginning."
   ]
  },
  {
   "cell_type": "code",
   "execution_count": 1,
   "id": "9242dd25",
   "metadata": {},
   "outputs": [
    {
     "name": "stdout",
     "output_type": "stream",
     "text": [
      "None\n",
      "None\n",
      "<re.Match object; span=(0, 3), match='Wow'>\n",
      "<re.Match object; span=(0, 3), match='Wow'>\n"
     ]
    }
   ],
   "source": [
    "import re\n",
    "Substring ='Wow' \n",
    "String1 ='The world is beautiful' \n",
    "String2 ='Wow The world is beautiful'\n",
    "print(re.search(Substring, String1, re.IGNORECASE))\n",
    "print(re.match(Substring, String1, re.IGNORECASE))\n",
    "print(re.search(Substring, String2, re.IGNORECASE))\n",
    "print(re.match(Substring, String2, re.IGNORECASE))"
   ]
  },
  {
   "cell_type": "markdown",
   "id": "a836c0cc",
   "metadata": {},
   "source": [
    "Q7. What is the difference between using a vertical bar (|) as an alteration and using square brackets as a character set?"
   ]
  },
  {
   "cell_type": "markdown",
   "id": "95366413",
   "metadata": {},
   "source": [
    "Ans.\n",
    "When we use the vertical bar | in a regular expression pattern, it acts as an \"or\" option. For example, if we have a pattern like <pattern_1>|<pattern_2>, it searches for either <pattern_1> or <pattern_2> in the target string. The first occurrence that matches is returned as the Match Object.\n",
    "\n",
    "On the other hand, if we use square brackets to create a character set, it looks for any character within those brackets. If a match is found, it returns that matched character or characters."
   ]
  },
  {
   "cell_type": "markdown",
   "id": "c8ef13a7",
   "metadata": {},
   "source": [
    "Q8. In regular-expression search patterns, why is it necessary to use the raw-string indicator (r)? In   replacement strings?"
   ]
  },
  {
   "cell_type": "markdown",
   "id": "dd42368a",
   "metadata": {},
   "source": [
    "Ans.\n",
    "Raw string indicator (r) is used in the regular-expression search patterns so that backslashes do not have to be escaped."
   ]
  },
  {
   "cell_type": "code",
   "execution_count": null,
   "id": "afbc5e13",
   "metadata": {},
   "outputs": [],
   "source": []
  }
 ],
 "metadata": {
  "kernelspec": {
   "display_name": "Python 3",
   "language": "python",
   "name": "python3"
  },
  "language_info": {
   "codemirror_mode": {
    "name": "ipython",
    "version": 3
   },
   "file_extension": ".py",
   "mimetype": "text/x-python",
   "name": "python",
   "nbconvert_exporter": "python",
   "pygments_lexer": "ipython3",
   "version": "3.8.8"
  }
 },
 "nbformat": 4,
 "nbformat_minor": 5
}
