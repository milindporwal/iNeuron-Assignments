{
 "cells": [
  {
   "cell_type": "markdown",
   "id": "ab7ba992",
   "metadata": {},
   "source": [
    "Q1. What is the purpose of the try statement?"
   ]
  },
  {
   "cell_type": "markdown",
   "id": "1f3c6b0a",
   "metadata": {},
   "source": [
    "Ans.\n",
    "The try statement in Python is used for exception handling. Its main purpose is to provide a structured way to handle exceptions that might occur during the execution of a block of code.\n",
    "\n",
    "Here's how it works:\n",
    "\n",
    "- We place the code that may raise an exception inside the try block.\n",
    "- If an exception is raised within the try block, the program execution is transferred to the corresponding except block.\n",
    "- Multiple except blocks can be used to handle different types of exceptions, and we can also have a generic except block to catch any unhandled exceptions.\n",
    "- If no exceptions are raised within the try block, the code in the except block is skipped, and the program continues normally.\n",
    "\n",
    "The purpose of the try statement is to prevent the program from crashing when an exception occurs."
   ]
  },
  {
   "cell_type": "code",
   "execution_count": 2,
   "id": "c0662774",
   "metadata": {},
   "outputs": [
    {
     "name": "stdout",
     "output_type": "stream",
     "text": [
      "Enter a number: 0\n",
      "Error: Division by zero is not allowed.\n"
     ]
    }
   ],
   "source": [
    "#Example\n",
    "try:\n",
    "    number = int(input(\"Enter a number: \"))\n",
    "    result = 10 / number  # Try to perform a division\n",
    "    print(\"Result:\", result)\n",
    "except ZeroDivisionError:\n",
    "    print(\"Error: Division by zero is not allowed.\")\n",
    "except ValueError:\n",
    "    print(\"Error: Please enter a valid number.\")\n",
    "except Exception as e:\n",
    "    print(f\"An unexpected error occurred: {e}\")\n"
   ]
  },
  {
   "cell_type": "markdown",
   "id": "d330e1c8",
   "metadata": {},
   "source": [
    "In this example, the 'try' block attempts to convert user input to an integer and perform a division operation. If the user enters invalid input (not an integer) or if the division by zero occurs, it raises specific exceptions ('ValueError' and 'ZeroDivisionError'). The corresponding 'except' blocks handle these exceptions and provide custom error messages. The final 'except' block is a generic handler for any unexpected exceptions."
   ]
  },
  {
   "cell_type": "markdown",
   "id": "a2873ee4",
   "metadata": {},
   "source": [
    "Q2. What are the two most popular try statement variations?"
   ]
  },
  {
   "cell_type": "markdown",
   "id": "42f20266",
   "metadata": {},
   "source": [
    "Ans.\n",
    "The two most popular try statement variations:\n",
    "\n",
    "- try, except: This is the fundamental try-except statement, where we try to execute a block of code, and if an exception occurs, it's caught and handled by the except block.\n",
    "\n",
    "- try, except, finally: This variation includes a finally block that ensures a piece of code runs regardless of whether an exception occurs. The code in the finally block executes after the try and except blocks, providing cleanup or finalization steps."
   ]
  },
  {
   "cell_type": "markdown",
   "id": "fb25ba2d",
   "metadata": {},
   "source": [
    "Q3. What is the purpose of the raise statement?"
   ]
  },
  {
   "cell_type": "markdown",
   "id": "d59fda81",
   "metadata": {},
   "source": [
    "Ans.\n",
    "The raise statement is used to explicitly raise an exception in Python.\n",
    "\n",
    "It allows us to trigger exceptions based on certain conditions or logic in our code. This statement helps in handling exceptions according to our specific programming requirements."
   ]
  },
  {
   "cell_type": "markdown",
   "id": "9dde0c26",
   "metadata": {},
   "source": [
    "Q4. What does the assert statement do, and what other statement is it like?"
   ]
  },
  {
   "cell_type": "markdown",
   "id": "0af23783",
   "metadata": {},
   "source": [
    "Ans.\n",
    "The 'assert' statement is used to check whether a given condition is 'True'. If the condition is 'True', the program continues to execute as normal. However, if the condition is 'False', the 'assert' statement raises an 'AssertionError', effectively halting the program's execution.\n",
    "\n",
    "It's similar to an 'if' statement, but it's typically used when we want to make sure that a certain condition holds true at a specific point in our code, and if not, it's considered a bug or error in our program. In contrast to regular 'if' statements, assertions are typically used during development and debugging to catch issues that shouldn't occur in a correctly functioning program."
   ]
  },
  {
   "cell_type": "markdown",
   "id": "7f97ee18",
   "metadata": {},
   "source": [
    "Q5. What is the purpose of the with/as argument, and what other statement is it like?"
   ]
  },
  {
   "cell_type": "markdown",
   "id": "b8477247",
   "metadata": {},
   "source": [
    "The 'with/as' statement is used for resource management, typically with file handling in Python. It simplifies the process of opening and managing files, ensuring that the resources are properly acquired and released. The primary purpose of 'with/as' is to provide a clean and structured way to work with resources like files.\n",
    "\n",
    "The with statement is similar to a 'try/finally' block, where the resource is acquired (e.g., file is opened) within the 'with' block, and it's automatically closed and resources are released when exiting the 'with' block. This is similar to a 'try' block for acquiring resources and a 'finally' block for releasing resources, but 'with' is more concise and elegant. It ensures that resources are cleaned up even if exceptions occur."
   ]
  },
  {
   "cell_type": "code",
   "execution_count": null,
   "id": "b4470cd5",
   "metadata": {},
   "outputs": [],
   "source": [
    "#Example\n",
    "with open('example.txt', 'r') as file:\n",
    "    data = file.read()\n",
    "# File is automatically closed when exiting the 'with' block\n"
   ]
  },
  {
   "cell_type": "markdown",
   "id": "4421852a",
   "metadata": {},
   "source": [
    "In the code above, the with statement ensures that the file is properly closed, even if an exception occurs within the block. This is equivalent to manually writing a try/finally block to handle resource cleanup."
   ]
  },
  {
   "cell_type": "code",
   "execution_count": null,
   "id": "1d62460a",
   "metadata": {},
   "outputs": [],
   "source": []
  }
 ],
 "metadata": {
  "kernelspec": {
   "display_name": "Python 3",
   "language": "python",
   "name": "python3"
  },
  "language_info": {
   "codemirror_mode": {
    "name": "ipython",
    "version": 3
   },
   "file_extension": ".py",
   "mimetype": "text/x-python",
   "name": "python",
   "nbconvert_exporter": "python",
   "pygments_lexer": "ipython3",
   "version": "3.8.8"
  }
 },
 "nbformat": 4,
 "nbformat_minor": 5
}
