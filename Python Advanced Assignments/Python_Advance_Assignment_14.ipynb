{
 "cells": [
  {
   "cell_type": "markdown",
   "id": "2ff6e111",
   "metadata": {},
   "source": [
    "Q1. Is an assignment operator like += only for show? Is it possible that it would lead to faster results at the runtime?"
   ]
  },
  {
   "cell_type": "markdown",
   "id": "66320dcd",
   "metadata": {},
   "source": [
    "Ans.\n",
    "When we see \"A = A + 1\" in Python, it means we find the current value of A, add 1 to it, and then put the result back in A. This makes Python look for the memory location of A twice.\n",
    "\n",
    "But when we see \"A += 1,\" it's a faster way to say \"add 1 to the value of A.\" Python only needs to find the memory location of A once, making it a quicker operation."
   ]
  },
  {
   "cell_type": "markdown",
   "id": "e6f722f5",
   "metadata": {},
   "source": [
    "Q2. What is the smallest number of statements you'd have to write in most programming languages to replace the Python expression a, b = a + b, a?"
   ]
  },
  {
   "cell_type": "markdown",
   "id": "97342603",
   "metadata": {},
   "source": [
    "Ans.\n",
    "In languages other than Python, we need at least four lines of code to do what the Python code does. Two lines are needed to set the initial values of variables 'a' and 'b,' and two more lines for the reassignment, where we add 'a' to 'b' and then set 'b' to the new value."
   ]
  },
  {
   "cell_type": "markdown",
   "id": "460ce0c7",
   "metadata": {},
   "source": [
    "Q3. In Python, what is the most effective way to set a list of 100 integers to 0?"
   ]
  },
  {
   "cell_type": "code",
   "execution_count": 1,
   "id": "9dd980ae",
   "metadata": {},
   "outputs": [
    {
     "name": "stdout",
     "output_type": "stream",
     "text": [
      "[0, 0, 0, 0, 0, 0, 0, 0, 0, 0, 0, 0, 0, 0, 0, 0, 0, 0, 0, 0, 0, 0, 0, 0, 0, 0, 0, 0, 0, 0, 0, 0, 0, 0, 0, 0, 0, 0, 0, 0, 0, 0, 0, 0, 0, 0, 0, 0, 0, 0, 0, 0, 0, 0, 0, 0, 0, 0, 0, 0, 0, 0, 0, 0, 0, 0, 0, 0, 0, 0, 0, 0, 0, 0, 0, 0, 0, 0, 0, 0, 0, 0, 0, 0, 0, 0, 0, 0, 0, 0, 0, 0, 0, 0, 0, 0, 0, 0, 0, 0]\n",
      "[0, 0, 0, 0, 0, 0, 0, 0, 0, 0, 0, 0, 0, 0, 0, 0, 0, 0, 0, 0, 0, 0, 0, 0, 0, 0, 0, 0, 0, 0, 0, 0, 0, 0, 0, 0, 0, 0, 0, 0, 0, 0, 0, 0, 0, 0, 0, 0, 0, 0, 0, 0, 0, 0, 0, 0, 0, 0, 0, 0, 0, 0, 0, 0, 0, 0, 0, 0, 0, 0, 0, 0, 0, 0, 0, 0, 0, 0, 0, 0, 0, 0, 0, 0, 0, 0, 0, 0, 0, 0, 0, 0, 0, 0, 0, 0, 0, 0, 0, 0]\n"
     ]
    }
   ],
   "source": [
    "#Ans.\n",
    "list_of_zeroes=[0]*100\n",
    "print(list_of_zeroes)\n",
    "\n",
    "zero_list = [0 for i in range(100)]\n",
    "print(zero_list)"
   ]
  },
  {
   "cell_type": "markdown",
   "id": "63025c47",
   "metadata": {},
   "source": [
    "Q4. What is the most effective way to initialise a list of 99 integers that repeats the sequence 1, 2, 3? S If necessary, show step-by-step instructions on how to accomplish this."
   ]
  },
  {
   "cell_type": "code",
   "execution_count": 3,
   "id": "91cf6a41",
   "metadata": {},
   "outputs": [
    {
     "name": "stdout",
     "output_type": "stream",
     "text": [
      "[1, 2, 3, 1, 2, 3, 1, 2, 3, 1, 2, 3, 1, 2, 3, 1, 2, 3, 1, 2, 3, 1, 2, 3, 1, 2, 3, 1, 2, 3, 1, 2, 3, 1, 2, 3, 1, 2, 3, 1, 2, 3, 1, 2, 3, 1, 2, 3, 1, 2, 3, 1, 2, 3, 1, 2, 3, 1, 2, 3, 1, 2, 3, 1, 2, 3, 1, 2, 3, 1, 2, 3, 1, 2, 3, 1, 2, 3, 1, 2, 3, 1, 2, 3, 1, 2, 3, 1, 2, 3, 1, 2, 3, 1, 2, 3, 1, 2, 3]\n"
     ]
    }
   ],
   "source": [
    "#Ans.\n",
    "l1 = [1,2,3]*33\n",
    "print(l1)"
   ]
  },
  {
   "cell_type": "markdown",
   "id": "d5a3845e",
   "metadata": {},
   "source": [
    "Q5. If you're using IDLE to run a Python application, explain how to print a multidimensional list as efficiently?"
   ]
  },
  {
   "cell_type": "code",
   "execution_count": 5,
   "id": "49932a41",
   "metadata": {},
   "outputs": [
    {
     "name": "stdout",
     "output_type": "stream",
     "text": [
      "5 6 7 8 9 10 12 13 24 55 "
     ]
    }
   ],
   "source": [
    "#Ans.\n",
    "l2 = [[5,6],[7,8],[9,10],[12,13],[24,55]] \n",
    "for i in range(len(l2)):\n",
    "    for j in range(len(l2[i])):\n",
    "         print(l2[i][j],end=\" \")"
   ]
  },
  {
   "cell_type": "markdown",
   "id": "3aa9bb5a",
   "metadata": {},
   "source": [
    "Q6. Is it possible to use list comprehension with a string? If so, how can you go about doing it?"
   ]
  },
  {
   "cell_type": "markdown",
   "id": "5bc6a873",
   "metadata": {},
   "source": [
    "Ans.\n",
    "Yes it is possible to use list comprehension with a string."
   ]
  },
  {
   "cell_type": "code",
   "execution_count": 6,
   "id": "0a30ab36",
   "metadata": {},
   "outputs": [
    {
     "name": "stdout",
     "output_type": "stream",
     "text": [
      "['W', 'o', 'r', 'l', 'd', ' ', 'i', 's', ' ', 'B', 'e', 'a', 'u', 't', 'i', 'f', 'u', 'l']\n"
     ]
    }
   ],
   "source": [
    "l3 = [i for i in 'World is Beautiful']\n",
    "print(l3)"
   ]
  },
  {
   "cell_type": "markdown",
   "id": "b1da37e9",
   "metadata": {},
   "source": [
    "Q7. From the command line, how do you get support with a user-written Python programme? Is this possible from inside IDLE?"
   ]
  },
  {
   "cell_type": "markdown",
   "id": "68406b2a",
   "metadata": {},
   "source": [
    "Ans.\n",
    "To get help with a Python program that we have written, we have to open command prompt on Windows or a terminal window on Linux/Mac. If the program file is in the same folder as where we are in the command prompt or terminal, we can simply tell Python to run our program by giving it the filename as a command. This way, Python knows where to find and execute our code."
   ]
  },
  {
   "cell_type": "markdown",
   "id": "0266e5df",
   "metadata": {},
   "source": [
    "Q8. Functions are said to be “first-class objects” in Python but not in most other languages, such as C++ or Java. What can you do in Python with a function (callable object) that you can't do in C or C++?"
   ]
  },
  {
   "cell_type": "markdown",
   "id": "6e6ba102",
   "metadata": {},
   "source": [
    "Ans.\n",
    "In Python, functions are \"first-class objects,\" giving them a unique status, allowing us to treat them like any other object, such as a variable or data structure. This offers several advantages over languages like C or C++:\n",
    "\n",
    "\n",
    "- Pass Functions as Arguments: We can pass functions as arguments to other functions, creating higher-order functions. In C or C++, this often involves using function pointers or callbacks, which can be be more complex.\n",
    "\n",
    "\n",
    "- Return Functions from Functions: Python allows functions to return other functions as results, used in programming paradigms like closures and decorators. Achieving this in C or C++ can be challenging.\n",
    "\n",
    "\n",
    "- Assign Functions to Variables: In Python, we can assign functions to variables like any other data type, offering flexibility and enabling dynamic code.\n",
    "\n",
    "\n",
    "- Store Functions in Data Structures: Functions can be stored in data structures like lists, dictionaries, or sets, simplifying organization and dynamic manipulation.\n",
    "\n",
    "\n",
    "- Create Anonymous (Lambda) Functions: Python supports concise anonymous functions using lambda expressions, whereas C and C++ often rely on less concise function pointers.\n",
    "\n",
    "\n",
    "- Functional Programming: Python promotes functional programming, enabling concise and expressive code using functions as first-class objects, while achieving similar results in C or C++ can be more challenging due to syntax and built-in support differences."
   ]
  },
  {
   "cell_type": "markdown",
   "id": "5b0ef68b",
   "metadata": {},
   "source": [
    "Q9. How do you distinguish between a wrapper, a wrapped feature, and a decorator?"
   ]
  },
  {
   "cell_type": "markdown",
   "id": "7d669526",
   "metadata": {},
   "source": [
    "Ans.\n",
    "Wrapper:\n",
    "\n",
    "- A wrapper is a piece of code that surrounds another function or feature.\n",
    "It often adds extra tasks or logic before or after the wrapped feature.\n",
    "Wrappers serve various purposes, like enhancing functionality or handling exceptions.\n",
    "In decorators, a wrapper extends or modifies another function's behavior.\n",
    "\n",
    "Wrapped Feature:\n",
    "\n",
    "- The wrapped feature is the original function or feature we want to enhance using a wrapper.\n",
    "    It's the core functionality we aim to extend or modify.\n",
    "    Wrapping is typically used to add extra functionality or behavior to this feature.\n",
    "\n",
    "Decorator:\n",
    "\n",
    "- A decorator is a Python construct for applying a wrapper function to another function or method.\n",
    "    It's commonly used to enhance functions or methods without changing their source code.\n",
    "    Decorators use the \"@\" symbol above the function or method to be decorated and are useful for tasks like logging, authentication, and caching."
   ]
  },
  {
   "cell_type": "markdown",
   "id": "8408967e",
   "metadata": {},
   "source": [
    "Q10. If a function is a generator function, what does it return?"
   ]
  },
  {
   "cell_type": "markdown",
   "id": "77076fb2",
   "metadata": {},
   "source": [
    "Ans.\n",
    "Generator functions are a unique type of function that provide a special kind of iterator. They allow us to iterate over their values, similar to a list. But, these iterators are \"lazy\" and don't store all their values in memory at once. Instead, they generate values on the fly as we iterate over them."
   ]
  },
  {
   "cell_type": "markdown",
   "id": "f90f297f",
   "metadata": {},
   "source": [
    "Q11. What is the one improvement that must be made to a function in order for it to become a generator function in the Python language?"
   ]
  },
  {
   "cell_type": "markdown",
   "id": "1869e7e7",
   "metadata": {},
   "source": [
    "Ans. To turn a function into a generator in Python, we need to include at least one yield statement in the function."
   ]
  },
  {
   "cell_type": "markdown",
   "id": "b131a455",
   "metadata": {},
   "source": [
    "Q12. Identify at least one benefit of generators."
   ]
  },
  {
   "cell_type": "markdown",
   "id": "cbf0d176",
   "metadata": {},
   "source": [
    "Ans. One benefit of generators in Python is that they allow us to work with large or infinite sequences of data without consuming excessive memory. Generators generate values on-the-fly, which is memory-efficient compared to creating and storing an entire sequence in memory. This is particularly useful when dealing with large datasets or streaming data sources."
   ]
  },
  {
   "cell_type": "code",
   "execution_count": null,
   "id": "2d5bcf26",
   "metadata": {},
   "outputs": [],
   "source": []
  }
 ],
 "metadata": {
  "kernelspec": {
   "display_name": "Python 3",
   "language": "python",
   "name": "python3"
  },
  "language_info": {
   "codemirror_mode": {
    "name": "ipython",
    "version": 3
   },
   "file_extension": ".py",
   "mimetype": "text/x-python",
   "name": "python",
   "nbconvert_exporter": "python",
   "pygments_lexer": "ipython3",
   "version": "3.8.8"
  }
 },
 "nbformat": 4,
 "nbformat_minor": 5
}
