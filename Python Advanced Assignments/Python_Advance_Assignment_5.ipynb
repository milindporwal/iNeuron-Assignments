{
 "cells": [
  {
   "cell_type": "markdown",
   "id": "eedec1aa",
   "metadata": {},
   "source": [
    "Q1. What is the meaning of multiple inheritance?"
   ]
  },
  {
   "cell_type": "markdown",
   "id": "e83555eb",
   "metadata": {},
   "source": [
    "Ans.\n",
    "Multiple inheritance in Python refers to the capability of a class to inherit properties and methods from more than one parent class. It allows a class to inherit attributes and methods from multiple classes, providing flexibility and the ability to reuse code from different sources.\n",
    "\n",
    "In Python, multiple inheritance is supported, and a child class can inherit from more than one parent class. This means that the child class will have access to the attributes and methods of all the parent classes it inherits from."
   ]
  },
  {
   "cell_type": "code",
   "execution_count": null,
   "id": "387649b3",
   "metadata": {},
   "outputs": [],
   "source": [
    "class Parent_one:\n",
    "    pass\n",
    "class Parent_two:\n",
    "    pass\n",
    "class child(Parent_one,Parent_two):\n",
    "    pass"
   ]
  },
  {
   "cell_type": "markdown",
   "id": "86f07209",
   "metadata": {},
   "source": [
    "Q2. What is the concept of delegation?"
   ]
  },
  {
   "cell_type": "markdown",
   "id": "dddca0f7",
   "metadata": {},
   "source": [
    "Ans.\n",
    "Delegation is a concept in object-oriented programming that involves providing a proxy or wrapper object for another class. It allows us to access or extend the functionality of the main class while maintaining a level of control or limited access to its resources.\n",
    "\n",
    "Key points about delegation:\n",
    "\n",
    "- Proxy Object: Delegation involves creating a proxy object that encapsulates or wraps an object of the main class. This proxy object serves as an intermediary between the client code and the main class.\n",
    "\n",
    "- Limited Access: The proxy object can be designed to provide limited access or control over the main class's resources. It can restrict certain operations or modify behavior as needed.\n",
    "\n",
    "- Forwarding Messages: Delegation often includes forwarding or passing messages to the instance of the main class. This means that when a method is called on the proxy object, it can delegate the operation to the corresponding method in the main class."
   ]
  },
  {
   "cell_type": "markdown",
   "id": "5d7f3c91",
   "metadata": {},
   "source": [
    "Q3. What is the concept of composition?"
   ]
  },
  {
   "cell_type": "markdown",
   "id": "8e15ba80",
   "metadata": {},
   "source": [
    "Ans.\n",
    "Composition is a concept in object-oriented programming where a class refers to one or more other classes by using instances of those classes as instance variables. It is a way to build complex objects by combining simpler, reusable components, without relying on inheritance. In composition, the parent class members are not inherited into the child class; instead, only the required methods from other classes are used by creating and using instances of those classes.\n",
    "\n",
    "Key points about composition:\n",
    "\n",
    "- Combining Classes: Composition allows us to create more complex classes by combining or \"composing\" instances of other classes. These instances are used as attributes within the class.\n",
    "\n",
    "- Reusability: Composition promotes code reuse. Instead of inheriting all the members and behaviors of another class through inheritance, we can selectively use the components that we need from different classes.\n",
    "\n",
    "- Flexibility: Composition provides flexibility in creating objects with different combinations of behaviors. We can easily change or extend the composition of objects without altering the class structure."
   ]
  },
  {
   "cell_type": "markdown",
   "id": "52466f19",
   "metadata": {},
   "source": [
    "Q4. What are bound methods and how do we use them?"
   ]
  },
  {
   "cell_type": "markdown",
   "id": "b74d621b",
   "metadata": {},
   "source": [
    "Ans.\n",
    "Bound methods are methods associated with instances of a class in object-oriented programming, specifically in Python. They are created when we access a method through an instance of a class. Bound methods have access to the instance's attributes and can operate on them. In Python, bound methods are essentially functions, but they are associated with a particular instance and can implicitly access that instance's attributes and state.\n",
    "\n",
    "Key points about bound methods:\n",
    "\n",
    "- Associated with Instances: Bound methods are created when we access a method through an instance of a class. This binding allows the method to operate on the specific instance's data.\n",
    "\n",
    "- Implicit Access: Bound methods implicitly receive the instance itself as their first argument, typically named self. This allows them to access and manipulate the instance's attributes.\n",
    "\n",
    "- Dependent on Instances: Bound methods are closely tied to the instance they were called on. They can interact with the instance's data and perform operations specific to that instance."
   ]
  },
  {
   "cell_type": "markdown",
   "id": "eae08548",
   "metadata": {},
   "source": [
    "Q5. What is the purpose of pseudoprivate attributes?"
   ]
  },
  {
   "cell_type": "markdown",
   "id": "2df81ff8",
   "metadata": {},
   "source": [
    "Ans.\n",
    "Pseudoprivate attributes serve a valuable purpose within extensive frameworks or toolsets.\n",
    "\n",
    "They serve to prevent the need for introducing fresh method names that could inadvertently mask existing definitions elsewhere within the class hierarchy.\n",
    "\n",
    "Moreover, they diminish the risk of internal methods being overridden by names defined lower in the hierarchy.\n",
    "If a method is designed exclusively for use within a class that could be incorporated into various other classes, the utilization of a double underscore prefix guarantees that the method won't clash with other names in the hierarchy, particularly in scenarios involving multiple inheritance.\n",
    "\n",
    "Additionally, pseudoprivate names act as a safeguard, preventing subclasses from unintentionally redefining the names of internal methods."
   ]
  },
  {
   "cell_type": "code",
   "execution_count": null,
   "id": "aaf9b12a",
   "metadata": {},
   "outputs": [],
   "source": []
  }
 ],
 "metadata": {
  "kernelspec": {
   "display_name": "Python 3",
   "language": "python",
   "name": "python3"
  },
  "language_info": {
   "codemirror_mode": {
    "name": "ipython",
    "version": 3
   },
   "file_extension": ".py",
   "mimetype": "text/x-python",
   "name": "python",
   "nbconvert_exporter": "python",
   "pygments_lexer": "ipython3",
   "version": "3.8.8"
  }
 },
 "nbformat": 4,
 "nbformat_minor": 5
}
