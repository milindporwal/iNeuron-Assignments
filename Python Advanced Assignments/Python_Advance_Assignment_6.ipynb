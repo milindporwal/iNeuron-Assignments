{
 "cells": [
  {
   "cell_type": "markdown",
   "id": "cdfbdd7d",
   "metadata": {},
   "source": [
    "Q1. Describe three applications for exception processing."
   ]
  },
  {
   "cell_type": "markdown",
   "id": "64af9bf2",
   "metadata": {},
   "source": [
    "Ans.\n",
    "Exception processing in programming is essential for handling errors and exceptional conditions during program execution.\n",
    "Here are three key applications:\n",
    "\n",
    "- Input Validation:\n",
    "\n",
    "Exception processing is used to validate user inputs and ensure they meet specified criteria. It helps programs gracefully handle invalid inputs by providing meaningful error messages or requesting users to re-enter data.\n",
    "\n",
    "- Mathematical Operations:\n",
    "\n",
    "It catches exceptions in mathematical operations, preventing issues like division by zero. For example, it gracefully handles errors like ZeroDivisionError to avoid program crashes.\n",
    "\n",
    "- File Handling:\n",
    "\n",
    "Exception processing is crucial for file operations, such as opening or writing to files. It allows programs to respond to errors like missing files or permission issues, ensuring the program doesn't crash and providing error details for debugging.\n",
    "\n",
    "Exception processing enhances program robustness, enabling the handling of unexpected issues without abrupt termination, improving the user experience, and facilitating debugging and maintenance."
   ]
  },
  {
   "cell_type": "markdown",
   "id": "a1152359",
   "metadata": {},
   "source": [
    "Q2. What happens if you don't do something extra to treat an exception?"
   ]
  },
  {
   "cell_type": "markdown",
   "id": "bb671eb6",
   "metadata": {},
   "source": [
    "Ans.\n",
    "If we don't take extra steps to handle an exception,\n",
    "the program's execution will be interrupted at runtime, potentially leading to an abnormal termination or crashing of the program.\n",
    "\n",
    "In short, the program won't gracefully manage the exception, which can result in undesirable outcomes."
   ]
  },
  {
   "cell_type": "markdown",
   "id": "63360d97",
   "metadata": {},
   "source": [
    "Q3. What are your options for recovering from an exception in your script?"
   ]
  },
  {
   "cell_type": "markdown",
   "id": "ee4884ab",
   "metadata": {},
   "source": [
    "Ans.\n",
    "To recover from an exception in our Python script, we can use try and except statements."
   ]
  },
  {
   "cell_type": "markdown",
   "id": "9c1d4e4f",
   "metadata": {},
   "source": [
    "Q4. Describe two methods for triggering exceptions in your script."
   ]
  },
  {
   "cell_type": "markdown",
   "id": "f6a7d2bd",
   "metadata": {},
   "source": [
    "Ans.\n",
    "To trigger exceptions manually in our script, we can use the raise and assert methods.\n",
    "\n",
    "raise: We can use the raise statement to raise an exception if a certain condition is met."
   ]
  },
  {
   "cell_type": "code",
   "execution_count": 1,
   "id": "aab15adf",
   "metadata": {},
   "outputs": [
    {
     "ename": "Exception",
     "evalue": "x should not be greater than 5",
     "output_type": "error",
     "traceback": [
      "\u001b[1;31m---------------------------------------------------------------------------\u001b[0m",
      "\u001b[1;31mException\u001b[0m                                 Traceback (most recent call last)",
      "\u001b[1;32m<ipython-input-1-0c7a3db0b651>\u001b[0m in \u001b[0;36m<module>\u001b[1;34m\u001b[0m\n\u001b[0;32m      2\u001b[0m \u001b[0mx\u001b[0m \u001b[1;33m=\u001b[0m \u001b[1;36m10\u001b[0m\u001b[1;33m\u001b[0m\u001b[1;33m\u001b[0m\u001b[0m\n\u001b[0;32m      3\u001b[0m \u001b[1;32mif\u001b[0m \u001b[0mx\u001b[0m \u001b[1;33m>\u001b[0m \u001b[1;36m5\u001b[0m\u001b[1;33m:\u001b[0m\u001b[1;33m\u001b[0m\u001b[1;33m\u001b[0m\u001b[0m\n\u001b[1;32m----> 4\u001b[1;33m     \u001b[1;32mraise\u001b[0m \u001b[0mException\u001b[0m\u001b[1;33m(\u001b[0m\u001b[1;34m\"x should not be greater than 5\"\u001b[0m\u001b[1;33m)\u001b[0m\u001b[1;33m\u001b[0m\u001b[1;33m\u001b[0m\u001b[0m\n\u001b[0m",
      "\u001b[1;31mException\u001b[0m: x should not be greater than 5"
     ]
    }
   ],
   "source": [
    "#Example:\n",
    "x = 10\n",
    "if x > 5:\n",
    "    raise Exception(\"x should not be greater than 5\")"
   ]
  },
  {
   "cell_type": "markdown",
   "id": "751252b6",
   "metadata": {},
   "source": [
    "assert: The assert statement is used to check whether a given condition is True. If the condition is False, an AssertionError exception is raised."
   ]
  },
  {
   "cell_type": "code",
   "execution_count": 2,
   "id": "6ae8d4c8",
   "metadata": {},
   "outputs": [
    {
     "ename": "AssertionError",
     "evalue": "x should be greater than 10",
     "output_type": "error",
     "traceback": [
      "\u001b[1;31m---------------------------------------------------------------------------\u001b[0m",
      "\u001b[1;31mAssertionError\u001b[0m                            Traceback (most recent call last)",
      "\u001b[1;32m<ipython-input-2-1c98f3638610>\u001b[0m in \u001b[0;36m<module>\u001b[1;34m\u001b[0m\n\u001b[0;32m      1\u001b[0m \u001b[1;31m#Example\u001b[0m\u001b[1;33m\u001b[0m\u001b[1;33m\u001b[0m\u001b[1;33m\u001b[0m\u001b[0m\n\u001b[0;32m      2\u001b[0m \u001b[0mx\u001b[0m \u001b[1;33m=\u001b[0m \u001b[1;36m5\u001b[0m\u001b[1;33m\u001b[0m\u001b[1;33m\u001b[0m\u001b[0m\n\u001b[1;32m----> 3\u001b[1;33m \u001b[1;32massert\u001b[0m \u001b[0mx\u001b[0m \u001b[1;33m>\u001b[0m \u001b[1;36m10\u001b[0m\u001b[1;33m,\u001b[0m \u001b[1;34m\"x should be greater than 10\"\u001b[0m\u001b[1;33m\u001b[0m\u001b[1;33m\u001b[0m\u001b[0m\n\u001b[0m",
      "\u001b[1;31mAssertionError\u001b[0m: x should be greater than 10"
     ]
    }
   ],
   "source": [
    "#Example\n",
    "x = 5\n",
    "assert x > 10, \"x should be greater than 10\""
   ]
  },
  {
   "cell_type": "markdown",
   "id": "ad016c61",
   "metadata": {},
   "source": [
    "In both cases, these methods allow us to trigger exceptions when specific conditions are not met in our script."
   ]
  },
  {
   "cell_type": "markdown",
   "id": "87364a31",
   "metadata": {},
   "source": [
    "Q5. Identify two methods for specifying actions to be executed at termination time, regardless of whether or not an exception exists."
   ]
  },
  {
   "cell_type": "markdown",
   "id": "4448a35b",
   "metadata": {},
   "source": [
    "Ans.\n",
    "To specify actions to be executed at termination time, regardless of whether or not an exception exists, we can use the else and finally blocks in Python.\n",
    "\n",
    "- else block: The else block is used when no exceptions are raised in the try block. It allows us to specify actions to be executed if the code within the try block runs successfully, without any exceptions."
   ]
  },
  {
   "cell_type": "code",
   "execution_count": null,
   "id": "98d86fa4",
   "metadata": {},
   "outputs": [],
   "source": [
    "try:\n",
    "    # Code that may raise an exception\n",
    "except SomeException:\n",
    "    # Exception handling\n",
    "else:\n",
    "    # Actions to be executed if no exceptions are raised"
   ]
  },
  {
   "cell_type": "markdown",
   "id": "c47b64a8",
   "metadata": {},
   "source": [
    "- finally block: The finally block is used to specify actions that must be executed regardless of whether an exception is raised or not. It is often used for cleanup operations, such as closing files or releasing resources."
   ]
  },
  {
   "cell_type": "code",
   "execution_count": null,
   "id": "224dd640",
   "metadata": {},
   "outputs": [],
   "source": [
    "try:\n",
    "    # Code that may raise an exception\n",
    "except SomeException:\n",
    "    # Exception handling\n",
    "finally:\n",
    "    # Actions to be executed regardless of exceptions"
   ]
  },
  {
   "cell_type": "markdown",
   "id": "d67a6571",
   "metadata": {},
   "source": [
    "Both else and finally blocks provide ways to ensure certain actions are taken when exiting a block of code, with finally being more commonly used for cleanup operations."
   ]
  }
 ],
 "metadata": {
  "kernelspec": {
   "display_name": "Python 3",
   "language": "python",
   "name": "python3"
  },
  "language_info": {
   "codemirror_mode": {
    "name": "ipython",
    "version": 3
   },
   "file_extension": ".py",
   "mimetype": "text/x-python",
   "name": "python",
   "nbconvert_exporter": "python",
   "pygments_lexer": "ipython3",
   "version": "3.8.8"
  }
 },
 "nbformat": 4,
 "nbformat_minor": 5
}
