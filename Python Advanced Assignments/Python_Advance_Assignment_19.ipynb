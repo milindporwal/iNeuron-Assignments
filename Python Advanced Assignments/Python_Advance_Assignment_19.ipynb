{
 "cells": [
  {
   "cell_type": "markdown",
   "id": "3147ec86",
   "metadata": {},
   "source": [
    "Q1. Define the relationship between a class and its instances. Is it a one-to-one or a one-to-many partnership, for example?"
   ]
  },
  {
   "cell_type": "markdown",
   "id": "62a5a168",
   "metadata": {},
   "source": [
    "Ans. In Python, the relationship between a class and its instances is typically a one-to-many relationship. This means that we can create multiple instances (objects) of a class based on the same class definition. Each instance represents a unique occurrence or entity with its own attributes and state, but they all share the same structure defined by the class."
   ]
  },
  {
   "cell_type": "markdown",
   "id": "16f95e78",
   "metadata": {},
   "source": [
    "Q2. What kind of data is held only in an instance?"
   ]
  },
  {
   "cell_type": "markdown",
   "id": "93e4da9a",
   "metadata": {},
   "source": [
    "Ans. Instance objects contains the Instance variables which are specific to that specific Instance object."
   ]
  },
  {
   "cell_type": "markdown",
   "id": "b89e9a20",
   "metadata": {},
   "source": [
    "Q3. What kind of knowledge is stored in a class?"
   ]
  },
  {
   "cell_type": "markdown",
   "id": "1a7d22ec",
   "metadata": {},
   "source": [
    "Ans. In object-oriented programming, a class serves as a template for creating objects (instances). It encapsulates knowledge related to the structure, behavior, and attributes of the objects it represents.\n",
    "\n",
    "the kind of knowledge that is typically stored in a class include data members, methods or member functions, initializations, constructors, class variables etc.."
   ]
  },
  {
   "cell_type": "markdown",
   "id": "f2ddd84f",
   "metadata": {},
   "source": [
    "Q4. What exactly is a method, and how is it different from a regular function?"
   ]
  },
  {
   "cell_type": "markdown",
   "id": "a69b47d0",
   "metadata": {},
   "source": [
    "Ans. Methods within a class have the capability to access and work with the instance variables of an object. This means they can modify the object's state. On the other hand, regular functions do not have the ability to access or modify the attributes of an object created from a class."
   ]
  },
  {
   "cell_type": "markdown",
   "id": "af7b1299",
   "metadata": {},
   "source": [
    "Q5. Is inheritance supported in Python, and if so, what is the syntax?"
   ]
  },
  {
   "cell_type": "markdown",
   "id": "b645252a",
   "metadata": {},
   "source": [
    "Ans. Yes python supports inheritance. The types of inheritence supported by python are:\n",
    "\n",
    "- Simple Inheritence\n",
    "- Multiple Inheritence\n",
    "- Multilevel lInheritence\n",
    "- Hybrid Inheritence\n",
    "- Hierarchical Inheritence"
   ]
  },
  {
   "cell_type": "markdown",
   "id": "a34872c7",
   "metadata": {},
   "source": [
    "Q6. How much encapsulation (making instance or class variables private) does Python support?"
   ]
  },
  {
   "cell_type": "markdown",
   "id": "37c604f5",
   "metadata": {},
   "source": [
    "Ans. Encapsulation is a concept where we bundle data and the operations that can be performed on that data together. This helps in controlling access to data and prevents unintentional changes. To ensure data remains safe, we can only modify it using the methods provided by the object itself, not by directly accessing its variables."
   ]
  },
  {
   "cell_type": "markdown",
   "id": "c15d7b62",
   "metadata": {},
   "source": [
    "Q7. How do you distinguish between a class variable and an instance variable?"
   ]
  },
  {
   "cell_type": "markdown",
   "id": "22f1ce09",
   "metadata": {},
   "source": [
    "Ans. The Class Attribute is something all instance objects of the class can access, while Instance Attributes are only accessible to the specific object or instance of that class.\n",
    "\n",
    "Class attributes are like a shared resource available at the class level, with a single copy maintained by the Python Virtual Machine (PVM). In contrast, instance attributes are specific to each object or instance, and PVM maintains separate copies for each instance."
   ]
  },
  {
   "cell_type": "markdown",
   "id": "9d61d287",
   "metadata": {},
   "source": [
    "Q8. When, if ever, can self be included in a class's method definitions?"
   ]
  },
  {
   "cell_type": "markdown",
   "id": "bd563edc",
   "metadata": {},
   "source": [
    "Ans. Yes, self can be included in class's method definitions to access the instance variables inside class methods."
   ]
  },
  {
   "cell_type": "markdown",
   "id": "e0ffdfba",
   "metadata": {},
   "source": [
    "Q9. What is the difference between the _ _add_ _ and the _ _radd_ _ methods?"
   ]
  },
  {
   "cell_type": "markdown",
   "id": "9dd80f3e",
   "metadata": {},
   "source": [
    "Ans.\n",
    "\n",
    "__add__ Method :\n",
    "- This method is called when the + operator is used to add an object of the class to another object.\n",
    "- It defines the behavior for the left-hand operand of the + operator.\n",
    "- For example, if we have two objects a and b and we write a + b, the __add__ method of the a object is invoked.\n",
    "\n",
    "__radd__ Method :\n",
    "- This method is called when the + operator is used to add an object of a different class to an object of our class (i.e., when our object is on the right-hand side of the + operator).\n",
    "- It defines the behavior for the right-hand operand of the + operator.\n",
    "- For example, if we have two objects a of our class and b of another class, and we write b + a, the __radd__ method of the a object is invoked."
   ]
  },
  {
   "cell_type": "markdown",
   "id": "d131c6a2",
   "metadata": {},
   "source": [
    "Q10. When is it necessary to use a reflection method? When do you not need it, even though you support the operation in question?"
   ]
  },
  {
   "cell_type": "markdown",
   "id": "0fdd6224",
   "metadata": {},
   "source": [
    "Ans.\n",
    "A reflection method, also known as a \"magic method,\" is used to customize how objects of a class respond to specific operations. We need to implement reflection methods when we want to define custom behavior for an operation, transform data, or support operator overloading.\n",
    "\n",
    "We may not need reflection methods if the default behavior is sufficient for our objects or if we prioritize simplicity and readability in our code. The decision depends on our specific requirements and design goals."
   ]
  },
  {
   "cell_type": "markdown",
   "id": "7115800c",
   "metadata": {},
   "source": [
    "Q11. What is the _ _iadd_ _ method called?"
   ]
  },
  {
   "cell_type": "markdown",
   "id": "7085b047",
   "metadata": {},
   "source": [
    "Ans. The __iadd__ method is called when the += operator (in-place addition) is used with an object. This method allows us to customize the behavior of in-place addition operations for objects of our class. When we use the += operator on an object, python checks if the object has an __iadd__ method, and if it does, that method is called to handle the addition."
   ]
  },
  {
   "cell_type": "markdown",
   "id": "2a7e94c8",
   "metadata": {},
   "source": [
    "Q12. Is the _ _init_ _ method inherited by subclasses? What do you do if you need to customize its behavior within a subclass?"
   ]
  },
  {
   "cell_type": "markdown",
   "id": "39f4af74",
   "metadata": {},
   "source": [
    "Ans. Yes, the __init__ method is inherited by subclasses in Python. When a subclass is created, it inherits the methods and attributes of its parent class, including the __init__ method.\n",
    "If we want to customize its behaviour within a subclass we can use super() method."
   ]
  },
  {
   "cell_type": "code",
   "execution_count": null,
   "id": "0ed2c1d5",
   "metadata": {},
   "outputs": [],
   "source": []
  }
 ],
 "metadata": {
  "kernelspec": {
   "display_name": "Python 3",
   "language": "python",
   "name": "python3"
  },
  "language_info": {
   "codemirror_mode": {
    "name": "ipython",
    "version": 3
   },
   "file_extension": ".py",
   "mimetype": "text/x-python",
   "name": "python",
   "nbconvert_exporter": "python",
   "pygments_lexer": "ipython3",
   "version": "3.8.8"
  }
 },
 "nbformat": 4,
 "nbformat_minor": 5
}
