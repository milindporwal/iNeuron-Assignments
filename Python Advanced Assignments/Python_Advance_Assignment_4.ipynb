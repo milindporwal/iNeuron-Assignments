{
 "cells": [
  {
   "cell_type": "markdown",
   "id": "5bcac8e9",
   "metadata": {},
   "source": [
    "Q1. Which two operator overloading methods can you use in your classes to support iteration?"
   ]
  },
  {
   "cell_type": "markdown",
   "id": "83a56732",
   "metadata": {},
   "source": [
    "Ans.\n",
    "We can use the '__iter__' and '__next__' operator overloading methods in our classes to support iteration. These methods are collectively known as the iterator protocol:\n",
    "\n",
    "- '__iter__' returns the iterator object and is called at the start of the loop within our class.\n",
    "- '__next__' is called at each loop increment, and it returns the next value. It raises the 'StopIteration' exception when there are no more values to return."
   ]
  },
  {
   "cell_type": "code",
   "execution_count": 1,
   "id": "cdf3fcde",
   "metadata": {},
   "outputs": [
    {
     "name": "stdout",
     "output_type": "stream",
     "text": [
      "Increasing Range:\n",
      "1 2 3 4 5 6 7 8 9 \n",
      "Decreasing Range:\n",
      "10 9 8 7 6 5 4 3 2 "
     ]
    }
   ],
   "source": [
    "#Example:\n",
    "class MyRange:\n",
    "    def __init__(self, start, end, step=1):\n",
    "        self.current = start\n",
    "        self.end = end\n",
    "        self.step = step\n",
    "\n",
    "    def __iter__(self):\n",
    "        return self\n",
    "\n",
    "    def __next__(self):\n",
    "        if self.step > 0 and self.current >= self.end:\n",
    "            raise StopIteration\n",
    "        elif self.step < 0 and self.current <= self.end:\n",
    "            raise StopIteration\n",
    "        else:\n",
    "            value = self.current\n",
    "            self.current += self.step\n",
    "            return value\n",
    "\n",
    "# Using the MyRange class for iteration\n",
    "print(\"Increasing Range:\")\n",
    "for num in MyRange(1, 10):\n",
    "    print(num, end=\" \")\n",
    "\n",
    "print(\"\\nDecreasing Range:\")\n",
    "for num in MyRange(10, 1, -1):\n",
    "    print(num, end=\" \")"
   ]
  },
  {
   "cell_type": "markdown",
   "id": "d141bac0",
   "metadata": {},
   "source": [
    "In this code, the 'MyRange' class allows us to create custom range-like objects with specified start, end, and step values. It implements the iterator protocol by defining '__iter__' and '__next__' methods.\n",
    "We can use this class for both increasing and decreasing ranges, as demonstrated in the example."
   ]
  },
  {
   "cell_type": "markdown",
   "id": "3aea58dc",
   "metadata": {},
   "source": [
    "Q2. In what contexts do the two operator overloading methods manage printing?"
   ]
  },
  {
   "cell_type": "markdown",
   "id": "edc87d56",
   "metadata": {},
   "source": [
    "Ans.\n",
    "str and repr are two operator overloading methods that manage printing in different contexts:\n",
    "\n",
    "1. str:\n",
    "- The primary purpose of str is to provide a human-readable and informal string representation of an object.\n",
    "- It is used when we call print() on an object or use the str() function.\n",
    "- The goal of str is to produce output that is clear and easy to understand for humans.\n",
    "- This method should return a string that represents the object but may not contain all the details necessary to recreate the object."
   ]
  },
  {
   "cell_type": "code",
   "execution_count": 2,
   "id": "44665570",
   "metadata": {},
   "outputs": [
    {
     "name": "stdout",
     "output_type": "stream",
     "text": [
      "This is a MyClass object.\n"
     ]
    }
   ],
   "source": [
    "#Example:\n",
    "class MyClass:\n",
    "    def __str__(self):\n",
    "        return \"This is a MyClass object.\"\n",
    "\n",
    "obj = MyClass()\n",
    "print(obj)  # Calls obj.__str__()"
   ]
  },
  {
   "cell_type": "markdown",
   "id": "eeba04a5",
   "metadata": {},
   "source": [
    "2. repr:\n",
    "- The primary purpose of repr is to provide an official and unambiguous string representation of an object.\n",
    "- It is used when we call repr() on an object, typically in the interpreter.\n",
    "- The goal of repr is to provide a string that could be used to recreate the object, including all necessary details.\n",
    "- It is also used when we inspect objects, like entering the object name in the Python interpreter."
   ]
  },
  {
   "cell_type": "code",
   "execution_count": 4,
   "id": "e8b1a2a7",
   "metadata": {},
   "outputs": [
    {
     "name": "stdout",
     "output_type": "stream",
     "text": [
      "MyClass()\n"
     ]
    }
   ],
   "source": [
    "#Example:\n",
    "class MyClass:\n",
    "    def __repr__(self):\n",
    "        return \"MyClass()\"\n",
    "\n",
    "obj = MyClass()\n",
    "print(repr(obj))  # Calls obj.__repr__()"
   ]
  },
  {
   "cell_type": "markdown",
   "id": "1b3601e8",
   "metadata": {},
   "source": [
    "Q3. In a class, how do you intercept slice operations?"
   ]
  },
  {
   "cell_type": "markdown",
   "id": "5b9861b1",
   "metadata": {},
   "source": [
    "Ans.\n",
    "We can use '__getitem__' method to intercept slice operation.\n",
    "This slice method is provided with start integer number, stop integer number and step integer number.\n",
    "\n",
    "__getitem__(slice(start,stop,step))"
   ]
  },
  {
   "cell_type": "markdown",
   "id": "b9928a3d",
   "metadata": {},
   "source": [
    "Q4. In a class, how do you capture in-place addition?"
   ]
  },
  {
   "cell_type": "markdown",
   "id": "3ff7439e",
   "metadata": {},
   "source": [
    "Ans.\n",
    "In a class, we can capture in-place addition using the '__iadd__' method. \n",
    "n Python, the += operator represents in-place addition, which modifies the object on the left side of the operator with the result of the addition."
   ]
  },
  {
   "cell_type": "code",
   "execution_count": 5,
   "id": "9e0e6618",
   "metadata": {},
   "outputs": [
    {
     "name": "stdout",
     "output_type": "stream",
     "text": [
      "15\n"
     ]
    }
   ],
   "source": [
    "#Example:\n",
    "class MyClass:\n",
    "    def __init__(self, value):\n",
    "        self.value = value\n",
    "\n",
    "    def __iadd__(self, other):\n",
    "        # Define the behavior for in-place addition\n",
    "        self.value += other.value\n",
    "        return self  # we should return the modified instance\n",
    "\n",
    "# Create instances of MyClass\n",
    "obj1 = MyClass(10)\n",
    "obj2 = MyClass(5)\n",
    "\n",
    "# Use in-place addition to modify obj1\n",
    "obj1 += obj2\n",
    "\n",
    "# obj1 now contains the result of the in-place addition\n",
    "print(obj1.value) #output comes out as 15"
   ]
  },
  {
   "cell_type": "markdown",
   "id": "631a79f2",
   "metadata": {},
   "source": [
    "In this example, the '__iadd__' method is defined in the class to customize the behavior of the += operator. When obj1 += obj2 is executed, it calls the '__iadd__' method, which modifies obj1 and returns it, allowing us to capture the result of the in-place addition."
   ]
  },
  {
   "cell_type": "markdown",
   "id": "bf74dd33",
   "metadata": {},
   "source": [
    "Q5. When is it appropriate to use operator overloading?"
   ]
  },
  {
   "cell_type": "markdown",
   "id": "6a21ccc2",
   "metadata": {},
   "source": [
    "Ans.\n",
    "Operator overloading is appropriate when we want to use an operator for a different purpose than its standard operation.\n",
    "\n",
    "It allows us to provide custom behavior for operators based on the context of the objects involved.\n",
    "\n",
    "Here's when it is appropriate to use operator overloading:\n",
    "\n",
    "- Customized Behavior: Operator overloading is suitable when we need to provide a custom and meaningful implementation of an operator that fits the context of our class.\n",
    "\n",
    "- User-Defined Types: It is commonly used when working with user-defined types or classes, allowing us to define how objects of our class should interact with standard Python operators.\n",
    "\n",
    "- Enhanced Readability: Operator overloading can improve the readability of our code by making it more natural and intuitive when working with objects of a specific class.\n",
    "\n",
    "- Abstraction: It can help abstract complex operations, making code easier to understand and maintain."
   ]
  },
  {
   "cell_type": "code",
   "execution_count": 6,
   "id": "a5075880",
   "metadata": {},
   "outputs": [],
   "source": [
    "#Example:"
   ]
  },
  {
   "cell_type": "code",
   "execution_count": 7,
   "id": "0df4821e",
   "metadata": {},
   "outputs": [
    {
     "name": "stdout",
     "output_type": "stream",
     "text": [
      "True\n",
      "True\n"
     ]
    }
   ],
   "source": [
    "class Distance:\n",
    "    def __init__(self, meters):\n",
    "        self.meters = meters\n",
    "\n",
    "    def __str__(self):\n",
    "        return f'{self.meters} meters'\n",
    "\n",
    "    def __lt__(self, other):\n",
    "        return self.meters < other.meters\n",
    "\n",
    "    def __eq__(self, other):\n",
    "        return self.meters == other.meters\n",
    "\n",
    "# Create instances of Distance\n",
    "d1 = Distance(100)\n",
    "d2 = Distance(200)\n",
    "d3 = Distance(100)\n",
    "\n",
    "# Operator overloading for custom behavior\n",
    "print(d1 < d2)  # Less than operator\n",
    "print(d1 == d3)  # Equality operator"
   ]
  },
  {
   "cell_type": "code",
   "execution_count": null,
   "id": "875e35aa",
   "metadata": {},
   "outputs": [],
   "source": []
  }
 ],
 "metadata": {
  "kernelspec": {
   "display_name": "Python 3",
   "language": "python",
   "name": "python3"
  },
  "language_info": {
   "codemirror_mode": {
    "name": "ipython",
    "version": 3
   },
   "file_extension": ".py",
   "mimetype": "text/x-python",
   "name": "python",
   "nbconvert_exporter": "python",
   "pygments_lexer": "ipython3",
   "version": "3.8.8"
  }
 },
 "nbformat": 4,
 "nbformat_minor": 5
}
