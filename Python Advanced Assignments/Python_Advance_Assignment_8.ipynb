{
 "cells": [
  {
   "cell_type": "markdown",
   "id": "bdb7f077",
   "metadata": {},
   "source": [
    "Q1. What are the two latest user-defined exception constraints in Python 3.X?"
   ]
  },
  {
   "cell_type": "markdown",
   "id": "a8aeb21c",
   "metadata": {},
   "source": [
    "Ans.\n",
    "raise and assert are the two latest user-defined exception constraints in Python 3.X"
   ]
  },
  {
   "cell_type": "markdown",
   "id": "b28cbf7b",
   "metadata": {},
   "source": [
    "Q2. How are class-based exceptions that have been raised matched to handlers?"
   ]
  },
  {
   "cell_type": "markdown",
   "id": "b5adf765",
   "metadata": {},
   "source": [
    "Ans.\n",
    " The matching of class-based exceptions to handlers is typically done using a try-except block, where the code inside the try block may raise exceptions of the custom exception class, and the except block is used to catch and handle those exceptions."
   ]
  },
  {
   "cell_type": "code",
   "execution_count": null,
   "id": "151c0d7a",
   "metadata": {},
   "outputs": [],
   "source": [
    "#Example\n",
    "class CustomError(Exception):\n",
    "    pass\n",
    "\n",
    "try:\n",
    "    # Code that may raise a custom exception\n",
    "    raise CustomError(\"This is a custom exception.\")\n",
    "except CustomError as e:\n",
    "    # Handle the custom exception\n",
    "    print(f\"Custom exception caught: {e}\")\n",
    "except Exception as e:\n",
    "    # Handle other exceptions\n",
    "    print(f\"Other exception caught: {e}\""
   ]
  },
  {
   "cell_type": "markdown",
   "id": "0abb6093",
   "metadata": {},
   "source": [
    "In this example, a custom exception class 'CustomError' is defined. Within the 'try' block, an instance of this custom exception is raised. The 'except' block with 'CustomError' catches and handles this specific custom exception. If other exceptions are raised (that are subclasses of 'Exception'), they can be caught by the more general 'except' block.\n",
    "\n",
    "Custom exceptions are matched to handlers based on their inheritance hierarchy. We can create specific exception classes that inherit from more general exception classes to allow for more precise exception handling."
   ]
  },
  {
   "cell_type": "markdown",
   "id": "cc5cee3d",
   "metadata": {},
   "source": [
    "Q3. Describe two methods for attaching context information to exception artefacts."
   ]
  },
  {
   "cell_type": "markdown",
   "id": "78e0b323",
   "metadata": {},
   "source": [
    "Ans.\n",
    "In the LoggerAdapter, the process() function plays a critical role in augmenting the logging output with contextual information. This method takes the message and keyword arguments from the logging call, makes necessary modifications, and then returns these modified versions for use in the subsequent call to the underlying logger.\n",
    "\n",
    "Second method is exception(), which logs a message with an ERROR level using this logger. The arguments for this function are handled similarly to the debug() method. Notably, exception information is incorporated into the logging message to provide additional context."
   ]
  },
  {
   "cell_type": "markdown",
   "id": "918ab15d",
   "metadata": {},
   "source": [
    "Q4. Describe two methods for specifying the text of an exception object's error message."
   ]
  },
  {
   "cell_type": "markdown",
   "id": "9ce87ccc",
   "metadata": {},
   "source": [
    "Ans.\n",
    "To specify the text of an exception object's error message, we set the error message when creating a custom exception class or when raising an exception. Here are two methods to specify the text of an exception object's error message:\n",
    "\n",
    "1. Custom Exception Classes:\n",
    "\n",
    "We can create custom exception classes by defining our own exception class that inherits from a base exception class, such as Exception. In the custom exception class, we can set the error message in the constructor (usually __init__) or as a class attribute."
   ]
  },
  {
   "cell_type": "code",
   "execution_count": null,
   "id": "001d34a3",
   "metadata": {},
   "outputs": [],
   "source": [
    "#Example:\n",
    "class CustomException(Exception):\n",
    "    def __init__(self, message):\n",
    "        super().__init__(message)\n",
    "\n",
    "try:\n",
    "    raise CustomException(\"This is a custom exception with a specific message.\")\n",
    "except CustomException as e:\n",
    "    print(f\"Caught CustomException: {e}\")"
   ]
  },
  {
   "cell_type": "markdown",
   "id": "ec7f89c8",
   "metadata": {},
   "source": [
    "2. Raising Built-in Exceptions with Custom Messages:\n",
    "     \n",
    "We can also raise built-in exceptions like ValueError, TypeError, or any other exception, by passing a custom error message as an argument when raising the exception. "
   ]
  },
  {
   "cell_type": "code",
   "execution_count": null,
   "id": "f9df9794",
   "metadata": {},
   "outputs": [],
   "source": [
    "try:\n",
    "    age = \"abc\"\n",
    "    if not age.isdigit():\n",
    "        raise ValueError(\"Invalid age. Please enter a valid number.\")\n",
    "except ValueError as e:\n",
    "    print(f\"Caught ValueError: {e}\")"
   ]
  },
  {
   "cell_type": "markdown",
   "id": "26876817",
   "metadata": {},
   "source": [
    "In both methods, we can specify the error message when creating or raising an exception to provide context about the error to help with debugging and error handling."
   ]
  },
  {
   "cell_type": "markdown",
   "id": "2a73c70d",
   "metadata": {},
   "source": [
    "Q5. Why do you no longer use string-based exceptions?"
   ]
  },
  {
   "cell_type": "markdown",
   "id": "4db12ccb",
   "metadata": {},
   "source": [
    "Ans.\n",
    "String-based exceptions are no longer used because they do not inherit from the built-in BaseException class, which means they are not part of the standard exception hierarchy.\n",
    "\n",
    "Here are a few reasons why class-based exceptions are preferred over string-based exceptions:\n",
    "\n",
    "- Hierarchy and Consistency: Class-based exceptions provide a hierarchy and consistency in exception handling. They inherit from the BaseException class, which makes it easier to organize and manage exceptions in a structured way.\n",
    "\n",
    "- Custom Exception Handling: With class-based exceptions, we can create our own custom exception classes that inherit from the built-in exception classes. This allows for better organization and specific handling of exceptions in our code.\n",
    "\n",
    "- Type Checking: With class-based exceptions, we can use try and except blocks to catch specific exception types, making it easier to handle different exceptions differently.\n",
    "\n",
    "- Clarity and Debugging: Class-based exceptions provide a clear and meaningful way to represent different types of exceptions, which makes debugging and error handling more straightforward."
   ]
  },
  {
   "cell_type": "code",
   "execution_count": null,
   "id": "cd289644",
   "metadata": {},
   "outputs": [],
   "source": []
  }
 ],
 "metadata": {
  "kernelspec": {
   "display_name": "Python 3",
   "language": "python",
   "name": "python3"
  },
  "language_info": {
   "codemirror_mode": {
    "name": "ipython",
    "version": 3
   },
   "file_extension": ".py",
   "mimetype": "text/x-python",
   "name": "python",
   "nbconvert_exporter": "python",
   "pygments_lexer": "ipython3",
   "version": "3.8.8"
  }
 },
 "nbformat": 4,
 "nbformat_minor": 5
}
