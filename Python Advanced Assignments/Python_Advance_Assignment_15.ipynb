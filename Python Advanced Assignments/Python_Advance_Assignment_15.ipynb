{
 "cells": [
  {
   "cell_type": "markdown",
   "id": "45345634",
   "metadata": {},
   "source": [
    "1.\tWhat are the new features added in Python 3.8 version?"
   ]
  },
  {
   "cell_type": "markdown",
   "id": "305606dc",
   "metadata": {},
   "source": [
    "Ans.\n",
    "Some of the new features added in python 3.8 version are :\n",
    "- Assignment Expressions (the \"walrus\" operator): This introduced the := operator, allowing us to assign and use a variable in a single expression.\n",
    "\n",
    "- Positional-Only Parameters: The / syntax in function definitions indicates that certain parameters can only be passed positionally, not as keyword arguments.\n",
    "\n",
    "- F-Strings Improvements: Python 3.8 added the = specifier in f-strings for debugging, making it easier to display variable names and their values.\n",
    "\n",
    "- Syntax Warning Framework: This version added the ability to customize and filter syntax warnings using the -W command-line option and the PYTHONWARNINGS environment variable.\n",
    "\n",
    "- future Annotations: We can use __future__ annotations to opt in to new language features that may be introduced in future Python versions.\n",
    "\n",
    "- New Syntax Features: Introduced the __future__ imports, which are used to enable new syntax features without enabling all the associated semantic changes.\n",
    "\n",
    "- Math Functions Improvements: Added new math functions such as math.prod(), math.isqrt(), and math.dist() for mathematical calculations."
   ]
  },
  {
   "cell_type": "markdown",
   "id": "16d2df45",
   "metadata": {},
   "source": [
    "2. What is monkey patching in Python?"
   ]
  },
  {
   "cell_type": "markdown",
   "id": "63261405",
   "metadata": {},
   "source": [
    "Ans. \n",
    "Monkey patching in Python is the practice of dynamically modifying or extending existing classes or modules at runtime, typically to fix bugs, add features, or make temporary adjustments without changing the original source code. It can be powerful but should be used with caution due to its potential for unpredictable behavior and maintenance challenges."
   ]
  },
  {
   "cell_type": "markdown",
   "id": "fff27747",
   "metadata": {},
   "source": [
    "3.\tWhat is the difference between a shallow copy and deep copy?"
   ]
  },
  {
   "cell_type": "markdown",
   "id": "640efa01",
   "metadata": {},
   "source": [
    "Ans.\n",
    "The main difference between a shallow copy and a deep copy is how they handle nested objects within the data structure being copied.\n",
    "\n",
    "Shallow Copy:\n",
    "- A shallow copy creates a new object, but it does not create copies of the objects contained within the original.\n",
    "- Instead, it references the same nested objects as the original.\n",
    "- Changes made to the nested objects within the copy are reflected in the original, and vice versa.\n",
    "- Shallow copies are typically created using methods like copy.copy() in Python.\n",
    "\n",
    "Deep Copy:\n",
    "- A deep copy creates a new object and recursively copies all objects contained within the original data structure.\n",
    "- The copied data structure is entirely independent of the original, and changes to nested objects within the copy do not affect the original.\n",
    "- Deep copies are typically created using methods like copy.deepcopy() in Python."
   ]
  },
  {
   "cell_type": "markdown",
   "id": "70765beb",
   "metadata": {},
   "source": [
    "4.\tWhat is the maximum possible length of an identifier?"
   ]
  },
  {
   "cell_type": "markdown",
   "id": "28e9d82f",
   "metadata": {},
   "source": [
    "Ans.\n",
    "In Python, the highest possible length of an identifier is 79 characters.\n",
    "Python is case-sensitive, which means it distinguishes between lowercase and uppercase letters in identifiers.\n",
    "When creating or using identifiers in Python, there is no strict limit on their length.\n",
    "However, PEP-8, a style guide for Python, encourages adhering to a 79-character limit to maintain code consistency and readability. While Python itself doesn't impose this limit, following PEP-8 guidelines is a good practice."
   ]
  },
  {
   "cell_type": "markdown",
   "id": "716127d6",
   "metadata": {},
   "source": [
    "5.\tWhat is generator comprehension?"
   ]
  },
  {
   "cell_type": "markdown",
   "id": "5a4029f7",
   "metadata": {},
   "source": [
    "Ans.\n",
    "- Generator comprehension is a concise way to create a generator in Python, typically written in a single line.\n",
    "- It's crucial to grasp this syntax to write clean and straightforward code.\n",
    "- Generator comprehensions use round brackets, unlike list comprehensions, which use square brackets.\n",
    "- Generators yield one item at a time and generate items on-the-fly as needed. In contrast, list comprehensions allocate memory for the entire list in advance. This makes generator expressions more memory-efficient than lists."
   ]
  },
  {
   "cell_type": "code",
   "execution_count": null,
   "id": "7e60d94b",
   "metadata": {},
   "outputs": [],
   "source": []
  }
 ],
 "metadata": {
  "kernelspec": {
   "display_name": "Python 3",
   "language": "python",
   "name": "python3"
  },
  "language_info": {
   "codemirror_mode": {
    "name": "ipython",
    "version": 3
   },
   "file_extension": ".py",
   "mimetype": "text/x-python",
   "name": "python",
   "nbconvert_exporter": "python",
   "pygments_lexer": "ipython3",
   "version": "3.8.8"
  }
 },
 "nbformat": 4,
 "nbformat_minor": 5
}
