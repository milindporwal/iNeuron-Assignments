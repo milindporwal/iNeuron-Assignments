{
 "cells": [
  {
   "cell_type": "markdown",
   "id": "80262a41",
   "metadata": {},
   "source": [
    "Q1. What is a probability distribution, exactly? If the values are meant to be random, how can you predict them at all?"
   ]
  },
  {
   "cell_type": "markdown",
   "id": "f24b78e9",
   "metadata": {},
   "source": [
    "Ans. A probability distribution characterizes the pattern in which a random variable's values are spread out. It provides insights into the likelihood of the random variable assuming different values, indicating which values are more probable and which are less so. By examining past data and the frequency of the random event, we can estimate future outcomes in terms of probabilities."
   ]
  },
  {
   "cell_type": "markdown",
   "id": "183f582d",
   "metadata": {},
   "source": [
    "Q2. Is there a distinction between true random numbers and pseudo-random numbers, if there is one? Why are the latter considered “good enough”?"
   ]
  },
  {
   "cell_type": "markdown",
   "id": "e5ff4283",
   "metadata": {},
   "source": [
    "Ans. Yes, there is a distinction between true random numbers and pseudo-random numbers.\n",
    "\n",
    "Pseudo-random numbers are considered \"good enough\" for many applications because they possess several advantages:\n",
    "\n",
    "- Reproducibility: Pseudo-random sequences are reproducible. If we use the same seed, we will get the same sequence of numbers. This property is valuable for debugging and testing.\n",
    "\n",
    "- Speed: Pseudo-random number generators are computationally efficient and can generate large sequences of numbers quickly.\n",
    "\n",
    "- Deterministic Behavior: Pseudo-random numbers behave predictably, making them suitable for simulations and modeling.\n",
    "\n",
    "- Statistical Properties: Well-designed pseudo-random number generators exhibit statistical properties that make them suitable for various applications, including statistical analysis, gaming, and scientific simulations."
   ]
  },
  {
   "cell_type": "markdown",
   "id": "92fe6b24",
   "metadata": {},
   "source": [
    "Q3. What are the two main factors that influence the behaviour of a \"normal\" probability distribution?"
   ]
  },
  {
   "cell_type": "markdown",
   "id": "343c444e",
   "metadata": {},
   "source": [
    "Ans. The two main factors that influence the behaviour of a \"normal\" probability distribution are 'Mean' and 'Standard Deviation'."
   ]
  },
  {
   "cell_type": "markdown",
   "id": "44946968",
   "metadata": {},
   "source": [
    "Q4. Provide a real-life example of a normal distribution."
   ]
  },
  {
   "cell_type": "markdown",
   "id": "49d36e0b",
   "metadata": {},
   "source": [
    "Ans. A real-life example of a normal distribution is the distribution of human heights in a population.\n",
    "\n",
    "In a large population, if we measure the heights of all individuals and create a histogram or frequency distribution of those heights, we would often find that the resulting distribution closely resembles a normal distribution, or a bell-shaped curve."
   ]
  },
  {
   "cell_type": "markdown",
   "id": "bde0226d",
   "metadata": {},
   "source": [
    "Q5. In the short term, how can you expect a probability distribution to behave? What do you think will happen as the number of trials grows?"
   ]
  },
  {
   "cell_type": "markdown",
   "id": "b5e96d48",
   "metadata": {},
   "source": [
    "Ans. In the short term, the behavior of a probability distribution can be somewhat unpredictable, especially for a small number of trials. This is because, with a small sample size, random chance can have a more significant impact on the outcomes, leading to variability and less consistency.\n",
    "\n",
    "As the number of trials or observations grows, the behavior of a probability distribution tends to stabilize and become more predictable. "
   ]
  },
  {
   "cell_type": "markdown",
   "id": "fd0867e9",
   "metadata": {},
   "source": [
    "Q6. What kind of object can be shuffled by using random.shuffle?"
   ]
  },
  {
   "cell_type": "markdown",
   "id": "fc9f7ef8",
   "metadata": {},
   "source": [
    "Ans. The random.shuffle function in python is designed to shuffle the elements of a mutable sequence or collection, such as a list or an array."
   ]
  },
  {
   "cell_type": "markdown",
   "id": "b0b918aa",
   "metadata": {},
   "source": [
    "Q7. Describe the math package's general categories of functions."
   ]
  },
  {
   "cell_type": "markdown",
   "id": "be0105b8",
   "metadata": {},
   "source": [
    "Ans. The math package's general categories of functions are:\n",
    "\n",
    "1. Basic Arithmetic Functions\n",
    "\n",
    "2. Trigonometric Functions\n",
    "\n",
    "3. Hyperbolic Functions\n",
    "\n",
    "4. Logarithmic and Exponential Functions\n",
    "\n",
    "5. Rounding and Absolute Value Functions\n",
    "\n",
    "6. Constants - like pi,  Euler's number etc.\n",
    "\n",
    "7. Angle Conversion Functions - from degrees to radians and from radians to degrees\n",
    "\n",
    "8. Special Functions - like factorial and GCD"
   ]
  },
  {
   "cell_type": "markdown",
   "id": "548b0286",
   "metadata": {},
   "source": [
    "Q8. What is the relationship between exponentiation and logarithms?"
   ]
  },
  {
   "cell_type": "markdown",
   "id": "60d5cae7",
   "metadata": {},
   "source": [
    "Ans. Exponentiation and logarithms are mathematical operations that are closely related and can be considered inverse operations of each other. "
   ]
  },
  {
   "cell_type": "markdown",
   "id": "880f7a06",
   "metadata": {},
   "source": [
    "Q9. What are the three logarithmic functions that Python supports?"
   ]
  },
  {
   "cell_type": "markdown",
   "id": "c0d3bcc3",
   "metadata": {},
   "source": [
    "Ans. Python supports three logarithmic functions in its standard math module. These logarithmic functions are:\n",
    "\n",
    "- Natural Logarithm (Base e) - This function calculates the natural logarithm of a number x with base 'e'\n",
    "\n",
    "- Base 10 Logarithm - 'math.log10(x)'- This function calculates the logarithm of a number x with base 10.\n",
    "\n",
    "- Custom Base Logarithm - 'math.log(x, base)' - This function calculates the logarithm of a number x with a custom specified base. We provide the base as the second argument."
   ]
  },
  {
   "cell_type": "code",
   "execution_count": null,
   "id": "4a3798be",
   "metadata": {},
   "outputs": [],
   "source": []
  }
 ],
 "metadata": {
  "kernelspec": {
   "display_name": "Python 3",
   "language": "python",
   "name": "python3"
  },
  "language_info": {
   "codemirror_mode": {
    "name": "ipython",
    "version": 3
   },
   "file_extension": ".py",
   "mimetype": "text/x-python",
   "name": "python",
   "nbconvert_exporter": "python",
   "pygments_lexer": "ipython3",
   "version": "3.8.8"
  }
 },
 "nbformat": 4,
 "nbformat_minor": 5
}
