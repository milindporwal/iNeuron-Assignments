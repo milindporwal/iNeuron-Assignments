{
 "cells": [
  {
   "cell_type": "markdown",
   "id": "2d6e94bf",
   "metadata": {},
   "source": [
    "Q1. If you have any, what are your choices for increasing the comparison between different figures on the same graph?"
   ]
  },
  {
   "cell_type": "markdown",
   "id": "62089529",
   "metadata": {},
   "source": [
    "Ans. Matplotlib provide a useful function called \"subplots\" to enhance the ability to compare various charts within a single graph. Subplots essentially refer to a collection of smaller axes, where each axis represents an individual plot, coexisting within a unified figure."
   ]
  },
  {
   "cell_type": "markdown",
   "id": "191ad3a2",
   "metadata": {},
   "source": [
    "Q2. Can you explain the benefit of compound interest over a higher rate of interest that does not compound after reading this chapter?"
   ]
  },
  {
   "cell_type": "markdown",
   "id": "c1590f45",
   "metadata": {},
   "source": [
    "Ans. Compound interest is advantageous because it allows our initial investment or principal to grow exponentially over time. When interest compounds, we earn interest not just on our initial investment but also on the interest that has already been added. This compounding effect results in a higher return on our investment in the long run.\n",
    "\n",
    "In contrast, a higher rate of simple interest that does not compound means that we only earn interest on our initial investment each period. With simple interest, the growth of our investment is linear and doesn't have the same exponential growth potential as compound interest.\n",
    "\n",
    "So, the benefit of compound interest is that it enables our money to grow faster and accumulate more wealth over time compared to a higher simple interest rate."
   ]
  },
  {
   "cell_type": "markdown",
   "id": "625c7ec7",
   "metadata": {},
   "source": [
    "Q3. What is a histogram, exactly? Name a numpy method for creating such a graph."
   ]
  },
  {
   "cell_type": "markdown",
   "id": "870cc194",
   "metadata": {},
   "source": [
    "Ans. A histogram is a graphical representation of the distribution of data. It divides data into intervals or \"bins\" and counts the number of data points that fall into each bin. The resulting chart displays the frequency or count of data points within each bin, allowing us to visualize the data's distribution.\n",
    "\n",
    "In NumPy, we can create a histogram using the numpy.histogram() function. This function takes a dataset as input and returns the frequency counts and bin edges. We can then use these values to create a histogram graph using a plotting library like Matplotlib."
   ]
  },
  {
   "cell_type": "markdown",
   "id": "b39e35ff",
   "metadata": {},
   "source": [
    "Q4. If necessary, how do you change the aspect ratios between the X and Y axes?"
   ]
  },
  {
   "cell_type": "markdown",
   "id": "946cd522",
   "metadata": {},
   "source": [
    "Ans. To change the aspect ratio between the X and Y axes in a plot, we can use the matplotlib library, which allows us to control the aspect ratio by specifying it when creating a plot. We can achieve this by using the aspect parameter within the plt.gca().set_aspect() method."
   ]
  },
  {
   "cell_type": "markdown",
   "id": "1879f41a",
   "metadata": {},
   "source": [
    "Q5. Compare and contrast the three types of array multiplication between two numpy arrays: dot product, outer product, and regular multiplication of two numpy arrays."
   ]
  },
  {
   "cell_type": "markdown",
   "id": "fa7b2f9f",
   "metadata": {},
   "source": [
    "Ans.\n",
    "Dot Product:\n",
    "- Requires that the number of columns in the first array matches the number of rows in the second array.\n",
    "- Result is a single scalar value or a 1D array.\n",
    "- The dot product of two arrays A and B is computed using numpy.dot(A, B) or A.dot(B).\n",
    "\n",
    "Outer Product:\n",
    "- Computes the product of each element in the first array with each element in the second array.\n",
    "- Result is a 2D array with the shape (len(A), len(B)).\n",
    "- The outer product of two arrays A and B is computed using numpy.outer(A, B).\n",
    "\n",
    "Regular Multiplication:\n",
    "- Multiplies each element in one array with the corresponding element in the other array.\n",
    "- The arrays must have the same shape for element-wise multiplication to work.\n",
    "- Result is a new array with the same shape as the input arrays.\n",
    "- Element-wise multiplication is performed using the * operator in numpy or numpy.multiply(A, B)."
   ]
  },
  {
   "cell_type": "markdown",
   "id": "8d43de65",
   "metadata": {},
   "source": [
    "Q6. Before you buy a home, which numpy function will you use to measure your monthly mortgage payment?"
   ]
  },
  {
   "cell_type": "markdown",
   "id": "8430991c",
   "metadata": {},
   "source": [
    "Ans. To calculate our monthly mortgage payment, we can use the numpy function numpy.pmt(rate, nper, pv). This function calculates the payment for a loan based on constant payments and a constant interest rate.\n",
    "- rate: The interest rate for each period.\n",
    "- nper: The total number of payment periods.\n",
    "- pv: The present value or principal amount of the loan."
   ]
  },
  {
   "cell_type": "markdown",
   "id": "ec23c301",
   "metadata": {},
   "source": [
    "Q7. Can string data be stored in numpy arrays? If so, list at least one restriction that applies to this data."
   ]
  },
  {
   "cell_type": "markdown",
   "id": "16dfd595",
   "metadata": {},
   "source": [
    "Ans. Yes, string data can be stored in numpy arrays using the numpy.array function.\n",
    "But, there is a restriction when working with string data in numpy arrays:\n",
    "In a numpy array, the string data is stored as fixed-length strings. This means that we need to specify the maximum length of the strings when creating the array. If a string exceeds this length, it will be truncated, causing potential data loss."
   ]
  },
  {
   "cell_type": "code",
   "execution_count": null,
   "id": "3a37709f",
   "metadata": {},
   "outputs": [],
   "source": []
  }
 ],
 "metadata": {
  "kernelspec": {
   "display_name": "Python 3",
   "language": "python",
   "name": "python3"
  },
  "language_info": {
   "codemirror_mode": {
    "name": "ipython",
    "version": 3
   },
   "file_extension": ".py",
   "mimetype": "text/x-python",
   "name": "python",
   "nbconvert_exporter": "python",
   "pygments_lexer": "ipython3",
   "version": "3.8.8"
  }
 },
 "nbformat": 4,
 "nbformat_minor": 5
}
