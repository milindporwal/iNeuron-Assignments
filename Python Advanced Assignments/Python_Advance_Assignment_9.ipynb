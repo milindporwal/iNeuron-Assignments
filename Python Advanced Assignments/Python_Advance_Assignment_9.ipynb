{
 "cells": [
  {
   "cell_type": "markdown",
   "id": "fa397b7f",
   "metadata": {},
   "source": [
    "Q1. In Python 3.X, what are the names and functions of string object types?"
   ]
  },
  {
   "cell_type": "markdown",
   "id": "5c261441",
   "metadata": {},
   "source": [
    "Ans.\n",
    "\n",
    "capitalize()\tConverts the first character to upper case\n",
    "\n",
    "casefold()\tConverts string into lower case\n",
    "\n",
    "center()\tReturns a centered string\n",
    "\n",
    "count()\tReturns the number of times a specified value occurs in a string\n",
    "\n",
    "encode()\tReturns an encoded version of the string\n",
    "\n",
    "endswith()\tReturns true if the string ends with the specified value\n",
    "\n",
    "expandtabs()\tSets the tab size of the string\n",
    "\n",
    "find()\tSearches the string for a specified value and returns the position of where it was found\n",
    "\n",
    "format()\tFormats specified values in a string\n",
    "\n",
    "format_map()\tFormats specified values in a string\n",
    "\n",
    "index()\tSearches the string for a specified value and returns the position of where it was found\n",
    "\n",
    "isalnum()\tReturns True if all characters in the string are alphanumeric\n",
    "\n",
    "isalpha()\tReturns True if all characters in the string are in the alphabet\n",
    "\n",
    "isascii()\tReturns True if all characters in the string are ascii characters\n",
    "\n",
    "isdecimal()\tReturns True if all characters in the string are decimals\n",
    "\n",
    "isdigit()\tReturns True if all characters in the string are digits\n",
    "\n",
    "isidentifier()\tReturns True if the string is an identifier\n",
    "\n",
    "islower()\tReturns True if all characters in the string are lower case\n",
    "\n",
    "isnumeric()\tReturns True if all characters in the string are numeric\n",
    "\n",
    "isprintable()\tReturns True if all characters in the string are printable\n",
    "\n",
    "isspace()\tReturns True if all characters in the string are whitespaces\n",
    "\n",
    "istitle()\tReturns True if the string follows the rules of a title\n",
    "\n",
    "isupper()\tReturns True if all characters in the string are upper case\n",
    "\n",
    "join()\tConverts the elements of an iterable into a string\n",
    "\n",
    "ljust()\tReturns a left justified version of the string\n",
    "\n",
    "lower()\tConverts a string into lower case\n",
    "\n",
    "lstrip()\tReturns a left trim version of the string\n",
    "\n",
    "maketrans()\tReturns a translation table to be used in translations\n",
    "\n",
    "partition()\tReturns a tuple where the string is parted into three parts\n",
    "\n",
    "replace()\tReturns a string where a specified value is replaced with a specified value\n",
    "\n",
    "rfind()\tSearches the string for a specified value and returns the last position of where it was found\n",
    "\n",
    "rindex()\tSearches the string for a specified value and returns the last position of where it was found\n",
    "\n",
    "rjust()\tReturns a right justified version of the string\n",
    "\n",
    "rpartition()\tReturns a tuple where the string is parted into three parts\n",
    "\n",
    "rsplit()\tSplits the string at the specified separator, and returns a list\n",
    "\n",
    "rstrip()\tReturns a right trim version of the string\n",
    "\n",
    "split()\tSplits the string at the specified separator, and returns a list\n",
    "\n",
    "splitlines()\tSplits the string at line breaks and returns a list\n",
    "\n",
    "startswith()\tReturns true if the string starts with the specified value\n",
    "\n",
    "strip()\tReturns a trimmed version of the string\n",
    "\n",
    "swapcase()\tSwaps cases, lower case becomes upper case and vice versa\n",
    "\n",
    "title()\tConverts the first character of each word to upper case\n",
    "\n",
    "translate()\tReturns a translated string\n",
    "\n",
    "upper()\tConverts a string into upper case\n",
    "\n",
    "zfill()\tFills the string with a specified number of 0 values at the beginning"
   ]
  },
  {
   "cell_type": "markdown",
   "id": "af480e52",
   "metadata": {},
   "source": [
    "Q2. How do the string forms in Python 3.X vary in terms of operations?"
   ]
  },
  {
   "cell_type": "markdown",
   "id": "293de722",
   "metadata": {},
   "source": [
    "Ans.\n",
    "In Python 3 default format of strings is Unicode Whereas in Python 2 we need to explicitly mention Unicode value using u"
   ]
  },
  {
   "cell_type": "markdown",
   "id": "4603890f",
   "metadata": {},
   "source": [
    "Q3. In Python 3.X, how do you put non-ASCII Unicode characters in a string?"
   ]
  },
  {
   "cell_type": "markdown",
   "id": "62c37a4e",
   "metadata": {},
   "source": [
    "Ans.\n",
    "In Python 3.X, unidecode() method from unidecode library can be used to put non-ASCII Unicode Characters in a string."
   ]
  },
  {
   "cell_type": "code",
   "execution_count": 1,
   "id": "88bc4f77",
   "metadata": {},
   "outputs": [
    {
     "ename": "ModuleNotFoundError",
     "evalue": "No module named 'unidecode'",
     "output_type": "error",
     "traceback": [
      "\u001b[1;31m---------------------------------------------------------------------------\u001b[0m",
      "\u001b[1;31mModuleNotFoundError\u001b[0m                       Traceback (most recent call last)",
      "\u001b[1;32m<ipython-input-1-2ffd8033fff8>\u001b[0m in \u001b[0;36m<module>\u001b[1;34m\u001b[0m\n\u001b[0;32m      1\u001b[0m \u001b[1;31m#Example:\u001b[0m\u001b[1;33m\u001b[0m\u001b[1;33m\u001b[0m\u001b[1;33m\u001b[0m\u001b[0m\n\u001b[1;32m----> 2\u001b[1;33m \u001b[1;32mfrom\u001b[0m \u001b[0munidecode\u001b[0m \u001b[1;32mimport\u001b[0m \u001b[0munidecode\u001b[0m\u001b[1;33m\u001b[0m\u001b[1;33m\u001b[0m\u001b[0m\n\u001b[0m\u001b[0;32m      3\u001b[0m \u001b[1;33m\u001b[0m\u001b[0m\n\u001b[0;32m      4\u001b[0m \u001b[0mprint\u001b[0m\u001b[1;33m(\u001b[0m\u001b[0munidecode\u001b[0m\u001b[1;33m(\u001b[0m\u001b[1;34m\"Café au lait\"\u001b[0m\u001b[1;33m)\u001b[0m\u001b[1;33m)\u001b[0m\u001b[1;33m\u001b[0m\u001b[1;33m\u001b[0m\u001b[0m\n\u001b[0;32m      5\u001b[0m \u001b[0mprint\u001b[0m\u001b[1;33m(\u001b[0m\u001b[0munidecode\u001b[0m\u001b[1;33m(\u001b[0m\u001b[1;34m\"München\"\u001b[0m\u001b[1;33m)\u001b[0m\u001b[1;33m)\u001b[0m\u001b[1;33m\u001b[0m\u001b[1;33m\u001b[0m\u001b[0m\n",
      "\u001b[1;31mModuleNotFoundError\u001b[0m: No module named 'unidecode'"
     ]
    }
   ],
   "source": [
    "#Example:\n",
    "from unidecode import unidecode\n",
    "\n",
    "print(unidecode(\"Café au lait\"))\n",
    "print(unidecode(\"München\"))\n",
    "print(unidecode(\"Γειά σας!\"))\n",
    "print(unidecode(\"Привет, мир!\"))\n",
    "print(unidecode(\"你好，世界\"))\n",
    "print(unidecode(\"आप कैसे हैं?\"))"
   ]
  },
  {
   "cell_type": "markdown",
   "id": "70f19983",
   "metadata": {},
   "source": [
    "Q4. In Python 3.X, what are the key differences between text-mode and binary-mode files?"
   ]
  },
  {
   "cell_type": "markdown",
   "id": "237fa081",
   "metadata": {},
   "source": [
    "Ans.\n",
    "In Python 3.X, the key differences between text-mode and binary-mode files are as follows:\n",
    "\n",
    "Text-Mode Files:\n",
    "- A text file contains textual information in the form of alphabets, digits, special characters, or symbols.\n",
    "- When a file is opened in text mode, reading its data automatically decodes its content based on the platform's default encoding or the provided encoding.\n",
    "- Reading from a text-mode file returns the content as a str object, and writing operations take str data, automatically encoding it before writing to the file.\n",
    "- Text-mode files also support universal end-of-line translation, ensuring that newline characters are represented consistently (e.g., converting between '\\r', '\\n', and '\\r\\n' on different platforms).\n",
    "- Text-mode files allow specifying encoding arguments to read and write files with different character encodings.\n",
    "\n",
    "Binary-Mode Files:\n",
    "- A binary file contains raw data in the form of bytes or a compiled version of a text file.\n",
    "- When a file is opened in binary mode by appending 'b' to the mode string (e.g., 'rb' for reading in binary mode), reading its data does not decode it in any way.\n",
    "- Reading from a binary-mode file returns the content as a bytes object, preserving the data in its raw, unchanged form.\n",
    "- Writing to binary-mode files takes bytes data and transfers it to the file without any encoding or decoding.\n",
    "- Binary-mode files can also accept bytearray objects for writing raw data to the file."
   ]
  },
  {
   "cell_type": "markdown",
   "id": "0202a28f",
   "metadata": {},
   "source": [
    "Q5. How can you interpret a Unicode text file containing text encoded in a different encoding than your platform's default?"
   ]
  },
  {
   "cell_type": "markdown",
   "id": "f18ab43d",
   "metadata": {},
   "source": [
    "Ans.\n",
    "We can use the encode() and decode() methods when we have a text file that uses different characters or symbols from what our computer usually understands. These methods automatically assume the text is in a standard format called UTF-8 unless we tell them otherwise. This way, we can read and write text files that use unique characters or symbols."
   ]
  },
  {
   "cell_type": "markdown",
   "id": "2f003c86",
   "metadata": {},
   "source": [
    "Q6. What is the best way to make a Unicode text file in a particular encoding format?"
   ]
  },
  {
   "cell_type": "markdown",
   "id": "32faec9c",
   "metadata": {},
   "source": [
    "Ans.\n",
    "We can use str.encode() and file.write() to make a Unicode text file in a particular encoding format, default encoding format is UTF-18.\n",
    "- Call str.encode(encoding) with encoding set to utf8 to encode str.\n",
    "- Call open(file, mode) to open a file with mode set to wb . wb writes to files in binary mode & preserves UTF-8format.\n",
    "- Call file.write(data) to write data to the file."
   ]
  },
  {
   "cell_type": "markdown",
   "id": "5f144bb5",
   "metadata": {},
   "source": [
    "Q7. What qualifies ASCII text as a form of Unicode text?"
   ]
  },
  {
   "cell_type": "markdown",
   "id": "6bd30714",
   "metadata": {},
   "source": [
    "Ans.\n",
    "ASCII text can be considered a form of Unicode text in the sense that the ASCII character set is a subset of Unicode.\n",
    "The ASCII character set includes characters for lowercase letters (a-z), uppercase letters (A-Z), digits (0-9), and various punctuation and control characters.\n",
    "These ASCII characters are part of the Unicode character set, making them valid Unicode text.\n",
    "\n",
    "Unicode, on the other hand, goes beyond ASCII by representing a much wider range of characters, including characters from various languages (such as English, Arabic, Greek), mathematical symbols, historical scripts, and even emoji. So, in summary, ASCII characters are a subset of Unicode characters, and any text containing only ASCII characters can be considered a form of Unicode text due to their compatibility within the Unicode standard."
   ]
  },
  {
   "cell_type": "markdown",
   "id": "04181386",
   "metadata": {},
   "source": [
    "Q8. How much of an effect does the change in string types in Python 3.X have on your code?"
   ]
  },
  {
   "cell_type": "markdown",
   "id": "272eeb55",
   "metadata": {},
   "source": [
    "Ans.\n",
    "The change in string types in Python 3.X, where strings are stored as Unicode by default, significantly affects the code, especially when transitioning from Python 2. In Python 3.X:\n",
    "\n",
    "- String Literals: String literals are stored as Unicode by default, eliminating the need for the 'u' prefix used in Python 2 to indicate Unicode strings.\n",
    "\n",
    "- Encoding and Decoding: Python 3.X enforces explicit encoding and decoding when working with bytes and strings. This requires modifications to handle character encoding, ensuring that data is properly encoded when writing to files or external systems.\n",
    "\n",
    "- print() Function: In Python 2, the print statement was used for printing, while Python 3.X uses the print() function. This change requires adapting print statements in existing code.\n",
    "\n",
    "- Unicode Support: Python 3.X offers better support for Unicode characters, making it essential to handle text as Unicode throughout the codebase.\n",
    "\n",
    "- str vs. bytes: The distinction between text (str) and binary data (bytes) is crucial. Code should be updated to use 'str' for text and 'bytes' for binary data."
   ]
  },
  {
   "cell_type": "code",
   "execution_count": null,
   "id": "0f565a61",
   "metadata": {},
   "outputs": [],
   "source": []
  }
 ],
 "metadata": {
  "kernelspec": {
   "display_name": "Python 3",
   "language": "python",
   "name": "python3"
  },
  "language_info": {
   "codemirror_mode": {
    "name": "ipython",
    "version": 3
   },
   "file_extension": ".py",
   "mimetype": "text/x-python",
   "name": "python",
   "nbconvert_exporter": "python",
   "pygments_lexer": "ipython3",
   "version": "3.8.8"
  }
 },
 "nbformat": 4,
 "nbformat_minor": 5
}
