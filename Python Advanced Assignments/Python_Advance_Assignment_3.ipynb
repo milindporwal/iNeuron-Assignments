{
 "cells": [
  {
   "cell_type": "markdown",
   "id": "9aa87fd2",
   "metadata": {},
   "source": [
    "1. What is the concept of an abstract superclass?"
   ]
  },
  {
   "cell_type": "markdown",
   "id": "aff24cbe",
   "metadata": {},
   "source": [
    "Ans.\n",
    "- An abstract superclass, which can be considered as a blueprint for other classes, allows us to define a set of methods that must be implemented in any child classes derived from the abstract class. An abstract class is a class that contains one or more abstract methods.\n",
    "\n",
    "- An abstract method is a method that is declared but does not have an implementation in the abstract class. Child classes must provide their own implementations for these abstract methods."
   ]
  },
  {
   "cell_type": "code",
   "execution_count": null,
   "id": "07299c9e",
   "metadata": {},
   "outputs": [],
   "source": [
    "from abc import ABC, abstractmethod\n",
    "\n",
    "class Shape(ABC):\n",
    "    @abstractmethod\n",
    "    def area(self):\n",
    "        pass\n",
    "\n",
    "class Circle(Shape):\n",
    "    def __init__(self, radius):\n",
    "        self.radius = radius\n",
    "\n",
    "    def area(self):\n",
    "        return 3.14 * self.radius * self.radius\n",
    "\n",
    "class Rectangle(Shape):\n",
    "    def __init__(self, length, width):\n",
    "        self.length = length\n",
    "        self.width = width\n",
    "\n",
    "    def area(self):\n",
    "        return self.length * self.width\n",
    "\n",
    "circle = Circle(5)\n",
    "rectangle = Rectangle(4, 6)\n",
    "\n",
    "print(f\"Circle Area: {circle.area()}\")\n",
    "print(f\"Rectangle Area: {rectangle.area()}\")"
   ]
  },
  {
   "cell_type": "markdown",
   "id": "b7b83864",
   "metadata": {},
   "source": [
    "In this example, 'Shape' is an abstract superclass with an abstract method 'area()'. The child classes 'Circle' and 'Rectangle' inherit from 'Shap'e and provide their own implementations of the 'area()' method. When we create instances of the child classes, we can calculate their areas by calling the 'area()' method specific to each shape."
   ]
  },
  {
   "cell_type": "markdown",
   "id": "c3289a1d",
   "metadata": {},
   "source": [
    "2. What happens when a class statement's top level contains a basic assignment statement?"
   ]
  },
  {
   "cell_type": "markdown",
   "id": "3b10911c",
   "metadata": {},
   "source": [
    "Ans.\n",
    "\n",
    "When a class statement's top level contains a basic assignment statement, the following concepts apply:\n",
    "\n",
    "- Class attributes: Basic assignment statements at the top level of a class are usually treated as class attributes or class-level variables. These class attributes are shared among all instances of the class.\n",
    "\n",
    "- Instance attributes: In contrast, assignment statements inside methods, especially within the __init__ method, are treated as instance attributes or local attributes. Each instance object maintains its own copy of these instance variables.\n",
    "\n",
    "- Class attribute example: For instance, consider the code below:"
   ]
  },
  {
   "cell_type": "code",
   "execution_count": null,
   "id": "460ff55c",
   "metadata": {},
   "outputs": [],
   "source": [
    "class Vehicle:\n",
    "    category = 'Transport'  # Class attribute\n",
    "\n",
    "    def __init__(self, make, model):\n",
    "        self.make = make  # Instance attribute\n",
    "        self.model = model  # Instance attribute\n",
    "\n",
    "    def display_info(self):\n",
    "        return f\"This is a {self.make} {self.model} {self.category}.\"\n",
    "\n",
    "# Creating instances of the Vehicle class\n",
    "car = Vehicle(\"Toyota\", \"Camry\")\n",
    "bike = Vehicle(\"Honda\", \"CBR 600\")\n",
    "\n",
    "# Accessing class attribute\n",
    "print(f\"All vehicles belong to the category: {Vehicle.category}\")\n",
    "\n",
    "# Accessing instance attributes\n",
    "print(f\"My car is a {car.make} {car.model}\")\n",
    "print(f\"My bike is a {bike.make} {bike.model}\")"
   ]
  },
  {
   "cell_type": "markdown",
   "id": "286df545",
   "metadata": {},
   "source": [
    "In this example, 'category' is a class attribute shared by all instances of the 'Vehicle' class. Each instance (e.g., 'car' and 'bike') has its own instance attributes, 'make' and 'model', which are specific to that instance. The 'display_info' method allows us to get information about each instance. When we access the class attribute 'category', it is shared across all instances."
   ]
  },
  {
   "cell_type": "markdown",
   "id": "47e581a2",
   "metadata": {},
   "source": [
    "3. Why does a class need to manually call a superclass's __init__ method?"
   ]
  },
  {
   "cell_type": "markdown",
   "id": "a8ea6250",
   "metadata": {},
   "source": [
    "Ans.\n",
    "The reason a class needs to manually call a superclass's '__init__' method is because if a child class has its own '__init__' method, it doesn't automatically inherit the '__init__' method of the parent class. In other words, the '__init__' method of the child class overrides the '__init__' method of the parent class. To ensure that the initialization code from the parent class is executed, we have to manually call the parent superclass's '__init__' method using 'super()'."
   ]
  },
  {
   "cell_type": "code",
   "execution_count": 2,
   "id": "661b5c56",
   "metadata": {},
   "outputs": [
    {
     "name": "stdout",
     "output_type": "stream",
     "text": [
      "Canine\n",
      "Labrador\n"
     ]
    }
   ],
   "source": [
    "#Example:\n",
    "class Animal:\n",
    "    def __init__(self, species):\n",
    "        self.species = species\n",
    "\n",
    "class Dog(Animal):\n",
    "    def __init__(self, species, breed):\n",
    "        super().__init__(species)  # Call the parent class's __init__ method\n",
    "        self.breed = breed\n",
    "\n",
    "my_dog = Dog(\"Canine\", \"Labrador\")\n",
    "print(my_dog.species)  # Output: Canine\n",
    "print(my_dog.breed)  # Output: Labrador"
   ]
  },
  {
   "cell_type": "markdown",
   "id": "56680ffb",
   "metadata": {},
   "source": [
    "In this example, 'Animal' is the parent class with an '__init__' method, and 'Dog' is the child class. By using 'super()', the 'Dog' class ensures that the '__init__' method of the 'Animal' class is executed, allowing it to initialize the 'species' attribute correctly."
   ]
  },
  {
   "cell_type": "markdown",
   "id": "a5d1fff2",
   "metadata": {},
   "source": [
    "4. How can you augment, instead of completely replacing, an inherited method?"
   ]
  },
  {
   "cell_type": "markdown",
   "id": "147effd2",
   "metadata": {},
   "source": [
    "Ans.\n",
    "To augment, instead of completely replacing, an inherited method, we can use the super() method to call the method from the parent class and then add our own modifications. This way, we are extending the behavior of the inherited method while keeping its original functionality intact."
   ]
  },
  {
   "cell_type": "code",
   "execution_count": 4,
   "id": "53ac5292",
   "metadata": {},
   "outputs": [
    {
     "name": "stdout",
     "output_type": "stream",
     "text": [
      "Dog barks and also, Animal speaks\n"
     ]
    }
   ],
   "source": [
    "#Example:\n",
    "class Animal:\n",
    "    def speak(self):\n",
    "        return \"Animal speaks\"\n",
    "\n",
    "class Dog(Animal):\n",
    "    def speak(self):\n",
    "        # Call the speak method of the parent class using super()\n",
    "        animal_sound = super().speak()\n",
    "        return f\"Dog barks and also, {animal_sound}\"\n",
    "\n",
    "dog = Dog()\n",
    "print(dog.speak())"
   ]
  },
  {
   "cell_type": "markdown",
   "id": "e872fcbd",
   "metadata": {},
   "source": [
    "In this example, the 'Dog' class inherits the 'speak' method from the 'Animal' class. Instead of completely replacing the inherited method, we use 'super()' to call the parent class's 'speak' method. This allows us to augment the method's behavior by adding \"Dog barks and also,\" to the sound produced by the animal. The result is that the 'Dog' class both barks and makes the sound of a generic animal."
   ]
  },
  {
   "cell_type": "markdown",
   "id": "490c02f1",
   "metadata": {},
   "source": [
    "5. How is the local scope of a class different from that of a function?"
   ]
  },
  {
   "cell_type": "markdown",
   "id": "d0a0a762",
   "metadata": {},
   "source": [
    "Ans.\n",
    "Differences between the local scope of a function and that of a class:\n",
    "\n",
    "Local Scope in Functions:\n",
    "\n",
    "- A variable defined inside a function is considered local to that function.\n",
    "- It is accessible from the point of its definition until the end of the function.\n",
    "- The variable exists as long as the function is executing.\n",
    "- Attempting to access the variable outside the function's scope will result in a NameError.\n",
    "\n",
    "Local Scope in Classes:\n",
    "\n",
    "- Variables defined inside the body of a class but outside of methods are considered class-level variables or class attributes.\n",
    "- These class-level variables have a local scope within the class itself.\n",
    "- We can reference these variables by their bare names within the class's scope.\n",
    "- These variables can also be accessed from outside the class's scope by using the attribute access operator (dot .) on the class or an instance of the class."
   ]
  },
  {
   "cell_type": "code",
   "execution_count": 6,
   "id": "bcfa824d",
   "metadata": {},
   "outputs": [
    {
     "name": "stdout",
     "output_type": "stream",
     "text": [
      "The 'message' variable is not available outside the greet function scope\n",
      "Dog species: Canis lupus familiaris\n",
      "Buddy is a dog of species: Canis lupus familiaris\n",
      "Buddy says 'Woof!'\n"
     ]
    }
   ],
   "source": [
    "#Example:\n",
    "# Local scope in functions\n",
    "def greet(name):\n",
    "    message = f\"Hello, {name}!\"\n",
    "    print(message)\n",
    "\n",
    "# Attempting to access the 'message' variable outside the function scope will result in a NameError\n",
    "try:\n",
    "    print(message)\n",
    "except NameError:\n",
    "    print(\"The 'message' variable is not available outside the greet function scope\")\n",
    "\n",
    "# Local scope in classes\n",
    "class Dog:\n",
    "    species = \"Canis lupus familiaris\"  # Class-level variable\n",
    "\n",
    "    def __init__(self, name):\n",
    "        self.name = name  # Instance variable\n",
    "\n",
    "    def bark(self):\n",
    "        sound = \"Woof!\"\n",
    "        print(f\"{self.name} says '{sound}'\")\n",
    "\n",
    "# Accessing the class-level variable 'species' using the class name\n",
    "print(f\"Dog species: {Dog.species}\")\n",
    "\n",
    "# Creating an instance of the Dog class\n",
    "buddy = Dog(\"Buddy\")\n",
    "\n",
    "# Accessing the instance variable 'name' and calling the 'bark' method\n",
    "print(f\"{buddy.name} is a dog of species: {buddy.species}\")\n",
    "buddy.bark()"
   ]
  },
  {
   "cell_type": "markdown",
   "id": "99081228",
   "metadata": {},
   "source": [
    "In this example, the 'message' variable inside the 'greet' function has a local scope within the function.\n",
    "\n",
    "Attempting to access it outside the function scope results in a 'NameError'.\n",
    "\n",
    "On the other hand, the 'species' variable in the 'Dog' class is a class-level variable and can be accessed using both the class name and instances of the class.\n",
    "\n",
    "The 'name' variable is an instance variable, and it's specific to each instance of the 'Dog' class."
   ]
  },
  {
   "cell_type": "code",
   "execution_count": null,
   "id": "3713a415",
   "metadata": {},
   "outputs": [],
   "source": []
  }
 ],
 "metadata": {
  "kernelspec": {
   "display_name": "Python 3",
   "language": "python",
   "name": "python3"
  },
  "language_info": {
   "codemirror_mode": {
    "name": "ipython",
    "version": 3
   },
   "file_extension": ".py",
   "mimetype": "text/x-python",
   "name": "python",
   "nbconvert_exporter": "python",
   "pygments_lexer": "ipython3",
   "version": "3.8.8"
  }
 },
 "nbformat": 4,
 "nbformat_minor": 5
}
