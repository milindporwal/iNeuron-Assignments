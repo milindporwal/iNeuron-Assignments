{
 "cells": [
  {
   "cell_type": "markdown",
   "id": "4202939f",
   "metadata": {},
   "source": [
    "Q1. Does assigning a value to a string's indexed character violate Python's string immutability?"
   ]
  },
  {
   "cell_type": "markdown",
   "id": "b82d91c7",
   "metadata": {},
   "source": [
    "Ans.\n",
    "No, we cannot assign a new value to a string's indexed character because strings are immutable."
   ]
  },
  {
   "cell_type": "markdown",
   "id": "caec8183",
   "metadata": {},
   "source": [
    "Q2. Does using the += operator to concatenate strings violate Python's string immutability? Why or why not?"
   ]
  },
  {
   "cell_type": "markdown",
   "id": "dfb2a6ea",
   "metadata": {},
   "source": [
    "Ans.\n",
    "Using += operator to concatenate strings does not violate Python's string immutability because doing so new creates a new association with data and variable."
   ]
  },
  {
   "cell_type": "markdown",
   "id": "50139457",
   "metadata": {},
   "source": [
    "Q3. In Python, how many different ways are there to index a character?"
   ]
  },
  {
   "cell_type": "markdown",
   "id": "83d5a937",
   "metadata": {},
   "source": [
    "Ans.\n",
    "In Python, there are two ways to index a character\n",
    "- Positive indexing - Starts from zero and left to right\n",
    "- Negative indexing - Starts from right to left"
   ]
  },
  {
   "cell_type": "code",
   "execution_count": 2,
   "id": "e7dc1d8b",
   "metadata": {},
   "outputs": [
    {
     "data": {
      "text/plain": [
       "'e'"
      ]
     },
     "execution_count": 2,
     "metadata": {},
     "output_type": "execute_result"
    }
   ],
   "source": [
    "#Example:\n",
    "i = 'hello world'\n",
    "i[1]"
   ]
  },
  {
   "cell_type": "code",
   "execution_count": 3,
   "id": "186f3042",
   "metadata": {},
   "outputs": [
    {
     "data": {
      "text/plain": [
       "'d'"
      ]
     },
     "execution_count": 3,
     "metadata": {},
     "output_type": "execute_result"
    }
   ],
   "source": [
    "i[-1]"
   ]
  },
  {
   "cell_type": "markdown",
   "id": "088daab5",
   "metadata": {},
   "source": [
    "Q4. What is the relationship between indexing and slicing?"
   ]
  },
  {
   "cell_type": "markdown",
   "id": "1bca04fb",
   "metadata": {},
   "source": [
    "Ans.\n",
    "Indexing and slicing are both ways to access elements in sequence data types like strings, lists, and tuples in Python. They are related but serve different purposes:\n",
    "\n",
    "Indexing:\n",
    "\n",
    "- Indexing is used to access a single element in a sequence.\n",
    "- It involves specifying the position (index) of the element we want to retrieve.\n",
    "- The index is an integer that starts at 0 for the first element.\n",
    "- Indexing is done using square brackets, e.g., my_list[0] accesses the first element of the list.\n",
    "\n",
    "Slicing:\n",
    "\n",
    "- Slicing is used to access a range or subsequence of elements in a sequence.\n",
    "- It involves specifying a start and end index to define the slice's boundaries.\n",
    "- Slicing returns a new sequence that includes all elements from the start index up to, but not including, the end index.\n",
    "- Slicing is done using square brackets with a colon, e.g., my_list[1:4] returns a new list containing elements at indices 1, 2, and 3."
   ]
  },
  {
   "cell_type": "code",
   "execution_count": 2,
   "id": "507591cd",
   "metadata": {},
   "outputs": [
    {
     "name": "stdout",
     "output_type": "stream",
     "text": [
      "l i  \n",
      "orld is b\n"
     ]
    }
   ],
   "source": [
    "#Example\n",
    "s = \"World is beautiful\"\n",
    "print(s[3],s[6],s[8]) # Indexing\n",
    "print(s[1:10]) # Slicing"
   ]
  },
  {
   "cell_type": "markdown",
   "id": "9ad7ae9c",
   "metadata": {},
   "source": [
    "Q5. What is an indexed character's exact data type? What is the data form of a slicing-generated substring?"
   ]
  },
  {
   "cell_type": "markdown",
   "id": "38d51d12",
   "metadata": {},
   "source": [
    "Ans.\n",
    "Indexed characters and slicing generated substrings have string datatype."
   ]
  },
  {
   "cell_type": "code",
   "execution_count": 3,
   "id": "470fc388",
   "metadata": {},
   "outputs": [
    {
     "name": "stdout",
     "output_type": "stream",
     "text": [
      "<class 'str'>\n",
      "<class 'str'>\n"
     ]
    }
   ],
   "source": [
    "#Example\n",
    "s = \"World is beautiful\"\n",
    "print(type(s[6]))\n",
    "print(type(s[1:8]))"
   ]
  },
  {
   "cell_type": "markdown",
   "id": "060dbba7",
   "metadata": {},
   "source": [
    "Q6. What is the relationship between string and character \"types\" in Python?"
   ]
  },
  {
   "cell_type": "markdown",
   "id": "b138a7d3",
   "metadata": {},
   "source": [
    "Ans.\n",
    "In Python, strings are sequences of characters. Characters themselves are not distinct data types in Python; rather, they are represented as strings containing just one character. This means that a character is essentially a string with a length of 1."
   ]
  },
  {
   "cell_type": "markdown",
   "id": "9ce1820c",
   "metadata": {},
   "source": [
    "Q7. Identify at least two operators and one method that allow you to combine one or more smaller strings to create a larger string."
   ]
  },
  {
   "cell_type": "markdown",
   "id": "8875e103",
   "metadata": {},
   "source": [
    "Ans.\n",
    "- +, += and * allow us to combine one or more smaller strings to create a larger string. \n",
    "- join() method joins elements of iterable type like list and tuple to get a combined string."
   ]
  },
  {
   "cell_type": "markdown",
   "id": "c6c956c3",
   "metadata": {},
   "source": [
    "Q8. What is the benefit of first checking the target string with in or not in before using the index method to find a substring?"
   ]
  },
  {
   "cell_type": "markdown",
   "id": "e95e82b0",
   "metadata": {},
   "source": [
    "Ans.\n",
    "The benefit of first checking the target string with the 'in' or 'not in' operators before using the index method to find a substring is to confirm the availability of the substring and avoid raising a ValueError."
   ]
  },
  {
   "cell_type": "markdown",
   "id": "d1d7e608",
   "metadata": {},
   "source": [
    "Q9. Which operators and built-in string methods produce simple Boolean (true/false) results?"
   ]
  },
  {
   "cell_type": "markdown",
   "id": "72bb28ad",
   "metadata": {},
   "source": [
    "Ans.\n",
    "The operators and built-in string methods which produce simple Boolean (true/false) results are:\n",
    "\n",
    "in\n",
    "\n",
    "not\n",
    "\n",
    "isalpha()\n",
    "\n",
    "isalnum()\n",
    "\n",
    "isdecimal()\n",
    "\n",
    "isdigit()\n",
    "\n",
    "isnumeric()\n",
    "\n",
    "isprintable()\n",
    "\n",
    "isspace()"
   ]
  },
  {
   "cell_type": "code",
   "execution_count": null,
   "id": "8466f401",
   "metadata": {},
   "outputs": [],
   "source": []
  }
 ],
 "metadata": {
  "kernelspec": {
   "display_name": "Python 3",
   "language": "python",
   "name": "python3"
  },
  "language_info": {
   "codemirror_mode": {
    "name": "ipython",
    "version": 3
   },
   "file_extension": ".py",
   "mimetype": "text/x-python",
   "name": "python",
   "nbconvert_exporter": "python",
   "pygments_lexer": "ipython3",
   "version": "3.8.8"
  }
 },
 "nbformat": 4,
 "nbformat_minor": 5
}
