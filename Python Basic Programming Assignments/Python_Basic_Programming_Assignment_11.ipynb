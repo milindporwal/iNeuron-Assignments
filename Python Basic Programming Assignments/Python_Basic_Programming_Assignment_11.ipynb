{
 "cells": [
  {
   "cell_type": "markdown",
   "id": "8e323fda",
   "metadata": {},
   "source": [
    "1. Write a Python program to find words which are greater than given length k?"
   ]
  },
  {
   "cell_type": "code",
   "execution_count": 2,
   "id": "7a3cee3c",
   "metadata": {},
   "outputs": [
    {
     "name": "stdout",
     "output_type": "stream",
     "text": [
      "Enter the text: Artificial intelligence and blockchain will dominate.\n",
      "Enter the required length: 4\n",
      "Artificial,intelligence,blockchain,dominate.\n"
     ]
    }
   ],
   "source": [
    "#Ans.\n",
    "def findLongWords():\n",
    "    input_text = input(\"Enter the text: \")\n",
    "    required_length = int(input('Enter the required length: '))\n",
    "    long_words = []\n",
    "    for word in input_text.split(\" \"):\n",
    "        if len(word) > required_length:\n",
    "            long_words.append(word)\n",
    "    print(','.join(long_words))\n",
    "\n",
    "findLongWords()"
   ]
  },
  {
   "cell_type": "markdown",
   "id": "4f36354b",
   "metadata": {},
   "source": [
    "2. Write a Python program for removing i-th character from a string?"
   ]
  },
  {
   "cell_type": "code",
   "execution_count": 4,
   "id": "a1894a84",
   "metadata": {},
   "outputs": [
    {
     "name": "stdout",
     "output_type": "stream",
     "text": [
      "Enter a string: Australia\n",
      "Enter the index of the character to remove: 3\n",
      "Result: Ausralia\n"
     ]
    }
   ],
   "source": [
    "#Ans.\n",
    "def remove_ith_character(input_string, i):\n",
    "    if 0 <= i < len(input_string):\n",
    "        result = input_string[:i] + input_string[i+1:]\n",
    "        return result\n",
    "    else:\n",
    "        return \"Index out of range\"\n",
    "\n",
    "input_string = input(\"Enter a string: \")\n",
    "i = int(input(\"Enter the index of the character to remove: \"))\n",
    "\n",
    "modified_string = remove_ith_character(input_string, i)\n",
    "print(\"Result:\", modified_string)"
   ]
  },
  {
   "cell_type": "markdown",
   "id": "4999ae93",
   "metadata": {},
   "source": [
    "3. Write a Python program to split and join a string?"
   ]
  },
  {
   "cell_type": "code",
   "execution_count": 7,
   "id": "846cfdb6",
   "metadata": {},
   "outputs": [
    {
     "name": "stdout",
     "output_type": "stream",
     "text": [
      "Enter a string: New Delhi is the capital of India\n",
      "Split String: ['New', 'Delhi', 'is', 'the', 'capital', 'of', 'India']\n",
      "Join String: New Delhi is the capital of India\n"
     ]
    }
   ],
   "source": [
    "#Ans.\n",
    "def process_string():\n",
    "    user_input = input('Enter a string: ')\n",
    "    split_result = user_input.split(' ')\n",
    "    join_result = ' '.join(split_result)\n",
    "\n",
    "    print(f\"Split String: {split_result}\")\n",
    "    print(f\"Join String: {join_result}\")\n",
    "\n",
    "process_string()"
   ]
  },
  {
   "cell_type": "markdown",
   "id": "ca03d72f",
   "metadata": {},
   "source": [
    "4. Write a Python to check if a given string is binary string or not?"
   ]
  },
  {
   "cell_type": "code",
   "execution_count": 1,
   "id": "af64a9c1",
   "metadata": {},
   "outputs": [
    {
     "name": "stdout",
     "output_type": "stream",
     "text": [
      "101010 is a binary string\n",
      "12345 is not a binary string\n"
     ]
    }
   ],
   "source": [
    "#Ans.\n",
    "def is_binary(input_str):\n",
    "    is_binary_string = 1\n",
    "    for char in input_str:\n",
    "        if char not in ['0', '1']:\n",
    "            is_binary_string = 0\n",
    "            break\n",
    "    status = 'is a binary string' if is_binary_string == 1 else 'is not a binary string'\n",
    "    print(f'{input_str} {status}')\n",
    "\n",
    "is_binary(\"101010\")\n",
    "is_binary(\"12345\")"
   ]
  },
  {
   "cell_type": "markdown",
   "id": "190a466e",
   "metadata": {},
   "source": [
    "5. Write a Python program to find uncommon words from two Strings?"
   ]
  },
  {
   "cell_type": "code",
   "execution_count": 4,
   "id": "3dfdae32",
   "metadata": {},
   "outputs": [
    {
     "name": "stdout",
     "output_type": "stream",
     "text": [
      "Enter the first string: Hello , how are you doing ?\n",
      "Enter the second string: Hello , how do you do ?\n",
      "{'do', 'doing', 'are'}\n"
     ]
    }
   ],
   "source": [
    "#Ans.\n",
    "def find_uncommon_words():\n",
    "    input_str_1 = set(input(\"Enter the first string: \").split(' '))\n",
    "    input_str_2 = set(input(\"Enter the second string: \").split(' '))\n",
    "    uncommon_words = (input_str_1.union(input_str_2)).difference(input_str_1.intersection(input_str_2))\n",
    "    print(uncommon_words)\n",
    "\n",
    "find_uncommon_words()"
   ]
  },
  {
   "cell_type": "markdown",
   "id": "ef1b11a2",
   "metadata": {},
   "source": [
    "6. Write a Python to find all duplicate characters in string?"
   ]
  },
  {
   "cell_type": "code",
   "execution_count": 5,
   "id": "eb597761",
   "metadata": {},
   "outputs": [
    {
     "name": "stdout",
     "output_type": "stream",
     "text": [
      "Enter the string: New Delhi is the capital of India.\n",
      "Duplicate characters are: ['h', 'i', ' ', 't', 'e', 'l', 'a']\n"
     ]
    }
   ],
   "source": [
    "#Ans.\n",
    "def find_duplicate_chars():\n",
    "    input_string = input('Enter the string: ')\n",
    "    non_duplicate_chars = []\n",
    "    duplicate_chars = []\n",
    "    for char in input_string:\n",
    "        if char not in non_duplicate_chars:\n",
    "            non_duplicate_chars.append(char)\n",
    "        else:\n",
    "            duplicate_chars.append(char)\n",
    "    print(f'Duplicate characters are: {list(set(duplicate_chars))}')\n",
    "\n",
    "find_duplicate_chars()"
   ]
  },
  {
   "cell_type": "markdown",
   "id": "1e91a22a",
   "metadata": {},
   "source": [
    "7. Write a Python Program to check if a string contains any special character?"
   ]
  },
  {
   "cell_type": "code",
   "execution_count": 6,
   "id": "7f2880b8",
   "metadata": {},
   "outputs": [
    {
     "name": "stdout",
     "output_type": "stream",
     "text": [
      "Enter the string: Hello !! Iam glad to meet you (my friend) :\n",
      "There are 5 special characters in \"Hello !! Iam glad to meet you (my friend) :\" which are ['!', '!', '(', ')', ':']\n"
     ]
    }
   ],
   "source": [
    "#Ans.\n",
    "def count_special_characters():\n",
    "    special_chars = '[@_!#$%^&*()<>?/\\|}{~:]'\n",
    "    input_string = input('Enter the string: ')\n",
    "    char_count = 0\n",
    "    special_char_list = []\n",
    "    for char in input_string:\n",
    "        if char in special_chars:\n",
    "            special_char_list.append(char)\n",
    "            char_count += 1\n",
    "    print(f'There are {char_count} special characters in \"{input_string}\" which are {special_char_list}')\n",
    "\n",
    "count_special_characters()"
   ]
  },
  {
   "cell_type": "code",
   "execution_count": null,
   "id": "667df9b9",
   "metadata": {},
   "outputs": [],
   "source": []
  }
 ],
 "metadata": {
  "kernelspec": {
   "display_name": "Python 3",
   "language": "python",
   "name": "python3"
  },
  "language_info": {
   "codemirror_mode": {
    "name": "ipython",
    "version": 3
   },
   "file_extension": ".py",
   "mimetype": "text/x-python",
   "name": "python",
   "nbconvert_exporter": "python",
   "pygments_lexer": "ipython3",
   "version": "3.8.8"
  }
 },
 "nbformat": 4,
 "nbformat_minor": 5
}
