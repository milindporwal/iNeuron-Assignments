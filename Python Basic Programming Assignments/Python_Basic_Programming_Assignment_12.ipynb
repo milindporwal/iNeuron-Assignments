{
 "cells": [
  {
   "cell_type": "markdown",
   "id": "7ac86c02",
   "metadata": {},
   "source": [
    "1. Write a Python program to Extract Unique values dictionary values?"
   ]
  },
  {
   "cell_type": "code",
   "execution_count": 2,
   "id": "cc51b664",
   "metadata": {},
   "outputs": [
    {
     "name": "stdout",
     "output_type": "stream",
     "text": [
      "Original values in dictionary: ['New Delhi', 'Kolkata', 'Chennai', 'New Delhi', 'Mumbai']\n",
      "Unique values in dictionary: {'New Delhi', 'Mumbai', 'Kolkata', 'Chennai'}\n"
     ]
    }
   ],
   "source": [
    "#Ans.\n",
    "def extract_dictionary_values(input_list):\n",
    "    all_values = []\n",
    "    for dictionary in input_list:\n",
    "        for value in dictionary.values():\n",
    "            all_values.append(value)\n",
    "    return all_values\n",
    "\n",
    "def find_unique_values(values):\n",
    "    unique_values = set(values)\n",
    "    return unique_values\n",
    "\n",
    "# Example usage\n",
    "sample_list = [{1: \"New Delhi\", 2: \"Kolkata\"}, {1: \"Chennai\", 2: \"New Delhi\"}, {1: \"Mumbai\"}]\n",
    "original_values = extract_dictionary_values(sample_list)\n",
    "unique_values = find_unique_values(original_values)\n",
    "\n",
    "print(\"Original values in dictionary:\", original_values)\n",
    "print(\"Unique values in dictionary:\", unique_values)"
   ]
  },
  {
   "cell_type": "markdown",
   "id": "f739d696",
   "metadata": {},
   "source": [
    "2. Write a Python program to find the sum of all items in a dictionary?"
   ]
  },
  {
   "cell_type": "code",
   "execution_count": 7,
   "id": "6ca6cb43",
   "metadata": {},
   "outputs": [
    {
     "name": "stdout",
     "output_type": "stream",
     "text": [
      "49\n"
     ]
    }
   ],
   "source": [
    "#Ans.\n",
    "def calculate_sum_of_integers(data_list):\n",
    "    total_sum = 0\n",
    "    for item in data_list:\n",
    "        if isinstance(item, dict):\n",
    "            for key, value in item.items():\n",
    "                if isinstance(key, int):\n",
    "                    total_sum += key\n",
    "                if isinstance(value, int):\n",
    "                    total_sum += value\n",
    "    return total_sum\n",
    "\n",
    "# Example usage\n",
    "data = [[2,5,7,8], (3,4,7,8,9), (4,6,7,8,9), set([56, 14, 51, 65, 78, 4, 5, 45, 45, 4, 5]),\n",
    "        {'k1': \"New Delhi\", \"k2\": \"Mumbai\", \"k3\": \"Chennai\", 6: 8, 16: 19}, [\"New Delhi\", \"Kolkata\"]]\n",
    "\n",
    "result = calculate_sum_of_integers(data)\n",
    "print(result)"
   ]
  },
  {
   "cell_type": "markdown",
   "id": "f999ff27",
   "metadata": {},
   "source": [
    "3. Write a Python program to Merging two Dictionaries?"
   ]
  },
  {
   "cell_type": "code",
   "execution_count": 9,
   "id": "b9ad819d",
   "metadata": {},
   "outputs": [
    {
     "name": "stdout",
     "output_type": "stream",
     "text": [
      "{'New Delhi': 5, 'Mumbai': 7, 'Chennai': 9, 'Pune': 2, 'Bangalore': 6, 'Gurgaon': 8}\n"
     ]
    }
   ],
   "source": [
    "#Ans.\n",
    "def merge_dicts(dict1, dict2):\n",
    "    merged_dict = dict1.copy()\n",
    "    merged_dict.update(dict2)\n",
    "    return merged_dict\n",
    "\n",
    "cities1 = {\"New Delhi\": 5, \"Mumbai\": 7, \"Chennai\": 9}\n",
    "cities2 = {\"Pune\": 2, \"Bangalore\": 6, \"Gurgaon\": 8}\n",
    "\n",
    "result = merge_dicts(cities1, cities2)\n",
    "print(result)"
   ]
  },
  {
   "cell_type": "markdown",
   "id": "aeeb43ea",
   "metadata": {},
   "source": [
    "4. Write a Python program to convert key-values list to flat dictionary?"
   ]
  },
  {
   "cell_type": "code",
   "execution_count": 10,
   "id": "da7f1224",
   "metadata": {},
   "outputs": [
    {
     "name": "stdout",
     "output_type": "stream",
     "text": [
      "{'k': 6, 'o': [5, 8, 9], 'm_a': 5, 'm_b_x': 58, 'm_b_y': 18}\n"
     ]
    }
   ],
   "source": [
    "#Ans.\n",
    "import pandas as pd\n",
    "\n",
    "def flatten_json(json_data, separator='_'):\n",
    "    flattened_df = pd.json_normalize(json_data, sep=separator)\n",
    "    return flattened_df.to_dict(orient='records')[0]\n",
    "\n",
    "data = {'k': 6,\n",
    "        'm': {'a': 5, 'b': {'x': 58, 'y': 18}},\n",
    "        'o': [5, 8, 9]}\n",
    "\n",
    "flattened_dict = flatten_json(data)\n",
    "print(flattened_dict)"
   ]
  },
  {
   "cell_type": "markdown",
   "id": "43490afc",
   "metadata": {},
   "source": [
    "5. Write a Python program to insertion at the beginning in OrderedDict?"
   ]
  },
  {
   "cell_type": "code",
   "execution_count": 11,
   "id": "2924569a",
   "metadata": {},
   "outputs": [
    {
     "name": "stdout",
     "output_type": "stream",
     "text": [
      "Initial Ordered Dictionary: OrderedDict([('red', 3), ('green', 2), ('yellow', 4)])\n",
      "Resultant Ordered Dictionary: OrderedDict([('blue', 4), ('red', 3), ('green', 2), ('yellow', 4)])\n"
     ]
    }
   ],
   "source": [
    "#Ans.\n",
    "from collections import OrderedDict\n",
    "\n",
    "def modify_ordered_dict(colour_dict):\n",
    "    ordered_dict = OrderedDict(colour_dict)\n",
    "    print(\"Initial Ordered Dictionary:\", ordered_dict)\n",
    "    \n",
    "    # Inserting items at the beginning of the dictionary\n",
    "    ordered_dict.update({\"blue\": 4})\n",
    "    ordered_dict.move_to_end('blue', last=False)\n",
    "\n",
    "    return ordered_dict\n",
    "\n",
    "colours = {\"red\": 3, \"green\": 2, \"yellow\": 4}\n",
    "resultant_dict = modify_ordered_dict(colours)\n",
    "\n",
    "print(\"Resultant Ordered Dictionary:\", resultant_dict)"
   ]
  },
  {
   "cell_type": "markdown",
   "id": "c3d76447",
   "metadata": {},
   "source": [
    "6. Write a Python program to check order of character in string using OrderedDict()?"
   ]
  },
  {
   "cell_type": "code",
   "execution_count": 12,
   "id": "92fcc721",
   "metadata": {},
   "outputs": [
    {
     "name": "stdout",
     "output_type": "stream",
     "text": [
      "Is the order of characters present in the input? false\n"
     ]
    }
   ],
   "source": [
    "#Ans.\n",
    "from collections import OrderedDict\n",
    "\n",
    "def checkCharacterOrder(input_str, pattern_str):\n",
    "    char_dict = OrderedDict.fromkeys(input_str)\n",
    "\n",
    "    ptr_len = 0\n",
    "    for key in char_dict.keys():\n",
    "        if key == pattern_str[ptr_len]:\n",
    "            ptr_len += 1\n",
    "\n",
    "        if ptr_len == len(pattern_str):\n",
    "            return 'true'\n",
    "\n",
    "    return 'false'\n",
    "\n",
    "input_string = 'python is great'\n",
    "pattern_string = 'ron'\n",
    "print(\"Is the order of characters present in the input?\", checkCharacterOrder(input_string, pattern_string))"
   ]
  },
  {
   "cell_type": "markdown",
   "id": "13eb69be",
   "metadata": {},
   "source": [
    "7. Write a Python program to sort Python Dictionaries by Key or Value?"
   ]
  },
  {
   "cell_type": "code",
   "execution_count": 13,
   "id": "5ec4a86c",
   "metadata": {},
   "outputs": [
    {
     "name": "stdout",
     "output_type": "stream",
     "text": [
      "7 10 15 23 "
     ]
    }
   ],
   "source": [
    "#Ans.\n",
    "def printSortedKeys(input_dict):\n",
    "    for key in sorted(input_dict.keys()):\n",
    "        print(key, end=' ')\n",
    "\n",
    "my_dict = {15: 'New Delhi', 7: 'Mumbai', 23: 'Kolkata', 10: 'Chennai'}\n",
    "printSortedKeys(my_dict)"
   ]
  },
  {
   "cell_type": "code",
   "execution_count": null,
   "id": "44b97027",
   "metadata": {},
   "outputs": [],
   "source": []
  }
 ],
 "metadata": {
  "kernelspec": {
   "display_name": "Python 3",
   "language": "python",
   "name": "python3"
  },
  "language_info": {
   "codemirror_mode": {
    "name": "ipython",
    "version": 3
   },
   "file_extension": ".py",
   "mimetype": "text/x-python",
   "name": "python",
   "nbconvert_exporter": "python",
   "pygments_lexer": "ipython3",
   "version": "3.8.8"
  }
 },
 "nbformat": 4,
 "nbformat_minor": 5
}
