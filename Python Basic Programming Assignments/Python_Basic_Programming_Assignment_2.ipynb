{
 "cells": [
  {
   "cell_type": "markdown",
   "id": "852d0275",
   "metadata": {},
   "source": [
    "1.\tWrite a Python program to convert kilometers to miles?"
   ]
  },
  {
   "cell_type": "code",
   "execution_count": 1,
   "id": "300fff0a",
   "metadata": {},
   "outputs": [
    {
     "name": "stdout",
     "output_type": "stream",
     "text": [
      "Enter number of Kilometers : 8\n",
      "8 Kilometers is equals to 4.9709696 Miles.\n"
     ]
    }
   ],
   "source": [
    "#Ans.\n",
    "km = int(input(\"Enter number of Kilometers : \")) \n",
    "\n",
    "# 1 Km = 0.6213712 miles\n",
    "\n",
    "miles = km * 0.6213712\n",
    "\n",
    "print(f\"{km} Kilometers is equals to {miles} Miles.\")"
   ]
  },
  {
   "cell_type": "markdown",
   "id": "b258e4ae",
   "metadata": {},
   "source": [
    "2.\tWrite a Python program to convert Celsius to Fahrenheit?"
   ]
  },
  {
   "cell_type": "code",
   "execution_count": 1,
   "id": "9ee7d3f4",
   "metadata": {},
   "outputs": [
    {
     "name": "stdout",
     "output_type": "stream",
     "text": [
      "Enter temperature in degree Celsius: 98\n",
      "98.0 degree celsius is equals to 208.4 degree fahrenheit\n"
     ]
    }
   ],
   "source": [
    "#Ans.\n",
    "cel = float(input(\"Enter temperature in degree Celsius: \"))\n",
    "\n",
    "#F = (C × 1.8) + 32\n",
    "\n",
    "fahren = (cel * 1.8) + 32\n",
    "\n",
    "print(f'{cel} degree celsius is equals to {fahren} degree fahrenheit')"
   ]
  },
  {
   "cell_type": "markdown",
   "id": "8d788ee6",
   "metadata": {},
   "source": [
    "3.\tWrite a Python program to display calendar?"
   ]
  },
  {
   "cell_type": "code",
   "execution_count": 2,
   "id": "f54a53bc",
   "metadata": {},
   "outputs": [
    {
     "name": "stdout",
     "output_type": "stream",
     "text": [
      "Enter calender year to be displayed : 2023\n",
      "                                  2023\n",
      "\n",
      "      January                   February                   March\n",
      "Mo Tu We Th Fr Sa Su      Mo Tu We Th Fr Sa Su      Mo Tu We Th Fr Sa Su\n",
      "                   1             1  2  3  4  5             1  2  3  4  5\n",
      " 2  3  4  5  6  7  8       6  7  8  9 10 11 12       6  7  8  9 10 11 12\n",
      " 9 10 11 12 13 14 15      13 14 15 16 17 18 19      13 14 15 16 17 18 19\n",
      "16 17 18 19 20 21 22      20 21 22 23 24 25 26      20 21 22 23 24 25 26\n",
      "23 24 25 26 27 28 29      27 28                     27 28 29 30 31\n",
      "30 31\n",
      "\n",
      "       April                      May                       June\n",
      "Mo Tu We Th Fr Sa Su      Mo Tu We Th Fr Sa Su      Mo Tu We Th Fr Sa Su\n",
      "                1  2       1  2  3  4  5  6  7                1  2  3  4\n",
      " 3  4  5  6  7  8  9       8  9 10 11 12 13 14       5  6  7  8  9 10 11\n",
      "10 11 12 13 14 15 16      15 16 17 18 19 20 21      12 13 14 15 16 17 18\n",
      "17 18 19 20 21 22 23      22 23 24 25 26 27 28      19 20 21 22 23 24 25\n",
      "24 25 26 27 28 29 30      29 30 31                  26 27 28 29 30\n",
      "\n",
      "        July                     August                  September\n",
      "Mo Tu We Th Fr Sa Su      Mo Tu We Th Fr Sa Su      Mo Tu We Th Fr Sa Su\n",
      "                1  2          1  2  3  4  5  6                   1  2  3\n",
      " 3  4  5  6  7  8  9       7  8  9 10 11 12 13       4  5  6  7  8  9 10\n",
      "10 11 12 13 14 15 16      14 15 16 17 18 19 20      11 12 13 14 15 16 17\n",
      "17 18 19 20 21 22 23      21 22 23 24 25 26 27      18 19 20 21 22 23 24\n",
      "24 25 26 27 28 29 30      28 29 30 31               25 26 27 28 29 30\n",
      "31\n",
      "\n",
      "      October                   November                  December\n",
      "Mo Tu We Th Fr Sa Su      Mo Tu We Th Fr Sa Su      Mo Tu We Th Fr Sa Su\n",
      "                   1             1  2  3  4  5                   1  2  3\n",
      " 2  3  4  5  6  7  8       6  7  8  9 10 11 12       4  5  6  7  8  9 10\n",
      " 9 10 11 12 13 14 15      13 14 15 16 17 18 19      11 12 13 14 15 16 17\n",
      "16 17 18 19 20 21 22      20 21 22 23 24 25 26      18 19 20 21 22 23 24\n",
      "23 24 25 26 27 28 29      27 28 29 30               25 26 27 28 29 30 31\n",
      "30 31\n",
      "\n"
     ]
    }
   ],
   "source": [
    "#Ans.\n",
    "import calendar\n",
    "\n",
    "def display_calendar():\n",
    "    year = int(input(\"Enter calender year to be displayed : \"))\n",
    "    print(calendar.calendar(year))\n",
    "    \n",
    "display_calendar()"
   ]
  },
  {
   "cell_type": "markdown",
   "id": "bce2eed3",
   "metadata": {},
   "source": [
    "4.\tWrite a Python program to solve quadratic equation?"
   ]
  },
  {
   "cell_type": "code",
   "execution_count": 3,
   "id": "695bdad8",
   "metadata": {},
   "outputs": [
    {
     "name": "stdout",
     "output_type": "stream",
     "text": [
      "Quadratic equation is represented by : ax^2 + bx^1 + c = 0\n",
      "Enter the coefficient a, b, c\n",
      "Enter the coefficient a: 1\n",
      "Enter the coefficient b: -5\n",
      "Enter the constant c: -14\n",
      "\n",
      "For quadratic equation 1x^2 + (-5)x^1 + -14\n",
      "The roots are: 7.0 and -2.0\n"
     ]
    }
   ],
   "source": [
    "#Ans.\n",
    "import math\n",
    "\n",
    "print(\"Quadratic equation is represented by : ax^2 + bx^1 + c = 0\")\n",
    "print(\"Enter the coefficient a, b, c\")\n",
    "\n",
    "a = int(input((\"Enter the coefficient a: \")))\n",
    "b = int(input((\"Enter the coefficient b: \")))\n",
    "c = int(input((\"Enter the constant c: \")))\n",
    "\n",
    "d = (b**2) - (4*a*c)\n",
    "\n",
    "root1 = ((-1*b)+(math.sqrt(d))) / (2*a)\n",
    "root2 = ((-1*b)-(math.sqrt(d))) / (2*a)\n",
    "\n",
    "print('\\nFor quadratic equation {}x^2 + ({})x^1 + {}'.format(a,b,c))\n",
    "print('The roots are: {} and {}'.format(root1, root2))"
   ]
  },
  {
   "cell_type": "markdown",
   "id": "2576dc5f",
   "metadata": {},
   "source": [
    "5.\tWrite a Python program to swap two variables without temp variable?"
   ]
  },
  {
   "cell_type": "code",
   "execution_count": 5,
   "id": "3c2385ec",
   "metadata": {},
   "outputs": [
    {
     "name": "stdout",
     "output_type": "stream",
     "text": [
      "Enter the value of var_1 : 4\n",
      "Enter the value of var_2 : 7\n",
      "Values of var_1 and var_2 before swapping :\n",
      "var_1 =  4\n",
      "var_2 =  7\n",
      "Values of var_1 and var_2 after swapping:\n",
      "var_1 =  7\n",
      "var_2 =  4\n"
     ]
    }
   ],
   "source": [
    "#Ans.\n",
    "var_1 = int(input(\"Enter the value of var_1 : \"))\n",
    "var_2 = int(input(\"Enter the value of var_2 : \"))\n",
    "\n",
    "print(\"Values of var_1 and var_2 before swapping :\")\n",
    "\n",
    "print(\"var_1 = \", var_1)\n",
    "print(\"var_2 = \", var_2)\n",
    "\n",
    "var_1, var_2 = var_2, var_1\n",
    "\n",
    "print(\"Values of var_1 and var_2 after swapping:\")\n",
    "\n",
    "print(\"var_1 = \", var_1)\n",
    "print(\"var_2 = \", var_2)"
   ]
  },
  {
   "cell_type": "code",
   "execution_count": null,
   "id": "bdc76d6f",
   "metadata": {},
   "outputs": [],
   "source": []
  }
 ],
 "metadata": {
  "kernelspec": {
   "display_name": "Python 3",
   "language": "python",
   "name": "python3"
  },
  "language_info": {
   "codemirror_mode": {
    "name": "ipython",
    "version": 3
   },
   "file_extension": ".py",
   "mimetype": "text/x-python",
   "name": "python",
   "nbconvert_exporter": "python",
   "pygments_lexer": "ipython3",
   "version": "3.8.8"
  }
 },
 "nbformat": 4,
 "nbformat_minor": 5
}
