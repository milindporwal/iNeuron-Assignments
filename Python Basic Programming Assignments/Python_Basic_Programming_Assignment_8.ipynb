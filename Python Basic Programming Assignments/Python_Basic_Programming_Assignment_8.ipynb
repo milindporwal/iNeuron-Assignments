{
 "cells": [
  {
   "cell_type": "markdown",
   "id": "905a5369",
   "metadata": {},
   "source": [
    "1. Write a Python Program to Add Two Matrices?"
   ]
  },
  {
   "cell_type": "code",
   "execution_count": 7,
   "id": "91c95c6a",
   "metadata": {},
   "outputs": [
    {
     "name": "stdout",
     "output_type": "stream",
     "text": [
      "Inputs: [[1, 2, 3], [1, 2, 3], [1, 2, 3]], [[1, 2, 3], [1, 2, 3], [1, 2, 3]]\n",
      "Output: [[2, 4, 6], [2, 4, 6], [2, 4, 6]]\n",
      "Inputs: [[2, 3, 5], [1, 1, 1], [2, 2, 2]], [[4, 3, 5], [1, 2, 3], [3, 2, 1]]\n",
      "Output: [[6, 6, 10], [2, 3, 4], [5, 4, 3]]\n"
     ]
    }
   ],
   "source": [
    "#Ans.\n",
    "def add_matrices(matrix1, matrix2):\n",
    "    print(f'Inputs: {matrix1}, {matrix2}')\n",
    "    if len(matrix1) == len(matrix2):\n",
    "        result_matrix = []\n",
    "        for i in range(len(matrix1)):\n",
    "            if len(matrix1[i]) == len(matrix2[i]):\n",
    "                result_matrix.append([])\n",
    "                for j in range(len(matrix1[i])):\n",
    "                    result_matrix[i].append(matrix1[i][j] + matrix2[i][j])\n",
    "            else:\n",
    "                print('Both matrices must contain the same number of rows and columns') \n",
    "        print(f'Output: {result_matrix}')\n",
    "    else:\n",
    "        print('Both matrices must contain the same number of rows and columns')\n",
    "\n",
    "add_matrices([[1, 2, 3], [1, 2, 3], [1, 2, 3]], [[1, 2, 3], [1, 2, 3], [1, 2, 3]])\n",
    "add_matrices([[2, 3, 5], [1, 1, 1], [2, 2, 2]], [[4, 3, 5], [1, 2, 3], [3, 2, 1]])"
   ]
  },
  {
   "cell_type": "markdown",
   "id": "2b6d214e",
   "metadata": {},
   "source": [
    "2. Write a Python Program to Multiply Two Matrices?"
   ]
  },
  {
   "cell_type": "code",
   "execution_count": 14,
   "id": "c142addc",
   "metadata": {},
   "outputs": [
    {
     "name": "stdout",
     "output_type": "stream",
     "text": [
      "[[30, 36, 42], [66, 81, 96], [102, 126, 150]]\n"
     ]
    }
   ],
   "source": [
    "#Ans.\n",
    "def multiply_matrices(matrix1, matrix2):\n",
    "    output = []\n",
    "    if len(matrix1[0]) == len(matrix2):\n",
    "        for ele in range(len(matrix1[0])):\n",
    "            output.append([0 for ele in range(len(matrix2[0]))])\n",
    "        for i in range(len(matrix1)):\n",
    "            for j in range(len(matrix2[0])):  # Fix the syntax error here\n",
    "                for k in range(len(matrix2)):\n",
    "                    output[i][j] += matrix1[i][k] * matrix2[k][j]\n",
    "        print(output)     \n",
    "    else:\n",
    "        print('Matrix Multiplication is Not Possible')\n",
    "\n",
    "matrix1 = [[1, 2, 3], [4, 5, 6], [7, 8, 9]]\n",
    "matrix2 = [[1, 2, 3], [4, 5, 6], [7, 8, 9]]\n",
    "multiply_matrices(matrix1, matrix2)"
   ]
  },
  {
   "cell_type": "markdown",
   "id": "3aa30f52",
   "metadata": {},
   "source": [
    "3. Write a Python Program to Transpose a Matrix?"
   ]
  },
  {
   "cell_type": "code",
   "execution_count": 15,
   "id": "896649e3",
   "metadata": {},
   "outputs": [
    {
     "name": "stdout",
     "output_type": "stream",
     "text": [
      "[1, 4, 7]\n",
      "[2, 5, 8]\n",
      "[3, 6, 9]\n"
     ]
    }
   ],
   "source": [
    "#Ans.\n",
    "def transpose_matrix(matrix):\n",
    "    rows, cols = len(matrix), len(matrix[0])\n",
    "    transposed = [[0 for _ in range(rows)] for _ in range(cols)]\n",
    "\n",
    "    for i in range(rows):\n",
    "        for j in range(cols):\n",
    "            transposed[j][i] = matrix[i][j]\n",
    "\n",
    "    return transposed\n",
    "\n",
    "original_matrix = [[1, 2, 3], [4, 5, 6], [7, 8, 9]]\n",
    "transposed_matrix = transpose_matrix(original_matrix)\n",
    "\n",
    "for row in transposed_matrix:\n",
    "    print(row)"
   ]
  },
  {
   "cell_type": "markdown",
   "id": "19141936",
   "metadata": {},
   "source": [
    "4. Write a Python Program to Sort Words in Alphabetic Order?"
   ]
  },
  {
   "cell_type": "code",
   "execution_count": 16,
   "id": "7cacef25",
   "metadata": {},
   "outputs": [
    {
     "name": "stdout",
     "output_type": "stream",
     "text": [
      "Enter a string: World is Beautiful\n",
      "Words in alphabetical order:\n",
      "Beautiful\n",
      "World\n",
      "is\n"
     ]
    }
   ],
   "source": [
    "#Ans.\n",
    "\n",
    "input_string = input(\"Enter a string: \")\n",
    "\n",
    "words = input_string.split()\n",
    "\n",
    "sorted_words = sorted(words)\n",
    "\n",
    "print(\"Words in alphabetical order:\")\n",
    "for word in sorted_words:\n",
    "    print(word)"
   ]
  },
  {
   "cell_type": "markdown",
   "id": "2460b315",
   "metadata": {},
   "source": [
    "5. Write a Python Program to Remove Punctuation From a String?"
   ]
  },
  {
   "cell_type": "code",
   "execution_count": 17,
   "id": "5c6b0140",
   "metadata": {},
   "outputs": [
    {
     "name": "stdout",
     "output_type": "stream",
     "text": [
      "Enter a string: Hello !! How are you doing? I thought you were in the park, weren't you?\n",
      "String without punctuation:\n",
      "Hello  How are you doing I thought you were in the park werent you\n"
     ]
    }
   ],
   "source": [
    "#Ans.\n",
    "import string\n",
    "\n",
    "input_string = input(\"Enter a string: \")\n",
    "\n",
    "translator = str.maketrans('', '', string.punctuation)\n",
    "\n",
    "clean_string = input_string.translate(translator)\n",
    "\n",
    "print(\"String without punctuation:\")\n",
    "print(clean_string)"
   ]
  },
  {
   "cell_type": "code",
   "execution_count": null,
   "id": "5dcf56d1",
   "metadata": {},
   "outputs": [],
   "source": []
  }
 ],
 "metadata": {
  "kernelspec": {
   "display_name": "Python 3",
   "language": "python",
   "name": "python3"
  },
  "language_info": {
   "codemirror_mode": {
    "name": "ipython",
    "version": 3
   },
   "file_extension": ".py",
   "mimetype": "text/x-python",
   "name": "python",
   "nbconvert_exporter": "python",
   "pygments_lexer": "ipython3",
   "version": "3.8.8"
  }
 },
 "nbformat": 4,
 "nbformat_minor": 5
}
