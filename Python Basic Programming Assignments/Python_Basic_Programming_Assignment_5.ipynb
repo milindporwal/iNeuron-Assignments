{
 "cells": [
  {
   "cell_type": "markdown",
   "id": "b1fc0e91",
   "metadata": {},
   "source": [
    "1.\tWrite a Python Program to Find LCM?"
   ]
  },
  {
   "cell_type": "code",
   "execution_count": 1,
   "id": "68567df9",
   "metadata": {},
   "outputs": [],
   "source": [
    "#Ans.\n",
    "def lcm(a,b):\n",
    "    \n",
    "    # LCM of two numbers\n",
    "    \n",
    "    greater = a if a > b else b\n",
    "    \n",
    "    while True:\n",
    "        if (greater%a==0) and (greater%b==0):\n",
    "            break\n",
    "        else:\n",
    "            greater = greater + 1\n",
    "            \n",
    "    return greater"
   ]
  },
  {
   "cell_type": "code",
   "execution_count": 2,
   "id": "6250f3c6",
   "metadata": {},
   "outputs": [
    {
     "data": {
      "text/plain": [
       "102"
      ]
     },
     "execution_count": 2,
     "metadata": {},
     "output_type": "execute_result"
    }
   ],
   "source": [
    "a=6\n",
    "b=17\n",
    "lcm(a,b)"
   ]
  },
  {
   "cell_type": "markdown",
   "id": "ff42efdb",
   "metadata": {},
   "source": [
    "2.\tWrite a Python Program to Find HCF?"
   ]
  },
  {
   "cell_type": "code",
   "execution_count": 3,
   "id": "a77012e3",
   "metadata": {},
   "outputs": [],
   "source": [
    "#Ans.\n",
    "def hcf(a, b):\n",
    "    #hcf of two numbers\n",
    "    lower = a if a < b else b\n",
    "    \n",
    "    for i in range(1, lower+1):\n",
    "        if (a%i==0) and (b%i==0):\n",
    "            hcf = i\n",
    "            \n",
    "    return hcf"
   ]
  },
  {
   "cell_type": "code",
   "execution_count": 4,
   "id": "c52b06d7",
   "metadata": {},
   "outputs": [
    {
     "data": {
      "text/plain": [
       "25"
      ]
     },
     "execution_count": 4,
     "metadata": {},
     "output_type": "execute_result"
    }
   ],
   "source": [
    "a=25\n",
    "b=50\n",
    "hcf(a,b)"
   ]
  },
  {
   "cell_type": "markdown",
   "id": "b9003a50",
   "metadata": {},
   "source": [
    "3.\tWrite a Python Program to Convert Decimal to Binary, Octal and Hexadecimal?"
   ]
  },
  {
   "cell_type": "code",
   "execution_count": 5,
   "id": "fbbbe755",
   "metadata": {},
   "outputs": [],
   "source": [
    "#Ans.\n",
    "def convert(num):\n",
    "    print(\"Binary:      \", bin(num))\n",
    "    print(\"Octal:       \", oct(num))\n",
    "    print(\"Hexadecimal: \", hex(num))"
   ]
  },
  {
   "cell_type": "code",
   "execution_count": 10,
   "id": "ad91ce94",
   "metadata": {},
   "outputs": [
    {
     "name": "stdout",
     "output_type": "stream",
     "text": [
      "Binary:       0b1010\n",
      "Octal:        0o12\n",
      "Hexadecimal:  0xa\n"
     ]
    }
   ],
   "source": [
    "convert(10)"
   ]
  },
  {
   "cell_type": "code",
   "execution_count": 13,
   "id": "1036bd17",
   "metadata": {},
   "outputs": [
    {
     "name": "stdout",
     "output_type": "stream",
     "text": [
      "Binary:       0b110000001\n",
      "Octal:        0o601\n",
      "Hexadecimal:  0x181\n"
     ]
    }
   ],
   "source": [
    "convert(385)"
   ]
  },
  {
   "cell_type": "markdown",
   "id": "b0f2ff7d",
   "metadata": {},
   "source": [
    "4.\tWrite a Python Program To Find ASCII value of a character?"
   ]
  },
  {
   "cell_type": "code",
   "execution_count": 16,
   "id": "34337716",
   "metadata": {},
   "outputs": [
    {
     "name": "stdout",
     "output_type": "stream",
     "text": [
      "Enter a Character : r\n",
      "ASCII value of r is 114\n"
     ]
    }
   ],
   "source": [
    "#Ans.\n",
    "def ascii_value():\n",
    "    char = input('Enter a Character : ')\n",
    "    if len(char) > 1:\n",
    "        print('Please Enter Single Character only')\n",
    "    else:\n",
    "        print(f'ASCII value of {char} is {ord(char)}')\n",
    "\n",
    "ascii_value()"
   ]
  },
  {
   "cell_type": "markdown",
   "id": "54c5abda",
   "metadata": {},
   "source": [
    "5.\tWrite a Python Program to Make a Simple Calculator with 4 basic mathematical operations?"
   ]
  },
  {
   "cell_type": "code",
   "execution_count": 6,
   "id": "7bcfaa32",
   "metadata": {},
   "outputs": [
    {
     "name": "stdout",
     "output_type": "stream",
     "text": [
      "Enter first number: 5\n",
      "Enter second number: 46\n",
      "\n",
      "For Addition :       +\n",
      "For Subtraction :    -\n",
      "For Multiplicaton :  *\n",
      "For Division :       /\n",
      "For stopping Program : S\n",
      "\n",
      "Enter the choice for mathematical operations: +\n",
      "\n",
      "Result:  51\n",
      "Enter first number: 10\n",
      "Enter second number: 7\n",
      "\n",
      "For Addition :       +\n",
      "For Subtraction :    -\n",
      "For Multiplicaton :  *\n",
      "For Division :       /\n",
      "For stopping Program : S\n",
      "\n",
      "Enter the choice for mathematical operations: -\n",
      "\n",
      "Result:  3\n",
      "Enter first number: 7\n",
      "Enter second number: 8\n",
      "\n",
      "For Addition :       +\n",
      "For Subtraction :    -\n",
      "For Multiplicaton :  *\n",
      "For Division :       /\n",
      "For stopping Program : S\n",
      "\n",
      "Enter the choice for mathematical operations: *\n",
      "\n",
      "Result:  56\n",
      "Enter first number: 40\n",
      "Enter second number: 5\n",
      "\n",
      "For Addition :       +\n",
      "For Subtraction :    -\n",
      "For Multiplicaton :  *\n",
      "For Division :       /\n",
      "For stopping Program : S\n",
      "\n",
      "Enter the choice for mathematical operations: /\n",
      "\n",
      "Result:  8.0\n",
      "Enter first number: 6\n",
      "Enter second number: 8\n",
      "\n",
      "For Addition :       +\n",
      "For Subtraction :    -\n",
      "For Multiplicaton :  *\n",
      "For Division :       /\n",
      "For stopping Program : S\n",
      "\n",
      "Enter the choice for mathematical operations: s\n"
     ]
    }
   ],
   "source": [
    "#Ans.\n",
    "try:\n",
    "    \n",
    "    while True:\n",
    "        num1 = int(input(\"Enter first number: \"))\n",
    "        num2 = int(input(\"Enter second number: \"))\n",
    "        \n",
    "        print(\"\\nFor Addition :       +\")\n",
    "        print(\"For Subtraction :    -\")\n",
    "        print(\"For Multiplicaton :  *\")\n",
    "        print(\"For Division :       /\")\n",
    "        print(\"For stopping Program : S\")\n",
    "        \n",
    "        choice = input(\"\\nEnter the choice for mathematical operations: \")\n",
    "        \n",
    "        \n",
    "        if choice == '+':\n",
    "            output = num1 + num2\n",
    "        elif choice == '-':\n",
    "            output = num1 - num2\n",
    "        elif choice == '*':\n",
    "            output = num1 * num2\n",
    "        elif choice == '/':\n",
    "            output = num1 / num2\n",
    "        \n",
    "        if choice == 'S' or choice == 's':\n",
    "            break\n",
    "            \n",
    "        print(\"\\nResult: \", output)\n",
    "                    \n",
    "except Exception as e:\n",
    "    print(e)"
   ]
  },
  {
   "cell_type": "code",
   "execution_count": null,
   "id": "430a052d",
   "metadata": {},
   "outputs": [],
   "source": []
  }
 ],
 "metadata": {
  "kernelspec": {
   "display_name": "Python 3",
   "language": "python",
   "name": "python3"
  },
  "language_info": {
   "codemirror_mode": {
    "name": "ipython",
    "version": 3
   },
   "file_extension": ".py",
   "mimetype": "text/x-python",
   "name": "python",
   "nbconvert_exporter": "python",
   "pygments_lexer": "ipython3",
   "version": "3.8.8"
  }
 },
 "nbformat": 4,
 "nbformat_minor": 5
}
