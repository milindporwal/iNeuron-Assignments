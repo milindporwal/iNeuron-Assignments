{
 "cells": [
  {
   "cell_type": "markdown",
   "id": "71514919",
   "metadata": {},
   "source": [
    "1. Write a Python program to find sum of elements in list?"
   ]
  },
  {
   "cell_type": "code",
   "execution_count": 6,
   "id": "4b7aed48",
   "metadata": {},
   "outputs": [
    {
     "name": "stdout",
     "output_type": "stream",
     "text": [
      "Sum of numbers in the list = 55\n"
     ]
    }
   ],
   "source": [
    "#Ans.\n",
    "my_list = [1, 2, 3, 4, 5,6,7,8,9,10]\n",
    "sum_list = 0\n",
    "\n",
    "for i in range(len(my_list)):\n",
    "    sum_list = sum_list + my_list[i]\n",
    "\n",
    "print(\"Sum of numbers in the list =\", sum_list)"
   ]
  },
  {
   "cell_type": "markdown",
   "id": "6cdf8e0b",
   "metadata": {},
   "source": [
    "2. Write a Python program to  Multiply all numbers in the list?"
   ]
  },
  {
   "cell_type": "code",
   "execution_count": 9,
   "id": "51dedd0a",
   "metadata": {},
   "outputs": [
    {
     "name": "stdout",
     "output_type": "stream",
     "text": [
      "Product of all numbers in the list = 120\n"
     ]
    }
   ],
   "source": [
    "#Ans.\n",
    "my_list = [1, 2, 3, 4, 5]\n",
    "\n",
    "product = 1\n",
    "\n",
    "for number in my_list:\n",
    "    product *= number\n",
    "\n",
    "print(\"Product of all numbers in the list =\", product)"
   ]
  },
  {
   "cell_type": "markdown",
   "id": "b5b599b8",
   "metadata": {},
   "source": [
    "3. Write a Python program to find smallest number in a list?"
   ]
  },
  {
   "cell_type": "code",
   "execution_count": 12,
   "id": "548f413c",
   "metadata": {},
   "outputs": [
    {
     "name": "stdout",
     "output_type": "stream",
     "text": [
      "The smallest number in the list is : 1\n"
     ]
    }
   ],
   "source": [
    "#Ans.\n",
    "my_list = [10, 5, 8, 2, 15, 1]\n",
    "\n",
    "smallest = my_list[0]\n",
    "\n",
    "for number in my_list:\n",
    "    if number < smallest:\n",
    "        smallest = number\n",
    "\n",
    "print(\"The smallest number in the list is :\", smallest)"
   ]
  },
  {
   "cell_type": "markdown",
   "id": "baae8839",
   "metadata": {},
   "source": [
    "4. Write a Python program to find largest number in a list?"
   ]
  },
  {
   "cell_type": "code",
   "execution_count": 13,
   "id": "a6170819",
   "metadata": {},
   "outputs": [
    {
     "name": "stdout",
     "output_type": "stream",
     "text": [
      "The largest number in the list is : 15\n"
     ]
    }
   ],
   "source": [
    "#Ans.\n",
    "my_list = [10, 5, 8, 2, 15, 1]\n",
    "\n",
    "largest = my_list[0]\n",
    "\n",
    "for number in my_list:\n",
    "    if number > largest:\n",
    "        largest = number\n",
    "\n",
    "print(\"The largest number in the list is :\", largest)"
   ]
  },
  {
   "cell_type": "markdown",
   "id": "e5f19449",
   "metadata": {},
   "source": [
    "5. Write a Python program to find second largest number in a list?"
   ]
  },
  {
   "cell_type": "code",
   "execution_count": 15,
   "id": "b50ecad8",
   "metadata": {},
   "outputs": [
    {
     "name": "stdout",
     "output_type": "stream",
     "text": [
      "The second largest number in the list is : 10\n"
     ]
    }
   ],
   "source": [
    "#Ans.\n",
    "my_list = [10, 5, 8, 2, 15, 1]\n",
    "\n",
    "my_list.sort(reverse=True)\n",
    "\n",
    "second_largest = my_list[1]\n",
    "\n",
    "print(\"The second largest number in the list is :\", second_largest)"
   ]
  },
  {
   "cell_type": "markdown",
   "id": "55e0f11c",
   "metadata": {},
   "source": [
    "6. Write a Python program to find N largest elements from a list?"
   ]
  },
  {
   "cell_type": "code",
   "execution_count": 20,
   "id": "bafd2d2d",
   "metadata": {},
   "outputs": [
    {
     "name": "stdout",
     "output_type": "stream",
     "text": [
      "Enter the number of elements in the list: 8\n",
      "Enter a Element: 23\n",
      "Enter a Element: 4\n",
      "Enter a Element: 61\n",
      "Enter a Element: 65\n",
      "Enter a Element: 34\n",
      "Enter a Element: 92\n",
      "Enter a Element: 31\n",
      "Enter a Element: 78\n",
      "The 4 Largest Element in [23, 4, 61, 65, 34, 92, 31, 78] is [92, 78, 65, 61]\n"
     ]
    }
   ],
   "source": [
    "#Ans.\n",
    "def nlargest(k):\n",
    "    in_ele = int(input('Enter the number of elements in the list: '))\n",
    "    in_list = []\n",
    "    for ele in range(in_ele):\n",
    "        in_list.append(int(input('Enter a Element: ')))\n",
    "    print(f'The {k} Largest Element in {in_list} is {sorted(in_list, reverse=True)[0:k]}')\n",
    "\n",
    "nlargest(4)"
   ]
  },
  {
   "cell_type": "markdown",
   "id": "7669b551",
   "metadata": {},
   "source": [
    "7. Write a Python program to print even numbers in a list?"
   ]
  },
  {
   "cell_type": "code",
   "execution_count": 21,
   "id": "1f1b434d",
   "metadata": {},
   "outputs": [
    {
     "name": "stdout",
     "output_type": "stream",
     "text": [
      "Enter the number of elements in the list: 10\n",
      "Enter element 1: 2\n",
      "Enter element 2: 35\n",
      "Enter element 3: 14\n",
      "Enter element 4: 71\n",
      "Enter element 5: 20\n",
      "Enter element 6: 46\n",
      "Enter element 7: 56\n",
      "Enter element 8: 49\n",
      "Enter element 9: 64\n",
      "Enter element 10: 78\n",
      "Even numbers in the list:\n",
      "2\n",
      "14\n",
      "20\n",
      "46\n",
      "56\n",
      "64\n",
      "78\n"
     ]
    }
   ],
   "source": [
    "#Ans.\n",
    "def print_even_numbers(arr):\n",
    "    even_numbers = [num for num in arr if num % 2 == 0]\n",
    "    for num in even_numbers:\n",
    "        print(num)\n",
    "\n",
    "num_elements = int(input(\"Enter the number of elements in the list: \"))\n",
    "\n",
    "my_list = []\n",
    "\n",
    "for i in range(num_elements):\n",
    "    element = int(input(f\"Enter element {i + 1}: \"))\n",
    "    my_list.append(element)\n",
    "\n",
    "print(\"Even numbers in the list:\")\n",
    "print_even_numbers(my_list)"
   ]
  },
  {
   "cell_type": "markdown",
   "id": "f04b0c0f",
   "metadata": {},
   "source": [
    "8. Write a Python program to print odd numbers in a List?"
   ]
  },
  {
   "cell_type": "code",
   "execution_count": 23,
   "id": "aab78ea1",
   "metadata": {},
   "outputs": [
    {
     "name": "stdout",
     "output_type": "stream",
     "text": [
      "Enter the number of elements in the list: 10\n",
      "Enter element 1: 46\n",
      "Enter element 2: 78\n",
      "Enter element 3: 33\n",
      "Enter element 4: 85\n",
      "Enter element 5: 91\n",
      "Enter element 6: 27\n",
      "Enter element 7: 64\n",
      "Enter element 8: 18\n",
      "Enter element 9: 49\n",
      "Enter element 10: 38\n",
      "Odd numbers in the list:\n",
      "33\n",
      "85\n",
      "91\n",
      "27\n",
      "49\n"
     ]
    }
   ],
   "source": [
    "#Ans.\n",
    "def print_odd_numbers(arr):\n",
    "    odd_numbers = [num for num in arr if num % 2 != 0]\n",
    "    for num in odd_numbers:\n",
    "        print(num)\n",
    "\n",
    "num_elements = int(input(\"Enter the number of elements in the list: \"))\n",
    "\n",
    "my_list = []\n",
    "\n",
    "for i in range(num_elements):\n",
    "    element = int(input(f\"Enter element {i + 1}: \"))\n",
    "    my_list.append(element)\n",
    "\n",
    "print(\"Odd numbers in the list:\")\n",
    "print_odd_numbers(my_list)"
   ]
  },
  {
   "cell_type": "markdown",
   "id": "33b4d0df",
   "metadata": {},
   "source": [
    "9. Write a Python program to Remove empty List from List?"
   ]
  },
  {
   "cell_type": "code",
   "execution_count": 24,
   "id": "018a7e90",
   "metadata": {},
   "outputs": [
    {
     "name": "stdout",
     "output_type": "stream",
     "text": [
      "List with empty lists removed:\n",
      "[[1, 2, 3], [4, 5], [6, 7, 8]]\n"
     ]
    }
   ],
   "source": [
    "#Ans.\n",
    "def remove_empty_lists(arr):\n",
    "    non_empty_lists = [lst for lst in arr if lst]\n",
    "    return non_empty_lists\n",
    "\n",
    "my_list = [[], [1, 2, 3], [], [4, 5], [], [6, 7, 8]]\n",
    "\n",
    "filtered_list = remove_empty_lists(my_list)\n",
    "\n",
    "print(\"List with empty lists removed:\")\n",
    "print(filtered_list)"
   ]
  },
  {
   "cell_type": "markdown",
   "id": "240233e9",
   "metadata": {},
   "source": [
    "10. Write a Python program to Cloning or Copying a list?"
   ]
  },
  {
   "cell_type": "code",
   "execution_count": 25,
   "id": "8157fb7b",
   "metadata": {},
   "outputs": [
    {
     "name": "stdout",
     "output_type": "stream",
     "text": [
      "Original List: [1, 2, 3, 4, 5]\n",
      "Cloned List: [1, 2, 3, 4, 5, 6]\n"
     ]
    }
   ],
   "source": [
    "#Ans.\n",
    "original_list = [1, 2, 3, 4, 5]\n",
    "\n",
    "cloned_list = original_list[:]\n",
    "\n",
    "cloned_list.append(6)\n",
    "\n",
    "print(\"Original List:\", original_list)\n",
    "print(\"Cloned List:\", cloned_list)"
   ]
  },
  {
   "cell_type": "markdown",
   "id": "ae96f459",
   "metadata": {},
   "source": [
    "11. Write a Python program to Count occurrences of an element in a list?"
   ]
  },
  {
   "cell_type": "code",
   "execution_count": 26,
   "id": "8f6bddc3",
   "metadata": {},
   "outputs": [
    {
     "name": "stdout",
     "output_type": "stream",
     "text": [
      "The element 2 occurs 4 times in the list.\n"
     ]
    }
   ],
   "source": [
    "#Ans.\n",
    "my_list = [1, 2, 2, 3, 4, 2, 5, 2]\n",
    "\n",
    "element_to_count = 2\n",
    "\n",
    "count = my_list.count(element_to_count)\n",
    "\n",
    "print(f\"The element {element_to_count} occurs {count} times in the list.\")"
   ]
  },
  {
   "cell_type": "code",
   "execution_count": null,
   "id": "3e688ba9",
   "metadata": {},
   "outputs": [],
   "source": []
  }
 ],
 "metadata": {
  "kernelspec": {
   "display_name": "Python 3",
   "language": "python",
   "name": "python3"
  },
  "language_info": {
   "codemirror_mode": {
    "name": "ipython",
    "version": 3
   },
   "file_extension": ".py",
   "mimetype": "text/x-python",
   "name": "python",
   "nbconvert_exporter": "python",
   "pygments_lexer": "ipython3",
   "version": "3.8.8"
  }
 },
 "nbformat": 4,
 "nbformat_minor": 5
}
