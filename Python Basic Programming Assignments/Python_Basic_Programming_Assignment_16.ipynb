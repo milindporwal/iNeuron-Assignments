{
 "cells": [
  {
   "cell_type": "markdown",
   "id": "e1b86d6d",
   "metadata": {},
   "source": [
    "Question1. Write a function that stutters a word as if someone is struggling to read it. The first two letters are repeated twice with an ellipsis ... and space after each, and then the word is pronounced with a question mark ?.\n",
    "Examples\n",
    "stutter(\"incredible\") ➞ \"in... in... incredible?\"\n",
    "\n",
    "stutter(\"enthusiastic\") ➞ \"en... en... enthusiastic?\"\n",
    "\n",
    "stutter(\"outstanding\") ➞ \"ou... ou... outstanding?\"\n",
    "\n",
    "Hint :- Assume all input is in lower case and at least two characters long."
   ]
  },
  {
   "cell_type": "code",
   "execution_count": 3,
   "id": "9359e8e0",
   "metadata": {},
   "outputs": [
    {
     "name": "stdout",
     "output_type": "stream",
     "text": [
      "Enter a word: incredible\n",
      "in... in... incredible?\n"
     ]
    }
   ],
   "source": [
    "#Ans.\n",
    "def stutter(word):\n",
    "    if len(word) < 2:\n",
    "        return \"Word must be at least two characters long.\"\n",
    "    \n",
    "    first_two = word[:2]\n",
    "    return f\"{first_two}... {first_two}... {word}?\"\n",
    "\n",
    "user_input = input(\"Enter a word: \")\n",
    "result = stutter(user_input)\n",
    "print(result)"
   ]
  },
  {
   "cell_type": "markdown",
   "id": "3a6970a8",
   "metadata": {},
   "source": [
    "Question 2.Create a function that takes an angle in radians and returns the corresponding angle in degrees rounded to one decimal place.\n",
    "\n",
    "Examples:\n",
    "\n",
    "radians_to_degrees(1) ➞ 57.3\n",
    "\n",
    "radians_to_degrees(20) ➞ 1145.9\n",
    "\n",
    "radians_to_degrees(50) ➞ 2864.8"
   ]
  },
  {
   "cell_type": "code",
   "execution_count": 6,
   "id": "77aac2b6",
   "metadata": {},
   "outputs": [
    {
     "name": "stdout",
     "output_type": "stream",
     "text": [
      "Enter an angle in radians: 20\n",
      "20.0 radians is equal to 1145.9 degrees.\n"
     ]
    }
   ],
   "source": [
    "#Ans.\n",
    "import math\n",
    "\n",
    "def radians_to_degrees(radians):\n",
    "    degrees = radians * 180 / math.pi\n",
    "    return round(degrees, 1)\n",
    "\n",
    "radians = float(input(\"Enter an angle in radians: \"))\n",
    "\n",
    "degrees = radians_to_degrees(radians)\n",
    "\n",
    "print(f\"{radians} radians is equal to {degrees} degrees.\")"
   ]
  },
  {
   "cell_type": "markdown",
   "id": "218bd433",
   "metadata": {},
   "source": [
    "Question 3. In this challenge, establish if a given integer num is a Curzon number. If 1 plus 2 elevated to num is exactly divisible by 1 plus 2 multiplied by num, then num is a Curzon number.\n",
    "Given a non-negative integer num, implement a function that returns True if num is a Curzon number, or False otherwise.\n",
    "Examples:\n",
    "\n",
    "is_curzon(5) ➞ True\n",
    "2 ** 5 + 1 = 33\n",
    " 2 * 5 + 1 = 11\n",
    " 33 is a multiple of 11\n",
    "\n",
    "is_curzon(10) ➞ False\n",
    " 2 ** 10 + 1 = 1025\n",
    " 2 * 10 + 1 = 21\n",
    " 1025 is not a multiple of 21\n",
    "\n",
    "is_curzon(14) ➞ True\n",
    " 2 ** 14 + 1 = 16385\n",
    " 2 * 14 + 1 = 29\n",
    " 16385 is a multiple of 29"
   ]
  },
  {
   "cell_type": "code",
   "execution_count": 9,
   "id": "b6a2fe2c",
   "metadata": {},
   "outputs": [
    {
     "name": "stdout",
     "output_type": "stream",
     "text": [
      "5 is a Curzon number.\n",
      "10 is not a Curzon number.\n",
      "14 is a Curzon number.\n"
     ]
    }
   ],
   "source": [
    "#Ans.\n",
    "def is_curzon(num):\n",
    "    if num < 0:\n",
    "        return f\"{num} is not a Curzon number.\"\n",
    "\n",
    "    two_pow_num = 2 ** num + 1\n",
    "    two_times_num = 2 * num + 1\n",
    "\n",
    "    if two_pow_num % two_times_num == 0:\n",
    "        return f\"{num} is a Curzon number.\"\n",
    "    else:\n",
    "        return f\"{num} is not a Curzon number.\"\n",
    "\n",
    "print(is_curzon(5))\n",
    "print(is_curzon(10)) \n",
    "print(is_curzon(14))"
   ]
  },
  {
   "cell_type": "markdown",
   "id": "521cdd48",
   "metadata": {},
   "source": [
    "Question 4.Given the side length x find the area of a hexagon.\n",
    "\n",
    "Examples:\n",
    "\n",
    "area_of_hexagon(1) ➞ 2.6\n",
    "\n",
    "area_of_hexagon(2) ➞ 10.4\n",
    "\n",
    "area_of_hexagon(3) ➞ 23.4"
   ]
  },
  {
   "cell_type": "code",
   "execution_count": 13,
   "id": "0dc29792",
   "metadata": {},
   "outputs": [
    {
     "name": "stdout",
     "output_type": "stream",
     "text": [
      "Enter the side length of the hexagon: 2\n",
      "The area of a hexagon with side length 2.0 is 10.4\n"
     ]
    }
   ],
   "source": [
    "#Ans.\n",
    "import math\n",
    "\n",
    "def area_of_hexagon(x):\n",
    "    area = (3 * math.sqrt(3) * x**2) / 2\n",
    "    return round(area, 1)\n",
    "\n",
    "x = float(input(\"Enter the side length of the hexagon: \"))\n",
    "\n",
    "print(f\"The area of a hexagon with side length {x} is {area_of_hexagon(x)}\")"
   ]
  },
  {
   "cell_type": "markdown",
   "id": "8da597e3",
   "metadata": {},
   "source": [
    "Question 5. Create a function that returns a base-2 (binary) representation of a base-10 (decimal) string number. To convert is simple: ((2) means base-2 and (10) means base-10) 010101001(2) = 1 + 8 + 32 + 128.\n",
    "Going from right to left, the value of the most right bit is 1, now from that every bit to the left will be x2 the value, value of an 8 bit binary numbers are (256, 128, 64, 32, 16, 8, 4, 2, 1).\n",
    "\n",
    "Examples:\n",
    "\n",
    "binary(1) ➞ \"1\"\n",
    "1*1 = 1\n",
    "\n",
    "binary(5) ➞ \"101\"\n",
    "1*1 + 1*4 = 5\n",
    "\n",
    "binary(10) ➞ \"1010\"\n",
    "1*2 + 1*8 = 10"
   ]
  },
  {
   "cell_type": "code",
   "execution_count": 16,
   "id": "ef09c13b",
   "metadata": {},
   "outputs": [
    {
     "name": "stdout",
     "output_type": "stream",
     "text": [
      "Enter a decimal number: 10\n",
      "The binary representation of 10 is: 1010\n"
     ]
    }
   ],
   "source": [
    "#Ans.\n",
    "def binary(decimal):\n",
    "    binary_str = \"\"\n",
    "    if decimal == 0:\n",
    "        return \"0\"\n",
    "    \n",
    "    while decimal > 0:\n",
    "        remainder = decimal % 2\n",
    "        binary_str = str(remainder) + binary_str\n",
    "        decimal = decimal // 2\n",
    "    \n",
    "    return binary_str\n",
    "\n",
    "decimal_number = int(input(\"Enter a decimal number: \"))\n",
    "\n",
    "binary_representation = binary(decimal_number)\n",
    "print(f\"The binary representation of {decimal_number} is: {binary_representation}\")"
   ]
  },
  {
   "cell_type": "code",
   "execution_count": null,
   "id": "59c37a2a",
   "metadata": {},
   "outputs": [],
   "source": []
  }
 ],
 "metadata": {
  "kernelspec": {
   "display_name": "Python 3",
   "language": "python",
   "name": "python3"
  },
  "language_info": {
   "codemirror_mode": {
    "name": "ipython",
    "version": 3
   },
   "file_extension": ".py",
   "mimetype": "text/x-python",
   "name": "python",
   "nbconvert_exporter": "python",
   "pygments_lexer": "ipython3",
   "version": "3.8.8"
  }
 },
 "nbformat": 4,
 "nbformat_minor": 5
}
