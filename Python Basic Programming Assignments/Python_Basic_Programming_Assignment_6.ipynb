{
 "cells": [
  {
   "cell_type": "markdown",
   "id": "5678285f",
   "metadata": {},
   "source": [
    "1.\tWrite a Python Program to Display Fibonacci Sequence Using Recursion?"
   ]
  },
  {
   "cell_type": "code",
   "execution_count": 1,
   "id": "1738033b",
   "metadata": {},
   "outputs": [
    {
     "name": "stdout",
     "output_type": "stream",
     "text": [
      "Enter the number of terms: 19\n",
      "Fibonacci Sequence:\n",
      "[0, 1, 1, 2, 3, 5, 8, 13, 21, 34, 55, 89, 144, 233, 377, 610, 987, 1597, 2584]\n"
     ]
    }
   ],
   "source": [
    "#Ans.\n",
    "def fibonacci_recursive(n):\n",
    "    if n <= 0:\n",
    "        return []\n",
    "    elif n == 1:\n",
    "        return [0]\n",
    "    elif n == 2:\n",
    "        return [0, 1]\n",
    "    else:\n",
    "        fib = fibonacci_recursive(n - 1)\n",
    "        fib.append(fib[-1] + fib[-2])\n",
    "        return fib\n",
    "\n",
    "n = int(input(\"Enter the number of terms: \"))\n",
    "\n",
    "fib_sequence = fibonacci_recursive(n)\n",
    "print(\"Fibonacci Sequence:\")\n",
    "print(fib_sequence)"
   ]
  },
  {
   "cell_type": "markdown",
   "id": "5d8dcf34",
   "metadata": {},
   "source": [
    "2. Write a Python Program to Find Factorial of Number Using Recursion?"
   ]
  },
  {
   "cell_type": "code",
   "execution_count": 2,
   "id": "64cf5cfa",
   "metadata": {},
   "outputs": [
    {
     "name": "stdout",
     "output_type": "stream",
     "text": [
      "Enter a number: 7\n",
      "The factorial of 7 is 5040\n"
     ]
    }
   ],
   "source": [
    "#Ans\n",
    "def factorial_recursive(n):\n",
    "    if n == 0:\n",
    "        return 1\n",
    "    else:\n",
    "        return n * factorial_recursive(n - 1)\n",
    "\n",
    "num = int(input(\"Enter a number: \"))\n",
    "\n",
    "if num < 0:\n",
    "    print(\"Factorial is not defined for negative numbers.\")\n",
    "elif num == 0:\n",
    "    print(\"The factorial of 0 is 1\")\n",
    "else:\n",
    "    result = factorial_recursive(num)\n",
    "    print(f\"The factorial of {num} is {result}\")"
   ]
  },
  {
   "cell_type": "markdown",
   "id": "77935536",
   "metadata": {},
   "source": [
    "3. Write a Python Program to calculate your Body Mass Index?"
   ]
  },
  {
   "cell_type": "code",
   "execution_count": 3,
   "id": "2e48815c",
   "metadata": {},
   "outputs": [
    {
     "name": "stdout",
     "output_type": "stream",
     "text": [
      "Enter your height in meters: 1.6\n",
      "Enter your weight in kilograms: 65\n",
      "Your Body Mass Index (BMI) is: 25.39\n",
      "You are overweight.\n"
     ]
    }
   ],
   "source": [
    "#Ans.\n",
    "height = float(input(\"Enter your height in meters: \"))\n",
    "weight = float(input(\"Enter your weight in kilograms: \"))\n",
    "\n",
    "bmi = weight / (height ** 2)\n",
    "\n",
    "print(\"Your Body Mass Index (BMI) is: {:.2f}\".format(bmi))\n",
    "\n",
    "if bmi < 18.5:\n",
    "    print(\"You are underweight.\")\n",
    "elif 18.5 <= bmi < 24.9:\n",
    "    print(\"Your weight is normal.\")\n",
    "elif 24.9 <= bmi < 29.9:\n",
    "    print(\"You are overweight.\")\n",
    "else:\n",
    "    print(\"You are obese.\")"
   ]
  },
  {
   "cell_type": "markdown",
   "id": "42153d2b",
   "metadata": {},
   "source": [
    "4. Write a Python Program to calculate the natural logarithm of any number?"
   ]
  },
  {
   "cell_type": "code",
   "execution_count": 6,
   "id": "f6fa471e",
   "metadata": {},
   "outputs": [
    {
     "name": "stdout",
     "output_type": "stream",
     "text": [
      "Enter a number: 10\n",
      "The natural logarithm of 10.0 is: 2.3026\n"
     ]
    }
   ],
   "source": [
    "#Ans.\n",
    "import math\n",
    "\n",
    "number = float(input(\"Enter a number: \"))\n",
    "\n",
    "if number > 0:\n",
    "    natural_log = math.log(number)\n",
    "    print(\"The natural logarithm of {} is: {:.4f}\".format(number, natural_log))\n",
    "else:\n",
    "    print(\"Cannot calculate the natural logarithm of a non-positive number.\")"
   ]
  },
  {
   "cell_type": "markdown",
   "id": "146af01a",
   "metadata": {},
   "source": [
    "5. Write a Python Program for cube sum of first n natural numbers?"
   ]
  },
  {
   "cell_type": "code",
   "execution_count": 8,
   "id": "5d63a02a",
   "metadata": {},
   "outputs": [
    {
     "name": "stdout",
     "output_type": "stream",
     "text": [
      "Enter a positive integer (n): 3\n",
      "The cube sum of the first 3 natural numbers is: 36\n"
     ]
    }
   ],
   "source": [
    "#Ans.\n",
    "def cube_sum(n):\n",
    "    if n <= 0:\n",
    "        return 0\n",
    "    else:\n",
    "        return (n ** 3) + cube_sum(n - 1)\n",
    "\n",
    "n = int(input(\"Enter a positive integer (n): \"))\n",
    "\n",
    "if n < 0:\n",
    "    print(\"Please enter a positive integer.\")\n",
    "else:\n",
    "    result = cube_sum(n)\n",
    "    print(f\"The cube sum of the first {n} natural numbers is: {result}\")"
   ]
  },
  {
   "cell_type": "code",
   "execution_count": null,
   "id": "6be23da2",
   "metadata": {},
   "outputs": [],
   "source": []
  }
 ],
 "metadata": {
  "kernelspec": {
   "display_name": "Python 3",
   "language": "python",
   "name": "python3"
  },
  "language_info": {
   "codemirror_mode": {
    "name": "ipython",
    "version": 3
   },
   "file_extension": ".py",
   "mimetype": "text/x-python",
   "name": "python",
   "nbconvert_exporter": "python",
   "pygments_lexer": "ipython3",
   "version": "3.8.8"
  }
 },
 "nbformat": 4,
 "nbformat_minor": 5
}
