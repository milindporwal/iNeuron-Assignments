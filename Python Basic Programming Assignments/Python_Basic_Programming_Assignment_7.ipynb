{
 "cells": [
  {
   "cell_type": "markdown",
   "id": "5bb8d627",
   "metadata": {},
   "source": [
    "1. Write a Python Program to find sum of array?"
   ]
  },
  {
   "cell_type": "code",
   "execution_count": 1,
   "id": "00560109",
   "metadata": {},
   "outputs": [
    {
     "name": "stdout",
     "output_type": "stream",
     "text": [
      "Enter an array of integers separated by commas: 3,8,12,84,24,65,19,23,61,94\n",
      "The sum of the array is: 393\n"
     ]
    }
   ],
   "source": [
    "#Ans.\n",
    "def find_array_sum(arr):\n",
    "    sum = 0\n",
    "    for num in arr:\n",
    "        sum += num\n",
    "    return sum\n",
    "\n",
    "input_str = input(\"Enter an array of integers separated by commas: \")\n",
    "try:\n",
    "    \n",
    "    arr = [int(x) for x in input_str.split(\",\")]\n",
    "   \n",
    "    result = find_array_sum(arr)\n",
    "    \n",
    "    print(f\"The sum of the array is: {result}\")\n",
    "except ValueError:\n",
    "    print(\"Invalid input. Please enter a valid array of integers.\")"
   ]
  },
  {
   "cell_type": "markdown",
   "id": "b069132d",
   "metadata": {},
   "source": [
    "2. Write a Python Program to find largest element in an array?"
   ]
  },
  {
   "cell_type": "code",
   "execution_count": 3,
   "id": "019a8b0e",
   "metadata": {},
   "outputs": [
    {
     "name": "stdout",
     "output_type": "stream",
     "text": [
      "Enter an array of integers separated by commas: 35,47,7,19,95,63,765,98,32,8,57\n",
      "The largest element in the array is: 765\n"
     ]
    }
   ],
   "source": [
    "#Ans.\n",
    "\n",
    "def find_largest_element(arr):\n",
    "    if len(arr) == 0:\n",
    "        return None  # Return None for an empty array\n",
    "    max_element = arr[0]\n",
    "    for num in arr:\n",
    "        if num > max_element:\n",
    "            max_element = num\n",
    "    return max_element\n",
    "\n",
    "input_str = input(\"Enter an array of integers separated by commas: \")\n",
    "try:\n",
    "    \n",
    "    arr = [int(x) for x in input_str.split(\",\")]\n",
    "    \n",
    "  \n",
    "    result = find_largest_element(arr)\n",
    "    \n",
    "    if result is not None:\n",
    "        \n",
    "        print(f\"The largest element in the array is: {result}\")\n",
    "    else:\n",
    "        print(\"The array is empty.\")\n",
    "except ValueError:\n",
    "    print(\"Invalid input. Please enter a valid array of integers.\")"
   ]
  },
  {
   "cell_type": "markdown",
   "id": "bbfb8059",
   "metadata": {},
   "source": [
    "3. Write a Python Program for array rotation?"
   ]
  },
  {
   "cell_type": "code",
   "execution_count": 1,
   "id": "a56a5193",
   "metadata": {},
   "outputs": [
    {
     "name": "stdout",
     "output_type": "stream",
     "text": [
      "Enter the array elements separated by spaces: 43 34 56 98 14 6 1 34 21\n",
      "Reversed array: [21, 34, 1, 6, 14, 98, 56, 34, 43]\n"
     ]
    }
   ],
   "source": [
    "#Ans.\n",
    "def reverse_array(arr):\n",
    "    return arr[::-1]\n",
    "\n",
    "input_str = input(\"Enter the array elements separated by spaces: \")\n",
    "arr = input_str.split()\n",
    "\n",
    "try:\n",
    "    arr = [int(x) for x in arr]\n",
    "\n",
    "    reversed_array = reverse_array(arr)\n",
    "    \n",
    "    print(\"Reversed array:\", reversed_array)\n",
    "except ValueError:\n",
    "    print(\"Invalid input. Please enter a valid array of integers.\")\n"
   ]
  },
  {
   "cell_type": "markdown",
   "id": "89b566d8",
   "metadata": {},
   "source": [
    "4. Write a Python Program to Split the array and add the first part to the end?"
   ]
  },
  {
   "cell_type": "code",
   "execution_count": 2,
   "id": "93bc968f",
   "metadata": {},
   "outputs": [
    {
     "name": "stdout",
     "output_type": "stream",
     "text": [
      "Enter the array elements separated by spaces: 2 62 73 59 23 71 38 7\n",
      "Enter the value of 'k' for splitting: 4\n",
      "Modified array: [23, 71, 38, 7, 2, 62, 73, 59]\n"
     ]
    }
   ],
   "source": [
    "#Ans.\n",
    "def split_and_add(arr, k):\n",
    "    if k > 0 and k <= len(arr):\n",
    "        first_part = arr[:k]\n",
    "        second_part = arr[k:]\n",
    "        result = second_part + first_part\n",
    "        return result\n",
    "    else:\n",
    "        return \"Invalid value of 'k'.\"\n",
    "\n",
    "\n",
    "input_str = input(\"Enter the array elements separated by spaces: \")\n",
    "arr = input_str.split()\n",
    "\n",
    "try:\n",
    "    arr = [int(x) for x in arr]\n",
    "    \n",
    "    k = int(input(\"Enter the value of 'k' for splitting: \"))\n",
    "\n",
    "    result = split_and_add(arr, k)\n",
    "\n",
    "    print(\"Modified array:\", result)\n",
    "except ValueError:\n",
    "    print(\"Invalid input. Please enter a valid array of integers and a valid value for 'k'.\")"
   ]
  },
  {
   "cell_type": "markdown",
   "id": "143291ab",
   "metadata": {},
   "source": [
    "5. Write a Python Program to check if given array is Monotonic?"
   ]
  },
  {
   "cell_type": "code",
   "execution_count": 9,
   "id": "41c1a731",
   "metadata": {},
   "outputs": [
    {
     "name": "stdout",
     "output_type": "stream",
     "text": [
      "Enter the array elements separated by spaces: 1 2 3 4 5 6 7 8\n",
      "The given array is monotonic.\n"
     ]
    }
   ],
   "source": [
    "#Ans.\n",
    "def is_monotonic(arr):\n",
    "    increasing = decreasing = True\n",
    "    \n",
    "    for i in range(1, len(arr)):\n",
    "        if arr[i] > arr[i - 1]:\n",
    "            decreasing = False\n",
    "        elif arr[i] < arr[i - 1]:\n",
    "            increasing = False\n",
    "        \n",
    "    return increasing or decreasing\n",
    "\n",
    "input_str = input(\"Enter the array elements separated by spaces: \")\n",
    "arr = input_str.split()\n",
    "\n",
    "try:\n",
    "    arr = [int(x) for x in arr]\n",
    "\n",
    "    if is_monotonic(arr):\n",
    "        print(\"The given array is monotonic.\")\n",
    "    else:\n",
    "        print(\"The given array is not monotonic.\")\n",
    "except ValueError:\n",
    "    print(\"Invalid input. Please enter a valid array of integers.\")"
   ]
  },
  {
   "cell_type": "code",
   "execution_count": 10,
   "id": "423304a9",
   "metadata": {},
   "outputs": [
    {
     "name": "stdout",
     "output_type": "stream",
     "text": [
      "Enter the array elements separated by spaces: 2 5 7 8 9 4\n",
      "The given array is not monotonic.\n"
     ]
    }
   ],
   "source": [
    "#Ans.\n",
    "def is_monotonic(arr):\n",
    "    increasing = decreasing = True\n",
    "    \n",
    "    for i in range(1, len(arr)):\n",
    "        if arr[i] > arr[i - 1]:\n",
    "            decreasing = False\n",
    "        elif arr[i] < arr[i - 1]:\n",
    "            increasing = False\n",
    "        \n",
    "    return increasing or decreasing\n",
    "\n",
    "input_str = input(\"Enter the array elements separated by spaces: \")\n",
    "arr = input_str.split()\n",
    "\n",
    "try:\n",
    "    arr = [int(x) for x in arr]\n",
    "\n",
    "    if is_monotonic(arr):\n",
    "        print(\"The given array is monotonic.\")\n",
    "    else:\n",
    "        print(\"The given array is not monotonic.\")\n",
    "except ValueError:\n",
    "    print(\"Invalid input. Please enter a valid array of integers.\")"
   ]
  },
  {
   "cell_type": "code",
   "execution_count": null,
   "id": "826b41f6",
   "metadata": {},
   "outputs": [],
   "source": []
  }
 ],
 "metadata": {
  "kernelspec": {
   "display_name": "Python 3",
   "language": "python",
   "name": "python3"
  },
  "language_info": {
   "codemirror_mode": {
    "name": "ipython",
    "version": 3
   },
   "file_extension": ".py",
   "mimetype": "text/x-python",
   "name": "python",
   "nbconvert_exporter": "python",
   "pygments_lexer": "ipython3",
   "version": "3.8.8"
  }
 },
 "nbformat": 4,
 "nbformat_minor": 5
}
