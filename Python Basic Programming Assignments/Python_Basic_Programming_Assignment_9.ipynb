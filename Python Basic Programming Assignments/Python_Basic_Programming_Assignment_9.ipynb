{
 "cells": [
  {
   "cell_type": "markdown",
   "id": "dd0dceea",
   "metadata": {},
   "source": [
    "1. Write a Python program to check if the given number is a Disarium Number?"
   ]
  },
  {
   "cell_type": "code",
   "execution_count": 4,
   "id": "ff8b771b",
   "metadata": {},
   "outputs": [
    {
     "name": "stdout",
     "output_type": "stream",
     "text": [
      "Enter a number: 45\n",
      "45 is not a Disarium Number\n",
      "Enter a number: 135\n",
      "135 is a Disarium Number\n"
     ]
    }
   ],
   "source": [
    "#Ans. A disarium number is a number in which the sum of the digits to the power of their respective position is equal to the \n",
    "# number itself (position is counted from left to right starting from 1).\n",
    "# Example of a Disarium number is 175, 1¹ + 7² + 5³ = 1 + 49 + 125= 175.\"\"\"\"\n",
    "\n",
    "def is_disarium_number(num):\n",
    "    num_str = str(num)\n",
    "    total = sum(int(digit) ** (i + 1) for i, digit in enumerate(num_str))\n",
    "    \n",
    "    return total == num\n",
    "\n",
    "def check_disarium_number():\n",
    "    num = int(input('Enter a number: '))\n",
    "    if is_disarium_number(num):\n",
    "        print(f'{num} is a Disarium Number')\n",
    "    else:\n",
    "        print(f'{num} is not a Disarium Number')\n",
    "\n",
    "check_disarium_number()\n",
    "check_disarium_number()"
   ]
  },
  {
   "cell_type": "markdown",
   "id": "462a3d15",
   "metadata": {},
   "source": [
    "2. Write a Python program to print all disarium numbers between 1 to 100?"
   ]
  },
  {
   "cell_type": "code",
   "execution_count": 5,
   "id": "bd1726d2",
   "metadata": {},
   "outputs": [
    {
     "name": "stdout",
     "output_type": "stream",
     "text": [
      "Disarium numbers between 1 and 100:\n",
      "[1, 2, 3, 4, 5, 6, 7, 8, 9, 89]\n"
     ]
    }
   ],
   "source": [
    "#Ans.\n",
    "def is_disarium_number(num):\n",
    "    num_str = str(num)\n",
    "    total = sum(int(digit) ** (i + 1) for i, digit in enumerate(num_str))\n",
    "    \n",
    "    return total == num\n",
    "\n",
    "def find_disarium_numbers(start, end):\n",
    "    disarium_numbers = []\n",
    "    for num in range(start, end + 1):\n",
    "        if is_disarium_number(num):\n",
    "            disarium_numbers.append(num)\n",
    "    return disarium_numbers\n",
    "\n",
    "start_range = 1\n",
    "end_range = 100\n",
    "disarium_numbers = find_disarium_numbers(start_range, end_range)\n",
    "\n",
    "print(f\"Disarium numbers between {start_range} and {end_range}:\")\n",
    "print(disarium_numbers)"
   ]
  },
  {
   "cell_type": "markdown",
   "id": "64698275",
   "metadata": {},
   "source": [
    "3. Write a Python program to check if the given number is Happy Number?"
   ]
  },
  {
   "cell_type": "markdown",
   "id": "ddf01509",
   "metadata": {},
   "source": [
    "Ans.\n",
    "A number is called happy if it leads to 1 after a sequence of steps wherein each step number is replaced by the sum of squares of its digit that is if we start with Happy Number and keep replacing it with digits square sum, we reach 1. \n",
    "\n",
    "Examples : \n",
    "\n",
    "Input: n = 19\n",
    "Output: True\n",
    "19 is Happy Number,\n",
    "1^2 + 9^2 = 82\n",
    "8^2 + 2^2 = 68\n",
    "6^2 + 8^2 = 100\n",
    "1^2 + 0^2 + 0^2 = 1"
   ]
  },
  {
   "cell_type": "code",
   "execution_count": 6,
   "id": "613dee0f",
   "metadata": {},
   "outputs": [
    {
     "name": "stdout",
     "output_type": "stream",
     "text": [
      "Enter a Number: 19\n",
      "19 is a Happy Number\n",
      "Enter a Number: 45\n",
      "45 is not a Happy Number\n"
     ]
    }
   ],
   "source": [
    "def is_happy_number():\n",
    "    in_num = input('Enter a Number: ')\n",
    "    in_num_duplicate = in_num\n",
    "    trackNumber = set()   \n",
    "    while True:\n",
    "        if in_num != '1' and str(in_num) not in trackNumber:\n",
    "            trackNumber.add(in_num)\n",
    "            sum = 0\n",
    "            for ele in range(len((in_num))):\n",
    "                sum = sum + int(in_num[ele])**2\n",
    "            in_num = str(sum)\n",
    "        elif str(in_num) in trackNumber:\n",
    "            print(f'{in_num_duplicate} is not a Happy Number')\n",
    "            break\n",
    "        else:\n",
    "            print(f'{in_num_duplicate} is a Happy Number')\n",
    "            break\n",
    "\n",
    "is_happy_number()\n",
    "is_happy_number()"
   ]
  },
  {
   "cell_type": "markdown",
   "id": "fde1fb74",
   "metadata": {},
   "source": [
    "4. Write a Python program to print all happy numbers between 1 and 100?"
   ]
  },
  {
   "cell_type": "code",
   "execution_count": 8,
   "id": "30f3275b",
   "metadata": {},
   "outputs": [
    {
     "name": "stdout",
     "output_type": "stream",
     "text": [
      "Happy Numbers between 0 and 100 are [1, 7, 10, 13, 19, 23, 28, 31, 32, 44, 49, 68, 70, 79, 82, 86, 91, 94, 97, 100]\n"
     ]
    }
   ],
   "source": [
    "#Ans.\n",
    "def is_happy_number(start=0,end=100):\n",
    "    happyNumbersList = []\n",
    "    for in_num in range(start,end+1):\n",
    "        in_num = str(in_num)\n",
    "        inum_holder = in_num\n",
    "        trackNumber = set()   \n",
    "        while True:\n",
    "            if in_num != '1' and str(in_num) not in trackNumber:\n",
    "                trackNumber.add(in_num)\n",
    "                sum = 0\n",
    "                for ele in range(len((in_num))):\n",
    "                    sum = sum + int(in_num[ele])**2\n",
    "                in_num = str(sum)\n",
    "            elif str(in_num) in trackNumber:\n",
    "                break\n",
    "            else:\n",
    "                happyNumbersList.append(int(inum_holder))\n",
    "                break\n",
    "    print(f'Happy Numbers between {start} and {end} are {happyNumbersList}')\n",
    "    \n",
    "is_happy_number(0,100)"
   ]
  },
  {
   "cell_type": "markdown",
   "id": "88e29ba1",
   "metadata": {},
   "source": [
    "5. Write a Python program to determine whether the given number is a Harshad Number?"
   ]
  },
  {
   "cell_type": "markdown",
   "id": "6bca4cc8",
   "metadata": {},
   "source": [
    "Ans.\n",
    "An integer number in base 10 which is divisible by the sum of its digits is said to be a Harshad Number. An n-Harshad number is an integer number divisible by the sum of its digit in base n.\n",
    "Below are the first few Harshad Numbers represented in base 10:\n",
    "1, 2, 3, 4, 5, 6, 7, 8, 9, 10, 12, 18, 20………"
   ]
  },
  {
   "cell_type": "code",
   "execution_count": 1,
   "id": "4650013e",
   "metadata": {},
   "outputs": [
    {
     "name": "stdout",
     "output_type": "stream",
     "text": [
      "Enter a Number: 78\n",
      "78 is not a Harshad Number\n",
      "Enter a Number: 20\n",
      "20 is a Harshad Number\n"
     ]
    }
   ],
   "source": [
    "def is_harshad_number():\n",
    "    in_num = input('Enter a Number: ')\n",
    "    sum = 0\n",
    "    for item in range(len(in_num)):\n",
    "        sum = sum + int(in_num[item])\n",
    "    if int(in_num)%sum == 0:\n",
    "        print(f'{in_num} is a Harshad Number')\n",
    "    else:\n",
    "        print(f'{in_num} is not a Harshad Number')\n",
    "        \n",
    "is_harshad_number()\n",
    "is_harshad_number()"
   ]
  },
  {
   "cell_type": "markdown",
   "id": "b1f7cec2",
   "metadata": {},
   "source": [
    "6. Write a Python program to print all pronic numbers between 1 and 100?"
   ]
  },
  {
   "cell_type": "markdown",
   "id": "3a85f551",
   "metadata": {},
   "source": [
    "Ans. The numbers that can be arranged to form a rectangle are called Rectangular Numbers (also known as Pronic numbers). The first few Pronic numbers are: \n",
    "0, 2, 6, 12, 20, 30, 42, 56, 72, 90, 110, 132, 156, 182, 210, 240, 272, 306, 342, 380, 420, 462 . . . . . . \n",
    "Pronic number is a number which is the product of two consecutive integers, that is, a number n is a product of x and (x+1)."
   ]
  },
  {
   "cell_type": "code",
   "execution_count": 3,
   "id": "fe987752",
   "metadata": {},
   "outputs": [
    {
     "name": "stdout",
     "output_type": "stream",
     "text": [
      "Pronic numbers between 1 and 100 are:\n",
      "2 6 12 20 30 42 56 72 90 "
     ]
    }
   ],
   "source": [
    "def isPronicNumber(num):\n",
    "    for i in range(1, num + 1):\n",
    "        if i * (i + 1) == num:\n",
    "            return True\n",
    "    return False\n",
    "\n",
    "def printPronicNumbers():\n",
    "    print(\"Pronic numbers between 1 and 100 are:\")\n",
    "    for num in range(1, 101):\n",
    "        if isPronicNumber(num):\n",
    "            print(num, end=\" \")\n",
    "\n",
    "printPronicNumbers()"
   ]
  },
  {
   "cell_type": "code",
   "execution_count": null,
   "id": "1b4f6c47",
   "metadata": {},
   "outputs": [],
   "source": []
  }
 ],
 "metadata": {
  "kernelspec": {
   "display_name": "Python 3",
   "language": "python",
   "name": "python3"
  },
  "language_info": {
   "codemirror_mode": {
    "name": "ipython",
    "version": 3
   },
   "file_extension": ".py",
   "mimetype": "text/x-python",
   "name": "python",
   "nbconvert_exporter": "python",
   "pygments_lexer": "ipython3",
   "version": "3.8.8"
  }
 },
 "nbformat": 4,
 "nbformat_minor": 5
}
