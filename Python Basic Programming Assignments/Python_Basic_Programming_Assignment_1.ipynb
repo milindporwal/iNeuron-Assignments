{
 "cells": [
  {
   "cell_type": "markdown",
   "id": "83d2273a",
   "metadata": {},
   "source": [
    "1.\tWrite a Python program to print \"Hello Python\"?"
   ]
  },
  {
   "cell_type": "code",
   "execution_count": 1,
   "id": "6e4b936e",
   "metadata": {},
   "outputs": [
    {
     "name": "stdout",
     "output_type": "stream",
     "text": [
      "Hello Python\n"
     ]
    }
   ],
   "source": [
    "#Ans.\n",
    "print(\"Hello Python\")"
   ]
  },
  {
   "cell_type": "markdown",
   "id": "0cc33357",
   "metadata": {},
   "source": [
    "2.\tWrite a Python program to do arithmetical operations addition and division?"
   ]
  },
  {
   "cell_type": "code",
   "execution_count": 5,
   "id": "988fb345",
   "metadata": {},
   "outputs": [
    {
     "name": "stdout",
     "output_type": "stream",
     "text": [
      "Enter first number: 4\n",
      "Enter second number: 8\n",
      "4 + 8 is 12\n",
      "4 by 8 is 0.5\n"
     ]
    }
   ],
   "source": [
    "#Ans.\n",
    "a = int(input('Enter first number: '))\n",
    "b = int(input('Enter second number: '))\n",
    "\n",
    "print(f'{a} + {b} is {a + b}')\n",
    "print(f'{a} by {b} is {a/b}')"
   ]
  },
  {
   "cell_type": "markdown",
   "id": "72af6a2c",
   "metadata": {},
   "source": [
    "3.\tWrite a Python program to find the area of a triangle?"
   ]
  },
  {
   "cell_type": "code",
   "execution_count": 6,
   "id": "d43d4a63",
   "metadata": {},
   "outputs": [
    {
     "name": "stdout",
     "output_type": "stream",
     "text": [
      "Enter Length base of triangle : 10\n",
      "Enter height of triangle : 4\n",
      "The area of the triangle is : 20.0\n"
     ]
    }
   ],
   "source": [
    "#Ans.\n",
    "\n",
    "base = float(input(\"Enter Length base of triangle : \"))\n",
    "height = float(input(\"Enter height of triangle : \"))\n",
    "\n",
    "area = 0.5 * base * height\n",
    "\n",
    "print(\"The area of the triangle is :\", area)"
   ]
  },
  {
   "cell_type": "markdown",
   "id": "bdc569bb",
   "metadata": {},
   "source": [
    "4.\tWrite a Python program to swap two variables?"
   ]
  },
  {
   "cell_type": "code",
   "execution_count": 9,
   "id": "62515dab",
   "metadata": {},
   "outputs": [
    {
     "name": "stdout",
     "output_type": "stream",
     "text": [
      "Initial values of variable 1 and variable 2:\n",
      "var_1 = 47 and var_2 = 64\n",
      "\n",
      "Values of variable 1 and variable 2 after swapping:\n",
      "var_1 = 64 and var_2 = 47\n"
     ]
    }
   ],
   "source": [
    "#Ans.\n",
    "var_1 = 47\n",
    "var_2 = 64\n",
    "print('Initial values of variable 1 and variable 2:\\nvar_1 = {} and var_2 = {}'.format(var_1, var_2))\n",
    "\n",
    "temp = var_1\n",
    "var_1 = var_2\n",
    "var_2 = temp\n",
    "print('\\nValues of variable 1 and variable 2 after swapping:\\nvar_1 = {} and var_2 = {}'.format(var_1, var_2))"
   ]
  },
  {
   "cell_type": "markdown",
   "id": "596bb765",
   "metadata": {},
   "source": [
    "5.\tWrite a Python program to generate a random number?"
   ]
  },
  {
   "cell_type": "code",
   "execution_count": 16,
   "id": "f577f235",
   "metadata": {},
   "outputs": [
    {
     "name": "stdout",
     "output_type": "stream",
     "text": [
      "24\n"
     ]
    }
   ],
   "source": [
    "#Ans.\n",
    "import random\n",
    "random_number = random.randint(0, 100)\n",
    "print(random_number)"
   ]
  },
  {
   "cell_type": "code",
   "execution_count": null,
   "id": "4b6a0bf5",
   "metadata": {},
   "outputs": [],
   "source": []
  }
 ],
 "metadata": {
  "kernelspec": {
   "display_name": "Python 3",
   "language": "python",
   "name": "python3"
  },
  "language_info": {
   "codemirror_mode": {
    "name": "ipython",
    "version": 3
   },
   "file_extension": ".py",
   "mimetype": "text/x-python",
   "name": "python",
   "nbconvert_exporter": "python",
   "pygments_lexer": "ipython3",
   "version": "3.8.8"
  }
 },
 "nbformat": 4,
 "nbformat_minor": 5
}
